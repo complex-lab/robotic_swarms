{
 "cells": [
  {
   "cell_type": "code",
   "execution_count": null,
   "id": "2ef60f26-a245-4702-bf55-7ae77cedeb40",
   "metadata": {},
   "outputs": [],
   "source": []
  },
  {
   "cell_type": "code",
   "execution_count": 1,
   "id": "1e743111-d070-4d88-aff0-e04618a9f474",
   "metadata": {},
   "outputs": [],
   "source": [
    "%matplotlib inline\n",
    "#%matplotlib widget"
   ]
  },
  {
   "cell_type": "code",
   "execution_count": 2,
   "id": "9df1b89e-5d6b-42cb-85d8-4612a77d1751",
   "metadata": {},
   "outputs": [],
   "source": [
    "#############imports######################################################################\n",
    "import cv2 as cv2\n",
    "from matplotlib import pyplot as plt\n",
    "import pandas as pd\n",
    "import numpy as np\n",
    "import trackpy as tp\n",
    "import scipy as sc\n",
    "import matplotlib.colors as colors\n",
    "import os\n",
    "from ipywidgets import HBox, Textarea, interact"
   ]
  },
  {
   "cell_type": "code",
   "execution_count": 69,
   "id": "77cf7b60-3cce-4a0f-903e-eb07cf52f80e",
   "metadata": {},
   "outputs": [],
   "source": [
    "def read_time(time_value):\n",
    "    fps=25\n",
    "    sign_index=time_value.index(':')\n",
    "    minutes=int(time_value[0:sign_index])\n",
    "    sec=int(time_value[sign_index+1:len(time_value)])\n",
    "    frames=(minutes*60+sec)*25\n",
    "    return frames\n",
    "#def expShift(t,A,tau,k):\n",
    "#    return A*np.exp(-t/tau)+k\n",
    "def expShift(t,A,tau,k):\n",
    "    return A*np.exp(-(t**2)/((tau**2)))+k\n",
    "#def CovToCorr(cov_data):\n",
    "#    shape=cov_data.shape\n",
    "#    result=[]\n",
    "#    for i in range(0,shape):\n",
    "def powerlaw(x,A,n):\n",
    "    return A*x**n\n",
    "def linear_fit_log(x,n,A):\n",
    "    return n*x+A\n",
    "    "
   ]
  },
  {
   "cell_type": "code",
   "execution_count": 4,
   "id": "e89e51a4-4cc7-4a7a-8239-754cf008639d",
   "metadata": {},
   "outputs": [],
   "source": [
    "expSumFileNamePassive='C:\\\\Users\\\\User\\\\Documents\\\\Eden\\\\locate_git_code\\\\packaged\\\\expSumPack_botnum_28cm.csv'\n",
    "expSumPassive=pd.read_csv(expSumFileNamePassive,index_col=0)\n",
    "passive_path='C:\\\\Users\\\\User\\\\Documents\\\\Eden\\\\locate_git_code\\\\packaged'\n",
    "all_data=pd.DataFrame()\n",
    "for index,row in expSumPassive.iterrows():\n",
    "    #bot experiment loop\n",
    "    FileName=row.linkingFileNamePack\n",
    "    bot_num_current=row.bots\n",
    "    starting_frame=read_time(row.start_min)\n",
    "    data=pd.read_csv(passive_path+'\\\\'+FileName,index_col=0)\n",
    "    relevant_data=data.iloc[starting_frame:len(data)].reset_index()\n",
    "    relevant_data['Filename']=[FileName]*len(relevant_data)\n",
    "    relevant_data['BotNum']=[row.bots]*len(relevant_data)\n",
    "    relevant_data['BotType']=[row.bottype]*len(relevant_data)\n",
    "    all_data=pd.concat([all_data,relevant_data],axis=0)\n",
    "all_data.to_csv(passive_path+'\\\\all_linking_passive_data_28cm.csv')"
   ]
  },
  {
   "cell_type": "code",
   "execution_count": 7,
   "id": "0cdaa913-64a9-4c1e-a2f5-b5f0ff4d9cdd",
   "metadata": {},
   "outputs": [
    {
     "name": "stdout",
     "output_type": "stream",
     "text": [
      "       frame  frame.1      x      y      r  particle  \\\n",
      "0        851      851  658.5  557.5  103.2         0   \n",
      "1        852      852  657.5  560.5  105.4         0   \n",
      "2        853      853  659.5  557.5  104.3         0   \n",
      "3        854      854  658.5  557.5  103.2         0   \n",
      "4        855      855  658.5  557.5  103.2         0   \n",
      "...      ...      ...    ...    ...    ...       ...   \n",
      "29421  30272    30272  345.5  872.5  104.3         0   \n",
      "29422  30273    30273  344.5  871.5  103.2         0   \n",
      "29423  30274    30274  345.5  872.5  104.3         0   \n",
      "29424  30275    30275  345.5  869.5  104.3         0   \n",
      "29425  30276    30276  344.5  870.5  103.2         0   \n",
      "\n",
      "                                   Filename  BotNum  BotType  \n",
      "0      aligner_N021_D028_C0498.MP4_link.csv      21  aligner  \n",
      "1      aligner_N021_D028_C0498.MP4_link.csv      21  aligner  \n",
      "2      aligner_N021_D028_C0498.MP4_link.csv      21  aligner  \n",
      "3      aligner_N021_D028_C0498.MP4_link.csv      21  aligner  \n",
      "4      aligner_N021_D028_C0498.MP4_link.csv      21  aligner  \n",
      "...                                     ...     ...      ...  \n",
      "29421  aligner_N021_D028_C0498.MP4_link.csv      21  aligner  \n",
      "29422  aligner_N021_D028_C0498.MP4_link.csv      21  aligner  \n",
      "29423  aligner_N021_D028_C0498.MP4_link.csv      21  aligner  \n",
      "29424  aligner_N021_D028_C0498.MP4_link.csv      21  aligner  \n",
      "29425  aligner_N021_D028_C0498.MP4_link.csv      21  aligner  \n",
      "\n",
      "[29426 rows x 9 columns]\n"
     ]
    }
   ],
   "source": [
    "print(relevant_data)"
   ]
  },
  {
   "cell_type": "code",
   "execution_count": 77,
   "id": "6a5a7f82-dcb8-4fe6-9d46-fbeec2aab988",
   "metadata": {},
   "outputs": [
    {
     "name": "stdout",
     "output_type": "stream",
     "text": [
      "3\n",
      "3269\n",
      "Float64Index([  1.0,  1.04,  1.08,  1.12,  1.16,   1.2,  1.24,  1.28,  1.32,\n",
      "               1.36,\n",
      "              ...\n",
      "              99.64, 99.68, 99.72, 99.76,  99.8, 99.84, 99.88, 99.92, 99.96,\n",
      "              100.0],\n",
      "             dtype='float64', name='lag time [s]', length=2476)\n",
      "[ 1.64515658 -3.40018376]\n",
      "[0.00150181 0.00564271]\n"
     ]
    },
    {
     "data": {
      "text/plain": [
       "Text(0, 0.5, 'MSD $\\\\left[\\\\rm{cm}^2\\\\right]$')"
      ]
     },
     "execution_count": 77,
     "metadata": {},
     "output_type": "execute_result"
    },
    {
     "data": {
      "image/png": "[encoded data removed]",
      "text/plain": [
       "<Figure size 640x480 with 1 Axes>"
      ]
     },
     "metadata": {},
     "output_type": "display_data"
    }
   ],
   "source": [
    "arenaSizePixels = 1090 # [pixels]\n",
    "arenaSizeCm = 150 # [cm]\n",
    "fps =25\n",
    "mpp = arenaSizeCm/arenaSizePixels/2 #[cm/pixel]\n",
    "data=pd.read_csv(passive_path+'\\\\'+FileName,index_col=0)\n",
    "relevant_data_try = tp.filter_stubs(relevant_data,threshold=100)\n",
    "max_lagtime=int(len(relevant_data)/3)\n",
    "imsd_try = tp.imsd(relevant_data_try,fps=fps,mpp=mpp,max_lagtime=max_lagtime)\n",
    "lag_time_thresh=int(len(imsd_try)/3000)\n",
    "max_lagtime_thresh=int(len(imsd_try)/3)\n",
    "print(lag_time_thresh)\n",
    "print(max_lagtime_thresh)\n",
    "relevant_imsd=imsd_try.loc[1:100]\n",
    "print(relevant_imsd.index)\n",
    "fig,ax = plt.subplots()\n",
    "ax.plot(np.log(imsd_try.index),np.log(imsd_try),label='msd')\n",
    "p0=np.array([2,0.5])\n",
    "popt,pcov = sc.optimize.curve_fit(linear_fit_log,np.log(relevant_imsd.index),np.log(relevant_imsd.iloc[:,0]),p0=p0)\n",
    "perr = np.sqrt(np.diag(pcov))\n",
    "corr=np.corrcoef(pcov,rowvar=True)\n",
    "print(popt)\n",
    "print(perr)\n",
    "fit_x=np.log(relevant_imsd.index)\n",
    "fit_y=fit_x*popt[0]+popt[1]\n",
    "ax.plot(fit_x,fit_y,'--')\n",
    "#ax.plot(df.frame,df.x)\n",
    "#ax.plot(df.frame,df.y)\n",
    "x = np.linspace(1,10,10)\n",
    "y = 0.02E0*x**1.75\n",
    "#ax.loglog(x,y,'--',label='1.75')\n",
    "#ax.axis([0.01,2000,0.01,1E4])\n",
    "ax.grid()\n",
    "\n",
    "ax.set_xlabel(r'lag time $\\left[\\rm{s}\\right]$')\n",
    "ax.set_ylabel(r'MSD $\\left[\\rm{cm}^2\\right]$')"
   ]
  },
  {
   "cell_type": "code",
   "execution_count": null,
   "id": "357699b2-2629-4206-ab03-79e84cb4fdca",
   "metadata": {},
   "outputs": [],
   "source": [
    "arenaSizePixels = 1090 # [pixels]\n",
    "arenaSizeCm = 150 # [cm]\n",
    "fps =25\n",
    "mpp = arenaSizeCm/arenaSizePixels/2 #[cm/pixel]\n",
    "for index,row in expSumPassive.iterrows():\n",
    "    FileName=row.linkingFileNamePack\n",
    "    current_data=all_data[(all_data['FileName']==FileName)]\n",
    "    \n",
    "    imsd = tp.imsd(t,fps=fps,mpp=mpp,max_lagtime=len(current_data)/3)"
   ]
  }
 ],
 "metadata": {
  "kernelspec": {
   "display_name": "Python 3 (ipykernel)",
   "language": "python",
   "name": "python3"
  },
  "language_info": {
   "codemirror_mode": {
    "name": "ipython",
    "version": 3
   },
   "file_extension": ".py",
   "mimetype": "text/x-python",
   "name": "python",
   "nbconvert_exporter": "python",
   "pygments_lexer": "ipython3",
   "version": "3.8.1"
  }
 },
 "nbformat": 4,
 "nbformat_minor": 5
}
