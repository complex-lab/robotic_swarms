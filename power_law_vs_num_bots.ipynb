{
 "cells": [
  {
   "cell_type": "code",
   "execution_count": null,
   "id": "2ef60f26-a245-4702-bf55-7ae77cedeb40",
   "metadata": {},
   "outputs": [],
   "source": []
  },
  {
   "cell_type": "code",
   "execution_count": 2,
   "id": "1e743111-d070-4d88-aff0-e04618a9f474",
   "metadata": {},
   "outputs": [],
   "source": [
    "%matplotlib inline\n",
    "#%matplotlib widget"
   ]
  },
  {
   "cell_type": "code",
   "execution_count": 3,
   "id": "9df1b89e-5d6b-42cb-85d8-4612a77d1751",
   "metadata": {},
   "outputs": [],
   "source": [
    "#############imports######################################################################\n",
    "import cv2 as cv2\n",
    "from matplotlib import pyplot as plt\n",
    "import pandas as pd\n",
    "import numpy as np\n",
    "import trackpy as tp\n",
    "import scipy as sc\n",
    "import matplotlib.colors as colors\n",
    "import os\n",
    "from ipywidgets import HBox, Textarea, interact"
   ]
  },
  {
   "cell_type": "code",
   "execution_count": 4,
   "id": "77cf7b60-3cce-4a0f-903e-eb07cf52f80e",
   "metadata": {},
   "outputs": [],
   "source": [
    "def read_time(time_value):\n",
    "    fps=25\n",
    "    sign_index=time_value.index(':')\n",
    "    minutes=int(time_value[0:sign_index])\n",
    "    sec=int(time_value[sign_index+1:len(time_value)])\n",
    "    frames=(minutes*60+sec)*25\n",
    "    return frames\n",
    "#def expShift(t,A,tau,k):\n",
    "#    return A*np.exp(-t/tau)+k\n",
    "def expShift(t,A,tau,k):\n",
    "    return A*np.exp(-(t**2)/((tau**2)))+k\n",
    "#def CovToCorr(cov_data):\n",
    "#    shape=cov_data.shape\n",
    "#    result=[]\n",
    "#    for i in range(0,shape):\n",
    "def powerlaw(x,A,n):\n",
    "    return A*x**n\n",
    "def linear_fit_log(x,n,A):\n",
    "    return n*x+A\n",
    "    "
   ]
  },
  {
   "cell_type": "code",
   "execution_count": 5,
   "id": "e89e51a4-4cc7-4a7a-8239-754cf008639d",
   "metadata": {},
   "outputs": [],
   "source": [
    "expSumFileNamePassive='C:\\\\Users\\\\User\\\\Documents\\\\Eden\\\\locate_git_code\\\\packaged\\\\expSumPack_botnum_28cm_updated.csv'\n",
    "expSumPassive=pd.read_csv(expSumFileNamePassive,index_col=0)\n",
    "passive_path='C:\\\\Users\\\\User\\\\Documents\\\\Eden\\\\locate_git_code\\\\packaged'\n",
    "all_data=pd.DataFrame()\n",
    "for index,row in expSumPassive.iterrows():\n",
    "    #bot experiment loop\n",
    "    FileName=row.linkingFileNamePack\n",
    "    bot_num_current=row.bots\n",
    "    starting_frame=read_time(row.start_min)+10*25\n",
    "    ending_frame=read_time(row.end_min)\n",
    "    data=pd.read_csv(passive_path+'\\\\'+FileName,index_col=0)\n",
    "    relevant_data=data.iloc[starting_frame:ending_frame].reset_index()\n",
    "    relevant_data['Filename']=[FileName]*len(relevant_data)\n",
    "    relevant_data['BotNum']=[row.bots]*len(relevant_data)\n",
    "    relevant_data['BotType']=[row.bottype]*len(relevant_data)\n",
    "    all_data=pd.concat([all_data,relevant_data],axis=0)\n",
    "all_data.to_csv(passive_path+'\\\\all_linking_passive_data_28cm.csv')"
   ]
  },
  {
   "cell_type": "code",
   "execution_count": 6,
   "id": "0cdaa913-64a9-4c1e-a2f5-b5f0ff4d9cdd",
   "metadata": {},
   "outputs": [
    {
     "name": "stdout",
     "output_type": "stream",
     "text": [
      "       frame  frame.1      x      y      r  particle  \\\n",
      "0       1101     1101  660.5  541.5  104.3         0   \n",
      "1       1102     1102  660.5  541.5  104.3         0   \n",
      "2       1103     1103  660.5  541.5  104.3         0   \n",
      "3       1104     1104  660.5  541.5  104.3         0   \n",
      "4       1105     1105  661.5  541.5  104.3         0   \n",
      "...      ...      ...    ...    ...    ...       ...   \n",
      "24395  25496    25496  271.5  758.5  103.2         0   \n",
      "24396  25497    25497  272.5  758.5  104.2         0   \n",
      "24397  25498    25498  271.5  757.5  103.2         0   \n",
      "24398  25499    25499  273.5  757.5  103.2         0   \n",
      "24399  25500    25500  273.5  757.5  103.2         0   \n",
      "\n",
      "                                   Filename  BotNum  BotType  \n",
      "0      aligner_N021_D028_C0498.MP4_link.csv      21  aligner  \n",
      "1      aligner_N021_D028_C0498.MP4_link.csv      21  aligner  \n",
      "2      aligner_N021_D028_C0498.MP4_link.csv      21  aligner  \n",
      "3      aligner_N021_D028_C0498.MP4_link.csv      21  aligner  \n",
      "4      aligner_N021_D028_C0498.MP4_link.csv      21  aligner  \n",
      "...                                     ...     ...      ...  \n",
      "24395  aligner_N021_D028_C0498.MP4_link.csv      21  aligner  \n",
      "24396  aligner_N021_D028_C0498.MP4_link.csv      21  aligner  \n",
      "24397  aligner_N021_D028_C0498.MP4_link.csv      21  aligner  \n",
      "24398  aligner_N021_D028_C0498.MP4_link.csv      21  aligner  \n",
      "24399  aligner_N021_D028_C0498.MP4_link.csv      21  aligner  \n",
      "\n",
      "[24400 rows x 9 columns]\n"
     ]
    }
   ],
   "source": [
    "print(relevant_data)"
   ]
  },
  {
   "cell_type": "code",
   "execution_count": 7,
   "id": "6a5a7f82-dcb8-4fe6-9d46-fbeec2aab988",
   "metadata": {},
   "outputs": [
    {
     "name": "stdout",
     "output_type": "stream",
     "text": [
      "fronter_N053_D028_C0505.MP4_link.csv\n",
      "8133\n",
      "[ 1.74208866 -1.35064394]\n",
      "[0.00126854 0.003666  ]\n"
     ]
    },
    {
     "data": {
      "text/plain": [
       "Text(0, 0.5, 'MSD $\\\\left[\\\\rm{cm}^2\\\\right]$')"
      ]
     },
     "execution_count": 7,
     "metadata": {},
     "output_type": "execute_result"
    },
    {
     "data": {
      "image/png": "[encoded data removed]",
      "text/plain": [
       "<Figure size 640x480 with 1 Axes>"
      ]
     },
     "metadata": {},
     "output_type": "display_data"
    }
   ],
   "source": [
    "arenaSizePixels = 1090 # [pixels]\n",
    "arenaSizeCm = 150 # [cm]\n",
    "fps =25\n",
    "mpp = arenaSizeCm/arenaSizePixels/2 #[cm/pixel]\n",
    "expnum=40\n",
    "exp_row=expSumPassive.iloc[expnum]\n",
    "expnun_Filename=exp_row.linkingFileNamePack\n",
    "print(expnun_Filename)\n",
    "data=all_data[(all_data['Filename']==expnun_Filename)]\n",
    "relevant_data_try = tp.filter_stubs(data,threshold=100)\n",
    "max_lagtime=int(len(relevant_data)/3)\n",
    "print(max_lagtime)\n",
    "imsd_try = tp.imsd(relevant_data_try,fps=fps,mpp=mpp,max_lagtime=max_lagtime)\n",
    "last_imsd_try=imsd_try.index[-1]\n",
    "lag_time_thresh=int(last_imsd_try/150)\n",
    "max_lagtime_thresh=int(last_imsd_try/3)\n",
    "#relevant_imsd=imsd_try.loc[lag_time_thresh:max_lagtime_thresh]\n",
    "relevant_imsd=imsd_try.loc[4:35]\n",
    "fig,ax = plt.subplots()\n",
    "#ax.plot(np.log(imsd_try.index),np.log(imsd_try),label='msd')\n",
    "ax.loglog(imsd_try.index,imsd_try,label='msd')\n",
    "p0=np.array([2,0.5])\n",
    "popt,pcov = sc.optimize.curve_fit(linear_fit_log,np.log(relevant_imsd.index),np.log(relevant_imsd.iloc[:,0]),p0=p0)\n",
    "perr = np.sqrt(np.diag(pcov))\n",
    "corr=np.corrcoef(pcov,rowvar=True)\n",
    "print(popt)\n",
    "print(perr)\n",
    "fit_x=np.log(relevant_imsd.index)\n",
    "fit_y=fit_x*popt[0]+popt[1]\n",
    "ax.loglog(np.exp(fit_x),np.exp(fit_y),'--')\n",
    "#ax.plot(df.frame,df.x)\n",
    "#ax.plot(df.frame,df.y)\n",
    "x = np.linspace(1,10,10)\n",
    "y = 0.02E0*x**1.75\n",
    "#ax.loglog(x,y,'--',label='1.75')\n",
    "#ax.axis([0.01,2000,0.01,1E4])\n",
    "ax.grid()\n",
    "\n",
    "ax.set_xlabel(r'lag time $\\left[\\rm{s}\\right]$')\n",
    "ax.set_ylabel(r'MSD $\\left[\\rm{cm}^2\\right]$')"
   ]
  },
  {
   "cell_type": "code",
   "execution_count": 11,
   "id": "357699b2-2629-4206-ab03-79e84cb4fdca",
   "metadata": {},
   "outputs": [
    {
     "name": "stdout",
     "output_type": "stream",
     "text": [
      "fronter_N001_D028_C0556.MP4_link.csv\n",
      "fronter_N001_D028_C0555.MP4_link.csv\n",
      "updated_test_fronter_N001_D028_C0554.MP4_link.csv\n",
      "updated_test_fronter_N001_D028_C0553.MP4_link.csv\n",
      "aligner_N001_D028_C0575.MP4_link.csv\n",
      "aligner_N001_D028_C0574.MP4_link.csv\n",
      "aligner_N001_D028_C0573.MP4_link.csv\n",
      "aligner_N001_D028_C0572.MP4_link.csv\n",
      "fronter_N004_D028_C0560.MP4_link.csv\n",
      "fronter_N004_D028_C0559.MP4_link.csv\n",
      "fronter_N004_D028_C0558.MP4_link.csv\n",
      "fronter_N004_D028_C0557.MP4_link.csv\n",
      "aligner_N004_D028_C0580.MP4_link.csv\n",
      "aligner_N004_D028_C0579.MP4_link.csv\n",
      "aligner_N004_D028_C0578.MP4_link.csv\n",
      "aligner_N004_D028_C0577.MP4_link.csv\n",
      "aligner_N004_D028_C0576.MP4_link.csv\n",
      "fronter_N008_D028_C0567.MP4_link.csv\n",
      "fronter_N008_D028_C0566.MP4_link.csv\n",
      "fronter_N008_D028_C0565.MP4_link.csv\n",
      "fronter_N008_D028_C0563.MP4_link.csv\n",
      "fronter_N008_D028_C0562.MP4_link.csv\n",
      "aligner_N008_D028_C0587.MP4_link.csv\n",
      "aligner_N008_D028_C0586.MP4_link.csv\n",
      "aligner_N008_D028_C0585.MP4_link.csv\n",
      "aligner_N008_D028_C0584.MP4_link.csv\n",
      "aligner_N008_D028_C0583.MP4_link.csv\n",
      "updated_test_aligner_N008_D028_C0581.MP4_link.csv\n",
      "fronter_N016_D028_C0571.MP4_link.csv\n",
      "fronter_N016_D028_C0570.MP4_link.csv\n",
      "fronter_N016_D028_C0569.MP4_link.csv\n",
      "fronter_N016_D028_C0568.MP4_link.csv\n",
      "aligner_N016_D028_C0591.MP4_link.csv\n",
      "aligner_N016_D028_C0590.MP4_link.csv\n",
      "aligner_N016_D028_C0589.MP4_link.csv\n",
      "aligner_N016_D028_C0588.MP4_link.csv\n",
      "aligner_N053_D028_C0510.MP4_link.csv\n",
      "aligner_N053_D028_C0511.MP4_link.csv\n",
      "aligner_N053_D028_C0512.MP4_link.csv\n",
      "aligner_N053_D028_C0513.MP4_link.csv\n",
      "fronter_N053_D028_C0505.MP4_link.csv\n",
      "fronter_N053_D028_C0506.MP4_link.csv\n",
      "fronter_N053_D028_C0507.MP4_link.csv\n",
      "fronter_N053_D028_C0509.MP4_link.csv\n",
      "fronter_N021_D028_C0490.MP4_link.csv\n",
      "fronter_N021_D028_C0491.MP4_link.csv\n",
      "updated_test_fronter_N021_D028_C0492.MP4_link.csv\n",
      "fronter_N021_D028_C0493.MP4_link.csv\n",
      "updated_test_aligner_N021_D028_C0494.MP4_link.csv\n",
      "aligner_N021_D028_C0495.MP4_link.csv\n",
      "aligner_N021_D028_C0497.MP4_link.csv\n",
      "aligner_N021_D028_C0498.MP4_link.csv\n"
     ]
    }
   ],
   "source": [
    "arenaSizePixels = 1090 # [pixels]\n",
    "arenaSizeCm = 150 # [cm]\n",
    "fps =25\n",
    "mpp = arenaSizeCm/arenaSizePixels/2 #[cm/pixel]\n",
    "power_law=pd.DataFrame()\n",
    "for index,row in expSumPassive.iterrows():\n",
    "    FileName=row.linkingFileNamePack\n",
    "    print(FileName)\n",
    "    current_data=all_data[(all_data['Filename']==FileName)]\n",
    "    relevant_data_try = tp.filter_stubs(current_data,threshold=100)\n",
    "    max_lagtime=int(len(relevant_data_try)/3)\n",
    "    imsd = tp.imsd(relevant_data_try,fps=fps,mpp=mpp,max_lagtime=max_lagtime)\n",
    "    #imsd = tp.imsd(current_data,fps=fps,mpp=mpp,max_lagtime=max_lagtime)\n",
    "    last_imsd_try=imsd.index[-1]\n",
    "    lag_time_thresh=int(last_imsd_try/150)\n",
    "    max_lagtime_thresh=int(last_imsd_try/3)\n",
    "    relevant_imsd_max=imsd.loc[2:50]\n",
    "    #relevant_imsd_max=imsd.loc[lag_time_thresh:max_lagtime_thresh]\n",
    "    relevant_imsd_min=imsd.loc[4:20]\n",
    "    p0=np.array([2,0.5])\n",
    "    popt_max,pcov_max = sc.optimize.curve_fit(linear_fit_log,np.log(relevant_imsd_max.index),np.log(relevant_imsd_max.iloc[:,0]),p0=p0)\n",
    "    perr_max = np.sqrt(np.diag(pcov_max))\n",
    "    corr_max=np.corrcoef(pcov_max,rowvar=True)\n",
    "    popt_min,pcov_min = sc.optimize.curve_fit(linear_fit_log,np.log(relevant_imsd_min.index),np.log(relevant_imsd_min.iloc[:,0]),p0=p0)\n",
    "    perr_min = np.sqrt(np.diag(pcov_min))\n",
    "    corr_min=np.corrcoef(pcov_min,rowvar=True)\n",
    "    data_row=pd.DataFrame()\n",
    "    data_row['FileName']=[FileName]\n",
    "    data_row['n_max']=[popt_max[0]]\n",
    "    data_row['n_max_err']=[perr_max[0]]\n",
    "    data_row['A_max']=[np.exp(popt_max[1])]\n",
    "    data_row['A_max_err']=[perr_max[1]]\n",
    "    data_row['n_min']=[popt_min[0]]\n",
    "    data_row['n_min_err']=[perr_min[0]]\n",
    "    data_row['A_min']=[np.exp(popt_min[1])]\n",
    "    data_row['A_min_err']=[perr_min[1]]\n",
    "    data_row['Bot_Type']=row.bottype\n",
    "    data_row['Bot_num']=row.bots\n",
    "    power_law=pd.concat([power_law,data_row],axis=0)\n",
    "power_law.to_csv(passive_path+'\\\\power_law_28cm_diameter.csv')"
   ]
  },
  {
   "cell_type": "code",
   "execution_count": 12,
   "id": "cddae701-6317-4c9d-a4d8-9e77c9bf8c05",
   "metadata": {},
   "outputs": [
    {
     "name": "stdout",
     "output_type": "stream",
     "text": [
      "Bot_num\n",
      "1     1.146671\n",
      "4     1.833265\n",
      "8     1.744227\n",
      "16    1.851306\n",
      "21    1.772172\n",
      "53    1.755693\n",
      "Name: n_min, dtype: float64\n",
      "                     n_max  n_max_err     A_max  A_max_err     n_min  \\\n",
      "Bot_num Bot_Type                                                       \n",
      "1       aligner   0.422533   0.000464  0.002916   0.001456  0.430182   \n",
      "        fronter   0.777189   0.000895  0.003564   0.002805  0.823984   \n",
      "4       aligner   0.221433   0.000523  0.004197   0.001638  0.177027   \n",
      "        fronter   0.039622   0.000213  0.004388   0.000668  0.026391   \n",
      "8       aligner   0.176329   0.001453  0.007346   0.004555  0.124986   \n",
      "        fronter   0.137203   0.000470  0.007584   0.001475  0.126820   \n",
      "16      aligner   0.032923   0.000924  0.005124   0.002895  0.046801   \n",
      "        fronter   0.066562   0.000362  0.013098   0.001133  0.052444   \n",
      "21      aligner   0.106028   0.001240  0.007574   0.003887  0.106965   \n",
      "        fronter   0.151496   0.000918  0.047562   0.002927  0.117186   \n",
      "53      aligner   0.013263   0.000308  0.008102   0.000966  0.043248   \n",
      "        fronter   0.060667   0.000540  0.091817   0.001821  0.035106   \n",
      "\n",
      "                  n_min_err     A_min  A_min_err  \n",
      "Bot_num Bot_Type                                  \n",
      "1       aligner    0.001787  0.002100   0.004355  \n",
      "        fronter    0.001780  0.004356   0.004339  \n",
      "4       aligner    0.000376  0.003587   0.000916  \n",
      "        fronter    0.000189  0.003947   0.000461  \n",
      "8       aligner    0.001396  0.007032   0.003403  \n",
      "        fronter    0.000367  0.006678   0.000895  \n",
      "16      aligner    0.000431  0.005467   0.001052  \n",
      "        fronter    0.000150  0.012084   0.000366  \n",
      "21      aligner    0.000399  0.006123   0.000974  \n",
      "        fronter    0.000686  0.045021   0.001673  \n",
      "53      aligner    0.000408  0.008074   0.000996  \n",
      "        fronter    0.000645  0.100747   0.001573  \n"
     ]
    },
    {
     "name": "stderr",
     "output_type": "stream",
     "text": [
      "C:\\Users\\User\\AppData\\Local\\Temp\\ipykernel_20548\\331693062.py:1: FutureWarning: The default value of numeric_only in DataFrameGroupBy.mean is deprecated. In a future version, numeric_only will default to False. Either specify numeric_only or select only columns which should be valid for the function.\n",
      "  mean_data=power_law.groupby(by=[\"Bot_Type\",\"Bot_num\"]).mean()\n",
      "C:\\Users\\User\\AppData\\Local\\Temp\\ipykernel_20548\\331693062.py:3: FutureWarning: The default value of numeric_only in DataFrameGroupBy.std is deprecated. In a future version, numeric_only will default to False. Either specify numeric_only or select only columns which should be valid for the function.\n",
      "  std_data=power_law.groupby(by=[\"Bot_num\",\"Bot_Type\"]).std()\n"
     ]
    }
   ],
   "source": [
    "mean_data=power_law.groupby(by=[\"Bot_Type\",\"Bot_num\"]).mean()\n",
    "print(mean_data.loc[(\"fronter\",\"n_min\")])\n",
    "std_data=power_law.groupby(by=[\"Bot_num\",\"Bot_Type\"]).std()\n",
    "print(std_data)"
   ]
  },
  {
   "cell_type": "code",
   "execution_count": 17,
   "id": "e99dec87-f861-474b-8c89-5ef60a9c22b0",
   "metadata": {},
   "outputs": [
    {
     "data": {
      "image/png": "[encoded data removed]",
      "text/plain": [
       "<Figure size 640x480 with 1 Axes>"
      ]
     },
     "metadata": {},
     "output_type": "display_data"
    }
   ],
   "source": [
    "fronter_data=mean_data.loc[(\"fronter\",\"n_min\")]\n",
    "fronter_data_max= mean_data.loc[(\"fronter\",\"n_max\")]\n",
    "fronter_diff=fronter_data-fronter_data_max\n",
    "aligner_data=mean_data.loc[(\"aligner\",\"n_min\")]\n",
    "aligner_data_max=mean_data.loc[(\"aligner\",\"n_max\")]\n",
    "aligner_diff=aligner_data-aligner_data_max\n",
    "fig,ax = plt.subplots()\n",
    "ax.errorbar(x=fronter_data.index,y=fronter_data,label='fronter_n_min',yerr=np.abs(fronter_diff.to_numpy())/2,marker='o',capsize=5,color='green'\n",
    "             ,markeredgewidth=2,elinewidth=3,linewidth=3)\n",
    "#ax.plot(fronter_data_max.index,fronter_data_max,'-o',label='fronter_n_max')\n",
    "ax.errorbar(x=aligner_data.index,y=aligner_data,label='aligners_n_min',yerr=np.abs(aligner_diff.to_numpy())/2,marker='s',capsize=5,color='blue'\n",
    "             ,markeredgewidth=2,elinewidth=3,linewidth=3)\n",
    "#ax.plot(aligner_data_max.index,aligner_data_max,'-o',label='aligners_n_max')\n",
    "ax.set_xlabel('Bot number N')\n",
    "ax.set_ylabel('Power law')\n",
    "#ax.set_title('Imsd Power law Vs. Botnum')\n",
    "ax.grid()\n",
    "ax.legend()\n",
    "saved_data=pd.DataFrame(data={'fronter_data': fronter_data\n",
    "                              ,'fronter_data_max': fronter_data_max,'fronter_diff':fronter_diff,'aligner_data':aligner_data\n",
    "                              ,'aligner_data_max':aligner_data_max,'aligner_diff':aligner_diff})\n",
    "saved_data.to_csv('C:\\\\Users\\\\User\\\\Documents\\\\Eden\\\\locate_git_code\\\\production\\\\powerlaw_vs_botnum_28cm.csv')\n",
    "fig.savefig('C:\\\\Users\\\\User\\\\Documents\\\\Eden\\\\locate_git_code\\\\production\\\\powerlaw_vs_botnum_28cm.png',bbox_inches='tight')"
   ]
  },
  {
   "cell_type": "code",
   "execution_count": null,
   "id": "25f54070-a97d-4eb8-8de9-2570fffd3584",
   "metadata": {},
   "outputs": [],
   "source": []
  }
 ],
 "metadata": {
  "kernelspec": {
   "display_name": "Python 3 (ipykernel)",
   "language": "python",
   "name": "python3"
  },
  "language_info": {
   "codemirror_mode": {
    "name": "ipython",
    "version": 3
   },
   "file_extension": ".py",
   "mimetype": "text/x-python",
   "name": "python",
   "nbconvert_exporter": "python",
   "pygments_lexer": "ipython3",
   "version": "3.8.1"
  }
 },
 "nbformat": 4,
 "nbformat_minor": 5
}
