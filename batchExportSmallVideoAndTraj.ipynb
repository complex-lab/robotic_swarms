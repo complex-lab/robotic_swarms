{
 "cells": [
  {
   "cell_type": "markdown",
   "id": "fa039ec5-d0f3-4f4e-9e9d-f11fc251ba93",
   "metadata": {},
   "source": [
    "# Save a small version of the video with the trajectory on it"
   ]
  },
  {
   "cell_type": "markdown",
   "id": "9598615a-0815-4171-8908-3f67f1b7e6ab",
   "metadata": {},
   "source": [
    "#### Written by Matan 20230306"
   ]
  },
  {
   "cell_type": "code",
   "execution_count": 1,
   "id": "8745e8f6-8516-4e6b-9f4d-73703eae007a",
   "metadata": {},
   "outputs": [],
   "source": [
    "import cv2 as cv2\n",
    "from matplotlib import pyplot as plt\n",
    "import pandas as pd\n",
    "import numpy as np\n",
    "import trackpy as tp\n",
    "from ipywidgets import HBox, Textarea, interact\n",
    "import time\n",
    "from mpl_toolkits.axes_grid1.inset_locator import inset_axes\n",
    "\n",
    "def l2n(x):\n",
    "    return np.array(x)"
   ]
  },
  {
   "cell_type": "code",
   "execution_count": null,
   "id": "719cdc9b-6877-4b78-aafd-66e55c1afb55",
   "metadata": {},
   "outputs": [],
   "source": []
  }
 ],
 "metadata": {
  "kernelspec": {
   "display_name": "Python 3 (ipykernel)",
   "language": "python",
   "name": "python3"
  },
  "language_info": {
   "codemirror_mode": {
    "name": "ipython",
    "version": 3
   },
   "file_extension": ".py",
   "mimetype": "text/x-python",
   "name": "python",
   "nbconvert_exporter": "python",
   "pygments_lexer": "ipython3",
   "version": "3.8.1"
  }
 },
 "nbformat": 4,
 "nbformat_minor": 5
}
