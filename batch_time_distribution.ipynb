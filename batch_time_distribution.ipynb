{
 "cells": [
  {
   "cell_type": "code",
   "execution_count": 93,
   "id": "6b341d54-c377-45f7-adb7-67384f930f37",
   "metadata": {},
   "outputs": [],
   "source": [
    "%matplotlib inline\n",
    "#%matplotlib widget\n"
   ]
  },
  {
   "cell_type": "code",
   "execution_count": 94,
   "id": "af06e855-699b-4dc8-adc0-49f749b313a0",
   "metadata": {},
   "outputs": [],
   "source": [
    "#############imports######################################################################\n",
    "import cv2 as cv2\n",
    "from matplotlib import pyplot as plt\n",
    "import pandas as pd\n",
    "import numpy as np\n",
    "import trackpy as tp\n",
    "from ipywidgets import HBox, Textarea, interact\n"
   ]
  },
  {
   "cell_type": "code",
   "execution_count": 114,
   "id": "85adfaed-5149-434c-ab41-f06c514ecfd6",
   "metadata": {},
   "outputs": [
    {
     "name": "stdout",
     "output_type": "stream",
     "text": [
      "D:\\Eden\\5_1_23\\fronters1passive28cm\\C0556.MP4_distances.csv\n",
      "571\n",
      "574\n",
      "particle:0.00\n",
      "581\n",
      "582\n",
      "particle:0.00\n",
      "1359\n",
      "2983\n",
      "particle:0.00\n",
      "3325\n",
      "3326\n",
      "particle:0.00\n",
      "3331\n",
      "3789\n",
      "particle:0.00\n",
      "3993\n",
      "3997\n",
      "particle:0.00\n",
      "3999\n",
      "4479\n",
      "particle:0.00\n",
      "4773\n",
      "5081\n",
      "particle:0.00\n",
      "5082\n",
      "5083\n",
      "particle:0.00\n",
      "5084\n",
      "5087\n",
      "particle:0.00\n",
      "6179\n",
      "6180\n",
      "particle:0.00\n",
      "6186\n",
      "6503\n",
      "particle:0.00\n",
      "6506\n",
      "6687\n",
      "particle:0.00\n",
      "7586\n",
      "14655\n",
      "particle:0.00\n",
      "0\n",
      "particle:60.00\n",
      "404\n",
      "406\n",
      "particle:60.00\n",
      "409\n",
      "2670\n",
      "particle:60.00\n",
      "3072\n",
      "17\n",
      "D:\\Eden\\5_1_23\\fronters1passive28cm\\C0555.MP4_distances.csv\n",
      "26\n",
      "27\n",
      "particle:0.00\n",
      "111\n",
      "112\n",
      "particle:0.00\n",
      "448\n",
      "3587\n",
      "particle:0.00\n",
      "3593\n",
      "7774\n",
      "particle:0.00\n",
      "13486\n",
      "13487\n",
      "particle:0.00\n",
      "13488\n",
      "13489\n",
      "particle:0.00\n",
      "13493\n",
      "17314\n",
      "particle:0.00\n",
      "20999\n",
      "21002\n",
      "particle:0.00\n"
     ]
    },
    {
     "ename": "KeyboardInterrupt",
     "evalue": "",
     "output_type": "error",
     "traceback": [
      "\u001b[1;31m---------------------------------------------------------------------------\u001b[0m",
      "\u001b[1;31mKeyboardInterrupt\u001b[0m                         Traceback (most recent call last)",
      "Cell \u001b[1;32mIn [114], line 29\u001b[0m\n\u001b[0;32m     27\u001b[0m     count\u001b[38;5;241m=\u001b[39mcount\u001b[38;5;241m+\u001b[39m\u001b[38;5;241m1\u001b[39m\n\u001b[0;32m     28\u001b[0m \u001b[38;5;28;01mif\u001b[39;00m row_file\u001b[38;5;241m.\u001b[39mdistance\u001b[38;5;241m>\u001b[39mclose_threshold:\n\u001b[1;32m---> 29\u001b[0m     row_file_before\u001b[38;5;241m=\u001b[39m\u001b[43mrelevant_distance\u001b[49m\u001b[38;5;241;43m.\u001b[39;49m\u001b[43miloc\u001b[49m\u001b[43m[\u001b[49m\u001b[43mindex\u001b[49m\u001b[38;5;241;43m-\u001b[39;49m\u001b[38;5;241;43m1\u001b[39;49m\u001b[43m]\u001b[49m\n\u001b[0;32m     30\u001b[0m     \u001b[38;5;28;01mif\u001b[39;00m row_file_before\u001b[38;5;241m.\u001b[39mdistance\u001b[38;5;241m<\u001b[39m\u001b[38;5;241m=\u001b[39mclose_threshold:\n\u001b[0;32m     31\u001b[0m         time\u001b[38;5;241m=\u001b[39m\u001b[38;5;28mfloat\u001b[39m(count\u001b[38;5;241m/\u001b[39mfps)\n",
      "File \u001b[1;32m~\\AppData\\Local\\Programs\\Python\\Python38\\lib\\site-packages\\pandas\\core\\indexing.py:1073\u001b[0m, in \u001b[0;36m_LocationIndexer.__getitem__\u001b[1;34m(self, key)\u001b[0m\n\u001b[0;32m   1070\u001b[0m         axis \u001b[38;5;241m=\u001b[39m \u001b[38;5;28mself\u001b[39m\u001b[38;5;241m.\u001b[39maxis \u001b[38;5;129;01mor\u001b[39;00m \u001b[38;5;241m0\u001b[39m\n\u001b[0;32m   1072\u001b[0m         maybe_callable \u001b[38;5;241m=\u001b[39m com\u001b[38;5;241m.\u001b[39mapply_if_callable(key, \u001b[38;5;28mself\u001b[39m\u001b[38;5;241m.\u001b[39mobj)\n\u001b[1;32m-> 1073\u001b[0m         \u001b[38;5;28;01mreturn\u001b[39;00m \u001b[38;5;28mself\u001b[39m\u001b[38;5;241m.\u001b[39m_getitem_axis(maybe_callable, axis\u001b[38;5;241m=\u001b[39maxis)\n\u001b[0;32m   1075\u001b[0m \u001b[38;5;28;01mdef\u001b[39;00m \u001b[38;5;21m_is_scalar_access\u001b[39m(\u001b[38;5;28mself\u001b[39m, key: \u001b[38;5;28mtuple\u001b[39m):\n\u001b[0;32m   1076\u001b[0m     \u001b[38;5;28;01mraise\u001b[39;00m \u001b[38;5;167;01mNotImplementedError\u001b[39;00m()\n",
      "File \u001b[1;32m~\\AppData\\Local\\Programs\\Python\\Python38\\lib\\site-packages\\pandas\\core\\indexing.py:1627\u001b[0m, in \u001b[0;36m_iLocIndexer._getitem_axis\u001b[1;34m(self, key, axis)\u001b[0m\n\u001b[0;32m   1624\u001b[0m         \u001b[38;5;66;03m# validate the location\u001b[39;00m\n\u001b[0;32m   1625\u001b[0m         \u001b[38;5;28mself\u001b[39m\u001b[38;5;241m.\u001b[39m_validate_integer(key, axis)\n\u001b[1;32m-> 1627\u001b[0m         \u001b[38;5;28;01mreturn\u001b[39;00m \u001b[38;5;28mself\u001b[39m\u001b[38;5;241m.\u001b[39mobj\u001b[38;5;241m.\u001b[39m_ixs(key, axis\u001b[38;5;241m=\u001b[39maxis)\n\u001b[0;32m   1629\u001b[0m \u001b[38;5;28;01mdef\u001b[39;00m \u001b[38;5;21m_get_slice_axis\u001b[39m(\u001b[38;5;28mself\u001b[39m, slice_obj: \u001b[38;5;28mslice\u001b[39m, axis: \u001b[38;5;28mint\u001b[39m):\n\u001b[0;32m   1630\u001b[0m     \u001b[38;5;66;03m# caller is responsible for ensuring non-None axis\u001b[39;00m\n\u001b[0;32m   1631\u001b[0m     obj \u001b[38;5;241m=\u001b[39m \u001b[38;5;28mself\u001b[39m\u001b[38;5;241m.\u001b[39mobj\n",
      "File \u001b[1;32m~\\AppData\\Local\\Programs\\Python\\Python38\\lib\\site-packages\\pandas\\core\\frame.py:3713\u001b[0m, in \u001b[0;36mDataFrame._ixs\u001b[1;34m(self, i, axis)\u001b[0m\n\u001b[0;32m   3711\u001b[0m \u001b[38;5;66;03m# irow\u001b[39;00m\n\u001b[0;32m   3712\u001b[0m \u001b[38;5;28;01mif\u001b[39;00m axis \u001b[38;5;241m==\u001b[39m \u001b[38;5;241m0\u001b[39m:\n\u001b[1;32m-> 3713\u001b[0m     new_mgr \u001b[38;5;241m=\u001b[39m \u001b[38;5;28mself\u001b[39m\u001b[38;5;241m.\u001b[39m_mgr\u001b[38;5;241m.\u001b[39mfast_xs(i)\n\u001b[0;32m   3715\u001b[0m     \u001b[38;5;66;03m# if we are a copy, mark as such\u001b[39;00m\n\u001b[0;32m   3716\u001b[0m     copy \u001b[38;5;241m=\u001b[39m \u001b[38;5;28misinstance\u001b[39m(new_mgr\u001b[38;5;241m.\u001b[39marray, np\u001b[38;5;241m.\u001b[39mndarray) \u001b[38;5;129;01mand\u001b[39;00m new_mgr\u001b[38;5;241m.\u001b[39marray\u001b[38;5;241m.\u001b[39mbase \u001b[38;5;129;01mis\u001b[39;00m \u001b[38;5;28;01mNone\u001b[39;00m\n",
      "File \u001b[1;32m~\\AppData\\Local\\Programs\\Python\\Python38\\lib\\site-packages\\pandas\\core\\internals\\managers.py:1084\u001b[0m, in \u001b[0;36mBlockManager.fast_xs\u001b[1;34m(self, loc)\u001b[0m\n\u001b[0;32m   1081\u001b[0m     ref \u001b[38;5;241m=\u001b[39m weakref\u001b[38;5;241m.\u001b[39mref(\u001b[38;5;28mself\u001b[39m\u001b[38;5;241m.\u001b[39mblocks[\u001b[38;5;241m0\u001b[39m])\n\u001b[0;32m   1082\u001b[0m     \u001b[38;5;28;01mreturn\u001b[39;00m SingleBlockManager(block, \u001b[38;5;28mself\u001b[39m\u001b[38;5;241m.\u001b[39maxes[\u001b[38;5;241m0\u001b[39m], [ref])\n\u001b[1;32m-> 1084\u001b[0m dtype \u001b[38;5;241m=\u001b[39m interleaved_dtype([blk\u001b[38;5;241m.\u001b[39mdtype \u001b[38;5;28;01mfor\u001b[39;00m blk \u001b[38;5;129;01min\u001b[39;00m \u001b[38;5;28mself\u001b[39m\u001b[38;5;241m.\u001b[39mblocks])\n\u001b[0;32m   1086\u001b[0m n \u001b[38;5;241m=\u001b[39m \u001b[38;5;28mlen\u001b[39m(\u001b[38;5;28mself\u001b[39m)\n\u001b[0;32m   1088\u001b[0m \u001b[38;5;66;03m# GH#46406\u001b[39;00m\n",
      "File \u001b[1;32m~\\AppData\\Local\\Programs\\Python\\Python38\\lib\\site-packages\\pandas\\core\\internals\\base.py:226\u001b[0m, in \u001b[0;36minterleaved_dtype\u001b[1;34m(dtypes)\u001b[0m\n\u001b[0;32m    223\u001b[0m \u001b[38;5;28;01mif\u001b[39;00m \u001b[38;5;129;01mnot\u001b[39;00m \u001b[38;5;28mlen\u001b[39m(dtypes):\n\u001b[0;32m    224\u001b[0m     \u001b[38;5;28;01mreturn\u001b[39;00m \u001b[38;5;28;01mNone\u001b[39;00m\n\u001b[1;32m--> 226\u001b[0m \u001b[38;5;28;01mreturn\u001b[39;00m find_common_type(dtypes)\n",
      "File \u001b[1;32m~\\AppData\\Local\\Programs\\Python\\Python38\\lib\\site-packages\\pandas\\core\\dtypes\\cast.py:1641\u001b[0m, in \u001b[0;36mfind_common_type\u001b[1;34m(types)\u001b[0m\n\u001b[0;32m   1638\u001b[0m         \u001b[38;5;28;01mif\u001b[39;00m is_integer_dtype(t) \u001b[38;5;129;01mor\u001b[39;00m is_float_dtype(t) \u001b[38;5;129;01mor\u001b[39;00m is_complex_dtype(t):\n\u001b[0;32m   1639\u001b[0m             \u001b[38;5;28;01mreturn\u001b[39;00m np\u001b[38;5;241m.\u001b[39mdtype(\u001b[38;5;124m\"\u001b[39m\u001b[38;5;124mobject\u001b[39m\u001b[38;5;124m\"\u001b[39m)\n\u001b[1;32m-> 1641\u001b[0m \u001b[38;5;28;01mreturn\u001b[39;00m \u001b[43mnp\u001b[49m\u001b[38;5;241;43m.\u001b[39;49m\u001b[43mfind_common_type\u001b[49m\u001b[43m(\u001b[49m\u001b[43mtypes\u001b[49m\u001b[43m,\u001b[49m\u001b[43m \u001b[49m\u001b[43m[\u001b[49m\u001b[43m]\u001b[49m\u001b[43m)\u001b[49m\n",
      "File \u001b[1;32m~\\AppData\\Local\\Programs\\Python\\Python38\\lib\\site-packages\\numpy\\core\\numerictypes.py:652\u001b[0m, in \u001b[0;36mfind_common_type\u001b[1;34m(array_types, scalar_types)\u001b[0m\n\u001b[0;32m    649\u001b[0m array_types \u001b[38;5;241m=\u001b[39m [dtype(x) \u001b[38;5;28;01mfor\u001b[39;00m x \u001b[38;5;129;01min\u001b[39;00m array_types]\n\u001b[0;32m    650\u001b[0m scalar_types \u001b[38;5;241m=\u001b[39m [dtype(x) \u001b[38;5;28;01mfor\u001b[39;00m x \u001b[38;5;129;01min\u001b[39;00m scalar_types]\n\u001b[1;32m--> 652\u001b[0m maxa \u001b[38;5;241m=\u001b[39m \u001b[43m_can_coerce_all\u001b[49m\u001b[43m(\u001b[49m\u001b[43marray_types\u001b[49m\u001b[43m)\u001b[49m\n\u001b[0;32m    653\u001b[0m maxsc \u001b[38;5;241m=\u001b[39m _can_coerce_all(scalar_types)\n\u001b[0;32m    655\u001b[0m \u001b[38;5;28;01mif\u001b[39;00m maxa \u001b[38;5;129;01mis\u001b[39;00m \u001b[38;5;28;01mNone\u001b[39;00m:\n",
      "File \u001b[1;32m~\\AppData\\Local\\Programs\\Python\\Python38\\lib\\site-packages\\numpy\\core\\numerictypes.py:584\u001b[0m, in \u001b[0;36m_can_coerce_all\u001b[1;34m(dtypelist, start)\u001b[0m\n\u001b[0;32m    582\u001b[0m     numcoerce \u001b[38;5;241m=\u001b[39m \u001b[38;5;28mlen\u001b[39m([x \u001b[38;5;28;01mfor\u001b[39;00m x \u001b[38;5;129;01min\u001b[39;00m dtypelist \u001b[38;5;28;01mif\u001b[39;00m newdtype \u001b[38;5;241m>\u001b[39m\u001b[38;5;241m=\u001b[39m x])\n\u001b[0;32m    583\u001b[0m     \u001b[38;5;28;01mif\u001b[39;00m numcoerce \u001b[38;5;241m==\u001b[39m N:\n\u001b[1;32m--> 584\u001b[0m         \u001b[38;5;28;01mreturn\u001b[39;00m \u001b[43mnewdtype\u001b[49m\n\u001b[0;32m    585\u001b[0m     thisind \u001b[38;5;241m+\u001b[39m\u001b[38;5;241m=\u001b[39m \u001b[38;5;241m1\u001b[39m\n\u001b[0;32m    586\u001b[0m \u001b[38;5;28;01mreturn\u001b[39;00m \u001b[38;5;28;01mNone\u001b[39;00m\n",
      "\u001b[1;31mKeyboardInterrupt\u001b[0m: "
     ]
    }
   ],
   "source": [
    "expSumFileName = 'C:\\\\Users\\\\User\\\\Documents\\\\Eden\\locate_git_code\\\\packaged\\\\botsTracking\\\\expSumPack_distance.csv'\n",
    "expSum = pd.read_csv(expSumFileName,index_col=0)\n",
    "bottypes=pd.unique(expSum.bottype)\n",
    "fronter_times=[]\n",
    "aligner_times=[]\n",
    "close_threshold=130\n",
    "for bottype in bottypes:\n",
    "    relevant_exp=expSum[(expSum['bottype']==bottype)]\n",
    "    close_times=[]\n",
    "    count=0\n",
    "    count_after_time=0\n",
    "    fps=25\n",
    "    for index,row in relevant_exp.iterrows():\n",
    "        distance_exp=row.DistanceFileNames\n",
    "        print(distance_exp)\n",
    "        distance_file=pd.read_csv(distance_exp,index_col=0)\n",
    "        particels_num=pd.unique(distance_file.particle)\n",
    "        for particle in particels_num:\n",
    "            relevant_distance=distance_file[(distance_file['particle']==particle)]\n",
    "            for index in range(0,len(relevant_distance)):\n",
    "                row_file=relevant_distance.iloc[index]\n",
    "                row_file_before=relevant_distance.iloc[index-1]\n",
    "                if row_file.distance<=close_threshold:\n",
    "                    if row_file_before.distance>close_threshold:\n",
    "                        print(index)\n",
    "                        print(\"particle:{:.2f}\".format(particle))\n",
    "                    count=count+1\n",
    "                if row_file.distance>close_threshold:\n",
    "                    row_file_before=relevant_distance.iloc[index-1]\n",
    "                    if row_file_before.distance<=close_threshold:\n",
    "                        time=float(count/fps)\n",
    "                        close_times.append(time)\n",
    "                        count=0\n",
    "                        count_after_time=count_after_time+1\n",
    "                        print(index)\n",
    "            if count!=0:\n",
    "                time=float(count/fps)\n",
    "                close_times.append(time)\n",
    "                count=0\n",
    "                if time==0:\n",
    "                    print(index)\n",
    "        print(count_after_time)\n",
    "        count_after_time=0\n",
    "    if bottype=='fronter':\n",
    "        print('saving fronter times')\n",
    "        fronter_times=close_times\n",
    "        fronter_csv=pd.Series(fronter_times)\n",
    "        fronter_csv.to_csv('C:\\\\Users\\\\User\\\\Documents\\\\Eden\\locate_git_code\\\\packaged\\\\botsTracking\\\\expSumPack_times_fronter.csv')\n",
    "    if bottype=='aligner':\n",
    "        print('saving aligners times')\n",
    "        aligner_times=close_times\n",
    "        aligner_csv=pd.Series(aligner_times)\n",
    "        aligner_csv.to_csv('C:\\\\Users\\\\User\\\\Documents\\\\Eden\\locate_git_code\\\\packaged\\\\botsTracking\\\\expSumPack_times_aligner.csv')"
   ]
  },
  {
   "cell_type": "code",
   "execution_count": 96,
   "id": "5ca3a7da-7c29-436d-8ab4-a242ffca9429",
   "metadata": {},
   "outputs": [],
   "source": [
    "fronter_path='C:\\\\Users\\\\User\\\\Documents\\\\Eden\\locate_git_code\\\\packaged\\\\botsTracking\\\\expSumPack_times_fronter.csv'\n",
    "fronter_times = pd.read_csv(fronter_path,index_col=0)\n",
    "fronter_times.columns.values[0] = \"fronter_times\"\n",
    "#fronter_times.drop(fronter_times[fronter_times['fronter_times'] ==0].index, inplace = True)\n",
    "aligners_path='C:\\\\Users\\\\User\\\\Documents\\\\Eden\\locate_git_code\\\\packaged\\\\botsTracking\\\\expSumPack_times_aligner.csv'\n",
    "aligner_times=pd.read_csv(aligners_path,index_col=0)\n",
    "aligner_times.columns.values[0] = \"aligner_times\"\n",
    "#aligner_times.drop(aligner_times[aligner_times['aligner_times'] ==0].index, inplace = True)"
   ]
  },
  {
   "cell_type": "code",
   "execution_count": 106,
   "id": "94ba1c07-a1f7-4800-9f34-d26e89d19ab3",
   "metadata": {},
   "outputs": [
    {
     "name": "stdout",
     "output_type": "stream",
     "text": [
      "       frame.1    distance  particle\n",
      "frame                               \n",
      "1            1  125.936492       0.0\n",
      "2            2  125.936492       0.0\n",
      "3            3  125.936492       0.0\n",
      "4            4  123.967738       0.0\n",
      "5            5  124.951991       0.0\n",
      "...        ...         ...       ...\n",
      "33764    33764  622.602602       0.0\n",
      "33765    33765  621.930060       0.0\n",
      "33766    33766  620.627102       0.0\n",
      "33767    33767  618.968497       0.0\n",
      "33768    33768  618.142378       0.0\n",
      "\n",
      "[33590 rows x 3 columns]\n"
     ]
    }
   ],
   "source": [
    "experiment=pd.read_csv('D:\\\\Eden\\\\5_1_23\\\\fronters4passive28cm\\\\C0560.MP4_distances.csv',index_col=0)\n",
    "relevant_particle=experiment[(experiment['particle']==0)]\n",
    "print(relevant_particle)\n",
    "relevant_particle.to_csv('D:\\\\Eden\\\\5_1_23\\\\fronters4passive28cm\\\\C0560.MP4_distances_test.csv')"
   ]
  },
  {
   "cell_type": "code",
   "execution_count": 105,
   "id": "f35f9818-3d4c-43ac-b288-7765e55941ed",
   "metadata": {},
   "outputs": [
    {
     "data": {
      "text/html": [
       "<div>\n",
       "<style scoped>\n",
       "    .dataframe tbody tr th:only-of-type {\n",
       "        vertical-align: middle;\n",
       "    }\n",
       "\n",
       "    .dataframe tbody tr th {\n",
       "        vertical-align: top;\n",
       "    }\n",
       "\n",
       "    .dataframe thead th {\n",
       "        text-align: right;\n",
       "    }\n",
       "</style>\n",
       "<table border=\"1\" class=\"dataframe\">\n",
       "  <thead>\n",
       "    <tr style=\"text-align: right;\">\n",
       "      <th></th>\n",
       "      <th>frame.1</th>\n",
       "      <th>distance</th>\n",
       "      <th>particle</th>\n",
       "    </tr>\n",
       "    <tr>\n",
       "      <th>frame</th>\n",
       "      <th></th>\n",
       "      <th></th>\n",
       "      <th></th>\n",
       "    </tr>\n",
       "  </thead>\n",
       "  <tbody>\n",
       "    <tr>\n",
       "      <th>1</th>\n",
       "      <td>1</td>\n",
       "      <td>125.936492</td>\n",
       "      <td>0.0</td>\n",
       "    </tr>\n",
       "    <tr>\n",
       "      <th>2</th>\n",
       "      <td>2</td>\n",
       "      <td>125.936492</td>\n",
       "      <td>0.0</td>\n",
       "    </tr>\n",
       "    <tr>\n",
       "      <th>3</th>\n",
       "      <td>3</td>\n",
       "      <td>125.936492</td>\n",
       "      <td>0.0</td>\n",
       "    </tr>\n",
       "    <tr>\n",
       "      <th>4</th>\n",
       "      <td>4</td>\n",
       "      <td>123.967738</td>\n",
       "      <td>0.0</td>\n",
       "    </tr>\n",
       "    <tr>\n",
       "      <th>5</th>\n",
       "      <td>5</td>\n",
       "      <td>124.951991</td>\n",
       "      <td>0.0</td>\n",
       "    </tr>\n",
       "    <tr>\n",
       "      <th>...</th>\n",
       "      <td>...</td>\n",
       "      <td>...</td>\n",
       "      <td>...</td>\n",
       "    </tr>\n",
       "    <tr>\n",
       "      <th>33764</th>\n",
       "      <td>33764</td>\n",
       "      <td>622.602602</td>\n",
       "      <td>0.0</td>\n",
       "    </tr>\n",
       "    <tr>\n",
       "      <th>33765</th>\n",
       "      <td>33765</td>\n",
       "      <td>621.930060</td>\n",
       "      <td>0.0</td>\n",
       "    </tr>\n",
       "    <tr>\n",
       "      <th>33766</th>\n",
       "      <td>33766</td>\n",
       "      <td>620.627102</td>\n",
       "      <td>0.0</td>\n",
       "    </tr>\n",
       "    <tr>\n",
       "      <th>33767</th>\n",
       "      <td>33767</td>\n",
       "      <td>618.968497</td>\n",
       "      <td>0.0</td>\n",
       "    </tr>\n",
       "    <tr>\n",
       "      <th>33768</th>\n",
       "      <td>33768</td>\n",
       "      <td>618.142378</td>\n",
       "      <td>0.0</td>\n",
       "    </tr>\n",
       "  </tbody>\n",
       "</table>\n",
       "<p>33590 rows × 3 columns</p>\n",
       "</div>"
      ],
      "text/plain": [
       "       frame.1    distance  particle\n",
       "frame                               \n",
       "1            1  125.936492       0.0\n",
       "2            2  125.936492       0.0\n",
       "3            3  125.936492       0.0\n",
       "4            4  123.967738       0.0\n",
       "5            5  124.951991       0.0\n",
       "...        ...         ...       ...\n",
       "33764    33764  622.602602       0.0\n",
       "33765    33765  621.930060       0.0\n",
       "33766    33766  620.627102       0.0\n",
       "33767    33767  618.968497       0.0\n",
       "33768    33768  618.142378       0.0\n",
       "\n",
       "[33590 rows x 3 columns]"
      ]
     },
     "execution_count": 105,
     "metadata": {},
     "output_type": "execute_result"
    }
   ],
   "source": [
    "relevant_particle"
   ]
  },
  {
   "cell_type": "code",
   "execution_count": 99,
   "id": "48f1eb83-8bf7-43de-b2d1-7f0de2bd8c78",
   "metadata": {},
   "outputs": [
    {
     "ename": "IndexError",
     "evalue": "index 1 is out of bounds for axis 0 with size 1",
     "output_type": "error",
     "traceback": [
      "\u001b[1;31m---------------------------------------------------------------------------\u001b[0m",
      "\u001b[1;31mIndexError\u001b[0m                                Traceback (most recent call last)",
      "Cell \u001b[1;32mIn [99], line 1\u001b[0m\n\u001b[1;32m----> 1\u001b[0m np\u001b[38;5;241m.\u001b[39margwhere(\u001b[43mfronter_times\u001b[49m\u001b[38;5;241;43m.\u001b[39;49m\u001b[43mcolumns\u001b[49m\u001b[38;5;241;43m.\u001b[39;49m\u001b[43mvalues\u001b[49m\u001b[43m[\u001b[49m\u001b[38;5;241;43m1\u001b[39;49m\u001b[43m]\u001b[49m\u001b[38;5;241m==\u001b[39m\u001b[38;5;241m0\u001b[39m)\n",
      "\u001b[1;31mIndexError\u001b[0m: index 1 is out of bounds for axis 0 with size 1"
     ]
    }
   ],
   "source": [
    "np.argwhere(fronter_times.columns.values[1]==0)"
   ]
  },
  {
   "cell_type": "code",
   "execution_count": 89,
   "id": "a1eccd73-3aca-4931-82aa-db57b4444b35",
   "metadata": {},
   "outputs": [
    {
     "name": "stdout",
     "output_type": "stream",
     "text": [
      "fronter_times   -3.218876\n",
      "dtype: float64\n"
     ]
    },
    {
     "name": "stderr",
     "output_type": "stream",
     "text": [
      "C:\\Users\\User\\AppData\\Local\\Programs\\Python\\Python38\\lib\\site-packages\\numpy\\core\\fromnumeric.py:69: FutureWarning: In a future version, DataFrame.min(axis=None) will return a scalar min over the entire DataFrame. To retain the old behavior, use 'frame.min(axis=0)' or just 'frame.min()'\n",
      "  def _wrapreduction(obj, ufunc, method, axis, dtype, out, **kwargs):\n"
     ]
    }
   ],
   "source": [
    "log_fronter_times=np.log(fronter_times)\n",
    "print(np.min(log_fronter_times))"
   ]
  },
  {
   "cell_type": "code",
   "execution_count": 90,
   "id": "6d62e8f5-1148-40a6-aeeb-143ce182d89b",
   "metadata": {},
   "outputs": [
    {
     "name": "stdout",
     "output_type": "stream",
     "text": [
      "aligner_times    7.10319\n",
      "dtype: float64\n"
     ]
    },
    {
     "name": "stderr",
     "output_type": "stream",
     "text": [
      "C:\\Users\\User\\AppData\\Local\\Programs\\Python\\Python38\\lib\\site-packages\\numpy\\core\\fromnumeric.py:69: FutureWarning: In a future version, DataFrame.max(axis=None) will return a scalar max over the entire DataFrame. To retain the old behavior, use 'frame.max(axis=0)' or just 'frame.max()'\n",
      "  def _wrapreduction(obj, ufunc, method, axis, dtype, out, **kwargs):\n"
     ]
    }
   ],
   "source": [
    "log_aligner_times=np.log(aligner_times)\n",
    "print(np.max(log_aligner_times))"
   ]
  },
  {
   "cell_type": "code",
   "execution_count": 92,
   "id": "1c2858de-1502-474a-aac5-408a5589cd21",
   "metadata": {},
   "outputs": [
    {
     "data": {
      "image/png": "[encoded data removed]",
      "text/plain": [
       "<Figure size 640x480 with 1 Axes>"
      ]
     },
     "metadata": {},
     "output_type": "display_data"
    }
   ],
   "source": [
    "bin_num=1500\n",
    "#bin_range=(np.array(fronter_times).min(),np.array(fronter_times).max())\n",
    "#bin_range=(np.array(fronter_times).min(),100)\n",
    "log_plt=True\n",
    "#plt.xscale('log')\n",
    "log_fronter_times=np.log(fronter_times)\n",
    "log_aligner_times=np.log(aligner_times)\n",
    "plt.hist(log_fronter_times,range=[-4,10],bins=bin_num,log=log_plt,label='fronters')\n",
    "plt.hist(log_aligner_times,range=[-4,10],bins=bin_num,alpha=0.7,log=log_plt,label='aligners')\n",
    "plt.legend(loc='upper right')\n",
    "plt.xlabel('Time[sec]')\n",
    "plt.grid()\n",
    "plt.show()"
   ]
  },
  {
   "cell_type": "code",
   "execution_count": 71,
   "id": "ab6b368e-e390-42c8-8757-2e8430a7bed0",
   "metadata": {},
   "outputs": [
    {
     "name": "stdout",
     "output_type": "stream",
     "text": [
      "(array([], dtype=int64),)\n",
      "(array([], dtype=int64),)\n"
     ]
    }
   ],
   "source": [
    "#print(log_fronter_times)\n",
    "#print(np.min(fronter_times))\n",
    "print(np.where(fronter_times==0.0))\n",
    "result=np.where(fronter_times==0.0)\n",
    "print(result)"
   ]
  },
  {
   "cell_type": "code",
   "execution_count": 55,
   "id": "45643497-3152-4c51-ae2b-602d693ff7ee",
   "metadata": {},
   "outputs": [
    {
     "data": {
      "image/png": "[encoded data removed]",
      "text/plain": [
       "<Figure size 640x480 with 2 Axes>"
      ]
     },
     "metadata": {},
     "output_type": "display_data"
    }
   ],
   "source": [
    "f, (ax1, ax2) = plt.subplots(1, 2, sharey=True)\n",
    "ax1.set_xscale('log')\n",
    "ax2.set_xscale('log')\n",
    "ax1.hist(fronter_times,bins=bin_num,log=log_plt,label='fronters')\n",
    "ax1.set_title('fronters histogram')\n",
    "ax2.hist(aligner_times,bins=bin_num,log=log_plt,label='aligners')\n",
    "ax2.set_title('aligners histogram')\n",
    "ax1.grid()\n",
    "ax2.grid()\n",
    "ax1.set_xlabel('Time[sec]')\n",
    "ax2.set_xlabel('Time[sec]')\n",
    "plt.show()"
   ]
  },
  {
   "cell_type": "code",
   "execution_count": 13,
   "id": "bd75a162-d44b-46a4-91c5-b332426dd0b8",
   "metadata": {},
   "outputs": [
    {
     "data": {
      "text/plain": [
       "4274"
      ]
     },
     "execution_count": 13,
     "metadata": {},
     "output_type": "execute_result"
    }
   ],
   "source": [
    "len(fronter_times)"
   ]
  },
  {
   "cell_type": "code",
   "execution_count": 14,
   "id": "12adafa2-3b8c-448d-9862-096341f6ddf7",
   "metadata": {},
   "outputs": [
    {
     "data": {
      "text/plain": [
       "3226"
      ]
     },
     "execution_count": 14,
     "metadata": {},
     "output_type": "execute_result"
    }
   ],
   "source": [
    "len(aligner_times)"
   ]
  },
  {
   "cell_type": "code",
   "execution_count": null,
   "id": "fc1b4baa-bcb9-4aeb-8fdb-a0c3596cb9c6",
   "metadata": {},
   "outputs": [],
   "source": [
    "range=(np.array(fronter_times).min(),40"
   ]
  }
 ],
 "metadata": {
  "kernelspec": {
   "display_name": "Python 3 (ipykernel)",
   "language": "python",
   "name": "python3"
  },
  "language_info": {
   "codemirror_mode": {
    "name": "ipython",
    "version": 3
   },
   "file_extension": ".py",
   "mimetype": "text/x-python",
   "name": "python",
   "nbconvert_exporter": "python",
   "pygments_lexer": "ipython3",
   "version": "3.8.1"
  }
 },
 "nbformat": 4,
 "nbformat_minor": 5
}
