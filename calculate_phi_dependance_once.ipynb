{
 "cells": [
  {
   "cell_type": "code",
   "execution_count": 1,
   "id": "ff78b14a-d536-42a1-8601-9b4ef5230f93",
   "metadata": {},
   "outputs": [],
   "source": [
    "%matplotlib inline\n",
    "#%matplotlib widget\n"
   ]
  },
  {
   "cell_type": "code",
   "execution_count": 2,
   "id": "505f4046-521a-42cd-ba2f-657d9bb51439",
   "metadata": {},
   "outputs": [],
   "source": [
    "#############imports######################################################################\n",
    "import cv2 as cv2\n",
    "from matplotlib import pyplot as plt\n",
    "import pandas as pd\n",
    "import numpy as np\n",
    "import trackpy as tp\n",
    "from ipywidgets import HBox, Textarea, interact\n"
   ]
  },
  {
   "cell_type": "code",
   "execution_count": 24,
   "id": "2f84632f-a9f0-41b2-bde4-0d1eb10a7c38",
   "metadata": {},
   "outputs": [
    {
     "name": "stdout",
     "output_type": "stream",
     "text": [
      "fronter_N021_D028_C0490.MP4_loc.csv\n",
      "            x     y   absolute\n",
      "frame                         \n",
      "1.0       NaN   NaN        NaN\n",
      "2.0       0.0   0.0   0.000000\n",
      "3.0     -25.0 -25.0  35.355339\n",
      "4.0       0.0  50.0  50.000000\n",
      "5.0      50.0 -50.0  70.710678\n",
      "...       ...   ...        ...\n",
      "31040.0 -25.0 -25.0  35.355339\n",
      "31041.0  75.0   0.0  75.000000\n",
      "31042.0 -25.0   0.0  25.000000\n",
      "31043.0  50.0 -25.0  55.901699\n",
      "31044.0 -25.0  25.0  35.355339\n",
      "\n",
      "[31003 rows x 3 columns]\n"
     ]
    }
   ],
   "source": [
    "expSumFileName ='C:\\\\Users\\\\User\\\\Documents\\\\Eden\\\\locate_git_code\\\\packaged\\\\expSumPack21.csv'\n",
    "expSum = pd.read_csv(expSumFileName,index_col=0)\n",
    "expnum=26\n",
    "passive_path='C:\\\\Users\\\\User\\\\Documents\\\\Eden\\\\locate_git_code\\\\packaged'\n",
    "expSum=expSum.iloc[expnum]\n",
    "#for index,row in expSum.iterrows():\n",
    "PassiveLocatingFileName=expSum.locatingFileNamePack\n",
    "print(PassiveLocatingFileName)\n",
    "PassiveLocating=pd.read_csv(passive_path+'\\\\'+PassiveLocatingFileName,index_col=0)\n",
    "#first_passive_x=PassiveLocating.x[0]\n",
    "#first_passive_y=PassiveLocating.y[0]\n",
    "PassiveLocating.set_index('frame',inplace=True)\n",
    "#print(PassiveLocating)\n",
    "#phi=np.degrees(np.arctan2((PassiveLocating.y-first_passive_y),(PassiveLocating.x-first_passive_x)))\n",
    "velocity=PassiveLocating[['x','y']].diff()*25\n",
    "velocity['absolute']=np.sqrt(np.power(velocity.x,2)+np.power(velocity.y,2))\n",
    "print(velocity)\n",
    "\n",
    "#phi=np.tan(velocity.y/velocity.x)\n",
    "#print(phi)"
   ]
  },
  {
   "cell_type": "code",
   "execution_count": 25,
   "id": "4632deb3-b8f4-45e1-bbba-428959c9fadb",
   "metadata": {},
   "outputs": [
    {
     "name": "stdout",
     "output_type": "stream",
     "text": [
      "1000.0\n",
      "2000.0\n",
      "3000.0\n",
      "4000.0\n",
      "5000.0\n",
      "6000.0\n",
      "7000.0\n",
      "8000.0\n",
      "9000.0\n",
      "10000.0\n",
      "11000.0\n",
      "12000.0\n",
      "13000.0\n",
      "14000.0\n",
      "15000.0\n",
      "16000.0\n",
      "17000.0\n",
      "18000.0\n",
      "19000.0\n",
      "20000.0\n",
      "21000.0\n",
      "22000.0\n",
      "23000.0\n",
      "24000.0\n",
      "25000.0\n",
      "26000.0\n",
      "27000.0\n",
      "28000.0\n",
      "29000.0\n",
      "30000.0\n",
      "31000.0\n",
      "         frame           x          y    absolute         phi\n",
      "0          1.0   -1.571429  -1.761905    2.360868 -131.729512\n",
      "1          2.0   -1.380952  -1.523810    2.056459 -132.184443\n",
      "2          3.0   -2.619048  -2.523810    3.637173 -136.060912\n",
      "3          4.0   -2.333333  -0.190476    2.341095 -175.333142\n",
      "4          5.0   -0.857143  -2.619048    2.755740 -108.121860\n",
      "...        ...         ...        ...         ...         ...\n",
      "30998  31040.0  107.000000  60.000000  122.674366   29.281427\n",
      "30999  31041.0  110.000000  60.000000  125.299641   28.610460\n",
      "31000  31042.0  109.000000  59.000000  123.943536   28.425992\n",
      "31001  31043.0  110.000000  62.000000  126.269553   29.407189\n",
      "31002  31044.0  110.000000  60.000000  125.299641   28.610460\n",
      "\n",
      "[31003 rows x 5 columns]\n"
     ]
    }
   ],
   "source": [
    "expSumbotFileName='C:\\\\Users\\\\User\\\\Documents\\\\Eden\\\\locate_git_code\\\\packaged\\\\botsTracking\\\\expSumPack21.csv'\n",
    "expSumbot = pd.read_csv(expSumbotFileName,index_col=0)\n",
    "passive_bot_path='C:\\\\Users\\\\User\\\\Documents\\\\Eden\\\\locate_git_code\\\\packaged\\\\botsTracking'\n",
    "expSumbot=expSumbot.iloc[expnum]\n",
    "BotLocatingFileName=expSumbot.botsLocatingFileNamePack\n",
    "BotLocating=pd.read_csv(passive_bot_path+'\\\\'+BotLocatingFileName,index_col=0)\n",
    "#close_threshold=55**2\n",
    "close_threshold=140**2\n",
    "#too_close_thresh=18**2\n",
    "too_close_thresh=100**2\n",
    "r_vector_time=pd.DataFrame()\n",
    "for index, row in PassiveLocating.iterrows():\n",
    "    if index%1000==0:\n",
    "        print(index)\n",
    "    relevant_passive_data=row\n",
    "    relevant_bots_data=BotLocating[(BotLocating['frame']==index)]\n",
    "    bots_x=relevant_bots_data.x\n",
    "    bots_y=relevant_bots_data.y\n",
    "    distance=np.array(np.power((row.x-bots_x),2)+np.power((row.y-bots_y),2))\n",
    "    relevant_bots_data_distance=pd.DataFrame({'frame':relevant_bots_data['frame'],'distance_sq':distance,\n",
    "                                              'x':relevant_bots_data.x,'y':relevant_bots_data.y})\n",
    "    #BotLocating.loc[(BotLocating['frame']==index),'distance_sq']=distance\n",
    "    cond=(relevant_bots_data_distance.distance_sq<=close_threshold)&(relevant_bots_data_distance.distance_sq>too_close_thresh)\n",
    "    relevant_bots_dataCG=relevant_bots_data_distance[cond]\n",
    "    r_vector_x=np.mean(row.x-relevant_bots_dataCG.x)\n",
    "    \n",
    "    r_vector_y=np.mean(row.y-relevant_bots_dataCG.y)\n",
    "    r_vector_time_row=pd.DataFrame()\n",
    "    r_vector_time_row['frame']=np.array([index])\n",
    "    r_vector_time_row['x']=np.array([r_vector_x])\n",
    "    r_vector_time_row['y']=np.array([r_vector_y])\n",
    "    r_vector_time_row['absolute']=np.array([np.sqrt(np.power(r_vector_x,2)+np.power(r_vector_y,2))])\n",
    "    r_vector_time_row['phi']=np.array([np.degrees(np.arctan2(r_vector_y,r_vector_x))])\n",
    "    r_vector_time=pd.concat([r_vector_time,r_vector_time_row],axis=0,ignore_index=True)\n",
    "print(r_vector_time)"
   ]
  },
  {
   "cell_type": "code",
   "execution_count": 26,
   "id": "4f74aa33-09fd-4f6a-8726-b46d86922ea2",
   "metadata": {},
   "outputs": [],
   "source": [
    "r_vector_time.to_csv('C:\\\\Users\\\\User\\\\Documents\\\\Eden\\\\locate_git_code\\\\phi_test.csv')"
   ]
  },
  {
   "cell_type": "code",
   "execution_count": 36,
   "id": "d9d57952-0800-4c57-b919-311e56768ef9",
   "metadata": {},
   "outputs": [
    {
     "name": "stdout",
     "output_type": "stream",
     "text": [
      "0.0        0.000000\n",
      "1.0        0.000000\n",
      "2.0        0.000000\n",
      "3.0        0.762294\n",
      "4.0       -0.950397\n",
      "             ...   \n",
      "31040.0    0.000000\n",
      "31041.0    0.000000\n",
      "31042.0    0.000000\n",
      "31043.0    0.000000\n",
      "31044.0    0.000000\n",
      "Length: 31045, dtype: float64\n"
     ]
    }
   ],
   "source": [
    "p=(r_vector_time.x*velocity.x+r_vector_time.y*velocity.y)/(r_vector_time.absolute*velocity.absolute)\n",
    "p.fillna(0,inplace=True)\n",
    "print(p)\n",
    "p.to_csv('C:\\\\Users\\\\User\\\\Documents\\\\Eden\\\\locate_git_code\\\\p_test.csv')\n",
    "x=r_vector_time.x*velocity.x\n",
    "x.to_csv('C:\\\\Users\\\\User\\\\Documents\\\\Eden\\\\locate_git_code\\\\p_test_x.csv')\n",
    "y=r_vector_time.y*velocity.y\n",
    "y.to_csv('C:\\\\Users\\\\User\\\\Documents\\\\Eden\\\\locate_git_code\\\\p_test_y.csv')\n",
    "absolute=r_vector_time.absolute*velocity.absolute\n",
    "absolute.to_csv('C:\\\\Users\\\\User\\\\Documents\\\\Eden\\\\locate_git_code\\\\p_test_abs.csv')"
   ]
  },
  {
   "cell_type": "code",
   "execution_count": 33,
   "id": "c4a3e93a-4a5c-4bf8-a2c8-c29073f505c8",
   "metadata": {},
   "outputs": [
    {
     "name": "stdout",
     "output_type": "stream",
     "text": [
      "[   0    0    0 ... 1241 1241 1241]\n"
     ]
    }
   ],
   "source": [
    "test=np.arange(len(y))//(25)\n",
    "print(np.arange(len(y))//(25))\n",
    "test.tofile('C:\\\\Users\\\\User\\\\Documents\\\\Eden\\\\locate_git_code\\\\p_test_arrange.csv')"
   ]
  },
  {
   "cell_type": "code",
   "execution_count": null,
   "id": "f5ccac2c-8192-46db-93a4-84c1fcf87821",
   "metadata": {},
   "outputs": [],
   "source": []
  }
 ],
 "metadata": {
  "kernelspec": {
   "display_name": "Python 3 (ipykernel)",
   "language": "python",
   "name": "python3"
  },
  "language_info": {
   "codemirror_mode": {
    "name": "ipython",
    "version": 3
   },
   "file_extension": ".py",
   "mimetype": "text/x-python",
   "name": "python",
   "nbconvert_exporter": "python",
   "pygments_lexer": "ipython3",
   "version": "3.8.1"
  }
 },
 "nbformat": 4,
 "nbformat_minor": 5
}
