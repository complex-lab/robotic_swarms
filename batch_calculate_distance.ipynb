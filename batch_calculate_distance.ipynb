{
 "cells": [
  {
   "cell_type": "code",
   "execution_count": 1,
   "id": "87e16db2-2971-4780-bffd-92decaee348f",
   "metadata": {},
   "outputs": [],
   "source": [
    "%matplotlib inline\n",
    "#%matplotlib widget\n"
   ]
  },
  {
   "cell_type": "code",
   "execution_count": 2,
   "id": "cc996167-eb03-4d73-8721-77683a8430be",
   "metadata": {},
   "outputs": [],
   "source": [
    "#############imports######################################################################\n",
    "import cv2 as cv2\n",
    "from matplotlib import pyplot as plt\n",
    "import pandas as pd\n",
    "import numpy as np\n",
    "import trackpy as tp\n",
    "from ipywidgets import HBox, Textarea, interact\n"
   ]
  },
  {
   "cell_type": "code",
   "execution_count": 5,
   "id": "b2b540f3-ee79-4837-9a10-3fcae0ffcb4d",
   "metadata": {},
   "outputs": [
    {
     "name": "stdout",
     "output_type": "stream",
     "text": [
      "fronter_N008_D028_C0567.MP4_loc.csv\n",
      "bots_fronter_N008_D028_C0567.MP4_botsLoc.csv\n"
     ]
    },
    {
     "name": "stderr",
     "output_type": "stream",
     "text": [
      "C:\\Users\\User\\AppData\\Local\\Temp\\ipykernel_41908\\854571353.py:11: FutureWarning: The default dtype for empty Series will be 'object' instead of 'float64' in a future version. Specify a dtype explicitly to silence this warning.\n",
      "  for index,row in expSum.iterrows():\n"
     ]
    },
    {
     "name": "stdout",
     "output_type": "stream",
     "text": [
      "C:\\Users\\User\\Documents\\Eden\\locate_git_code\\packagedfronter_N008_D028_C0567.MP4_loc.csv_distances.csv\n",
      "fronter_N008_D028_C0566.MP4_loc.csv\n",
      "bots_fronter_N008_D028_C0566.MP4_botsLoc.csv\n"
     ]
    },
    {
     "name": "stderr",
     "output_type": "stream",
     "text": [
      "C:\\Users\\User\\AppData\\Local\\Temp\\ipykernel_41908\\854571353.py:11: FutureWarning: The default dtype for empty Series will be 'object' instead of 'float64' in a future version. Specify a dtype explicitly to silence this warning.\n",
      "  for index,row in expSum.iterrows():\n"
     ]
    },
    {
     "name": "stdout",
     "output_type": "stream",
     "text": [
      "C:\\Users\\User\\Documents\\Eden\\locate_git_code\\packagedfronter_N008_D028_C0566.MP4_loc.csv_distances.csv\n",
      "fronter_N008_D028_C0565.MP4_loc.csv\n",
      "bots_fronter_N008_D028_C0565.MP4_botsLoc.csv\n"
     ]
    },
    {
     "name": "stderr",
     "output_type": "stream",
     "text": [
      "C:\\Users\\User\\AppData\\Local\\Temp\\ipykernel_41908\\854571353.py:11: FutureWarning: The default dtype for empty Series will be 'object' instead of 'float64' in a future version. Specify a dtype explicitly to silence this warning.\n",
      "  for index,row in expSum.iterrows():\n"
     ]
    },
    {
     "ename": "KeyboardInterrupt",
     "evalue": "",
     "output_type": "error",
     "traceback": [
      "\u001b[1;31m---------------------------------------------------------------------------\u001b[0m",
      "\u001b[1;31mKeyboardInterrupt\u001b[0m                         Traceback (most recent call last)",
      "Cell \u001b[1;32mIn [5], line 11\u001b[0m\n\u001b[0;32m      9\u001b[0m bot_path\u001b[38;5;241m=\u001b[39m\u001b[38;5;124m'\u001b[39m\u001b[38;5;124mC:\u001b[39m\u001b[38;5;130;01m\\\\\u001b[39;00m\u001b[38;5;124mUsers\u001b[39m\u001b[38;5;130;01m\\\\\u001b[39;00m\u001b[38;5;124mUser\u001b[39m\u001b[38;5;130;01m\\\\\u001b[39;00m\u001b[38;5;124mDocuments\u001b[39m\u001b[38;5;130;01m\\\\\u001b[39;00m\u001b[38;5;124mEden\u001b[39m\u001b[38;5;130;01m\\\\\u001b[39;00m\u001b[38;5;124mlocate_git_code\u001b[39m\u001b[38;5;130;01m\\\\\u001b[39;00m\u001b[38;5;124mpackaged\u001b[39m\u001b[38;5;130;01m\\\\\u001b[39;00m\u001b[38;5;124mbotsTracking\u001b[39m\u001b[38;5;124m'\u001b[39m\n\u001b[0;32m     10\u001b[0m iterrations\u001b[38;5;241m=\u001b[39m\u001b[38;5;241m0\u001b[39m\n\u001b[1;32m---> 11\u001b[0m \u001b[38;5;28;01mfor\u001b[39;00m index,row \u001b[38;5;129;01min\u001b[39;00m expSum\u001b[38;5;241m.\u001b[39miterrows():\n\u001b[0;32m     12\u001b[0m     Passiverow\u001b[38;5;241m=\u001b[39mexpSumPassive\u001b[38;5;241m.\u001b[39miloc[iterrations]\n\u001b[0;32m     13\u001b[0m     PassiveLocatingFileName\u001b[38;5;241m=\u001b[39mPassiverow\u001b[38;5;241m.\u001b[39mlocatingFileNamePack\n",
      "File \u001b[1;32m~\\AppData\\Local\\Programs\\Python\\Python38\\lib\\site-packages\\pandas\\core\\ops\\common.py:57\u001b[0m, in \u001b[0;36m_unpack_zerodim_and_defer.<locals>.new_method\u001b[1;34m(self, other)\u001b[0m\n\u001b[0;32m     40\u001b[0m \u001b[38;5;124;03m\"\"\"\u001b[39;00m\n\u001b[0;32m     41\u001b[0m \u001b[38;5;124;03mBoilerplate for pandas conventions in arithmetic and comparison methods.\u001b[39;00m\n\u001b[0;32m     42\u001b[0m \n\u001b[1;32m   (...)\u001b[0m\n\u001b[0;32m     53\u001b[0m \u001b[38;5;124;03mmethod\u001b[39;00m\n\u001b[0;32m     54\u001b[0m \u001b[38;5;124;03m\"\"\"\u001b[39;00m\n\u001b[0;32m     55\u001b[0m is_cmp \u001b[38;5;241m=\u001b[39m name\u001b[38;5;241m.\u001b[39mstrip(\u001b[38;5;124m\"\u001b[39m\u001b[38;5;124m__\u001b[39m\u001b[38;5;124m\"\u001b[39m) \u001b[38;5;129;01min\u001b[39;00m {\u001b[38;5;124m\"\u001b[39m\u001b[38;5;124meq\u001b[39m\u001b[38;5;124m\"\u001b[39m, \u001b[38;5;124m\"\u001b[39m\u001b[38;5;124mne\u001b[39m\u001b[38;5;124m\"\u001b[39m, \u001b[38;5;124m\"\u001b[39m\u001b[38;5;124mlt\u001b[39m\u001b[38;5;124m\"\u001b[39m, \u001b[38;5;124m\"\u001b[39m\u001b[38;5;124mle\u001b[39m\u001b[38;5;124m\"\u001b[39m, \u001b[38;5;124m\"\u001b[39m\u001b[38;5;124mgt\u001b[39m\u001b[38;5;124m\"\u001b[39m, \u001b[38;5;124m\"\u001b[39m\u001b[38;5;124mge\u001b[39m\u001b[38;5;124m\"\u001b[39m}\n\u001b[1;32m---> 57\u001b[0m \u001b[38;5;129m@wraps\u001b[39m(method)\n\u001b[0;32m     58\u001b[0m \u001b[38;5;28;01mdef\u001b[39;00m \u001b[38;5;21mnew_method\u001b[39m(\u001b[38;5;28mself\u001b[39m, other):\n\u001b[0;32m     60\u001b[0m     \u001b[38;5;28;01mif\u001b[39;00m is_cmp \u001b[38;5;129;01mand\u001b[39;00m \u001b[38;5;28misinstance\u001b[39m(\u001b[38;5;28mself\u001b[39m, ABCIndex) \u001b[38;5;129;01mand\u001b[39;00m \u001b[38;5;28misinstance\u001b[39m(other, ABCSeries):\n\u001b[0;32m     61\u001b[0m         \u001b[38;5;66;03m# For comparison ops, Index does *not* defer to Series\u001b[39;00m\n\u001b[0;32m     62\u001b[0m         \u001b[38;5;28;01mpass\u001b[39;00m\n",
      "File \u001b[1;32m~\\AppData\\Local\\Programs\\Python\\Python38\\lib\\site-packages\\pandas\\core\\arraylike.py:40\u001b[0m, in \u001b[0;36mOpsMixin.__eq__\u001b[1;34m(self, other)\u001b[0m\n\u001b[0;32m     37\u001b[0m \u001b[38;5;28;01mdef\u001b[39;00m \u001b[38;5;21m_cmp_method\u001b[39m(\u001b[38;5;28mself\u001b[39m, other, op):\n\u001b[0;32m     38\u001b[0m     \u001b[38;5;28;01mreturn\u001b[39;00m \u001b[38;5;28mNotImplemented\u001b[39m\n\u001b[1;32m---> 40\u001b[0m \u001b[38;5;129m@unpack_zerodim_and_defer\u001b[39m(\u001b[38;5;124m\"\u001b[39m\u001b[38;5;124m__eq__\u001b[39m\u001b[38;5;124m\"\u001b[39m)\n\u001b[0;32m     41\u001b[0m \u001b[38;5;28;01mdef\u001b[39;00m \u001b[38;5;21m__eq__\u001b[39m(\u001b[38;5;28mself\u001b[39m, other):\n\u001b[0;32m     42\u001b[0m     \u001b[38;5;28;01mreturn\u001b[39;00m \u001b[38;5;28mself\u001b[39m\u001b[38;5;241m.\u001b[39m_cmp_method(other, operator\u001b[38;5;241m.\u001b[39meq)\n\u001b[0;32m     44\u001b[0m \u001b[38;5;129m@unpack_zerodim_and_defer\u001b[39m(\u001b[38;5;124m\"\u001b[39m\u001b[38;5;124m__ne__\u001b[39m\u001b[38;5;124m\"\u001b[39m)\n\u001b[0;32m     45\u001b[0m \u001b[38;5;28;01mdef\u001b[39;00m \u001b[38;5;21m__ne__\u001b[39m(\u001b[38;5;28mself\u001b[39m, other):\n",
      "File \u001b[1;32m~\\AppData\\Local\\Programs\\Python\\Python38\\lib\\site-packages\\pandas\\core\\series.py:6233\u001b[0m, in \u001b[0;36mSeries._cmp_method\u001b[1;34m(self, other, op)\u001b[0m\n\u001b[0;32m   6228\u001b[0m hist \u001b[38;5;241m=\u001b[39m pandas\u001b[38;5;241m.\u001b[39mplotting\u001b[38;5;241m.\u001b[39mhist_series\n\u001b[0;32m   6230\u001b[0m \u001b[38;5;66;03m# ----------------------------------------------------------------------\u001b[39;00m\n\u001b[0;32m   6231\u001b[0m \u001b[38;5;66;03m# Template-Based Arithmetic/Comparison Methods\u001b[39;00m\n\u001b[1;32m-> 6233\u001b[0m \u001b[38;5;28;01mdef\u001b[39;00m \u001b[38;5;21m_cmp_method\u001b[39m(\u001b[38;5;28mself\u001b[39m, other, op):\n\u001b[0;32m   6234\u001b[0m     res_name \u001b[38;5;241m=\u001b[39m ops\u001b[38;5;241m.\u001b[39mget_op_result_name(\u001b[38;5;28mself\u001b[39m, other)\n\u001b[0;32m   6236\u001b[0m     \u001b[38;5;28;01mif\u001b[39;00m \u001b[38;5;28misinstance\u001b[39m(other, Series) \u001b[38;5;129;01mand\u001b[39;00m \u001b[38;5;129;01mnot\u001b[39;00m \u001b[38;5;28mself\u001b[39m\u001b[38;5;241m.\u001b[39m_indexed_same(other):\n",
      "File \u001b[1;32m~\\AppData\\Local\\Programs\\Python\\Python38\\lib\\site-packages\\pandas\\core\\ops\\array_ops.py:231\u001b[0m, in \u001b[0;36mcomparison_op\u001b[1;34m(left, right, op)\u001b[0m\n\u001b[0;32m    226\u001b[0m         res_values \u001b[38;5;241m=\u001b[39m _na_arithmetic_op(left, right, op)  \u001b[38;5;66;03m# type: ignore[arg-type]\u001b[39;00m\n\u001b[0;32m    228\u001b[0m     \u001b[38;5;28;01mreturn\u001b[39;00m res_values\n\u001b[1;32m--> 231\u001b[0m \u001b[38;5;28;01mdef\u001b[39;00m \u001b[38;5;21mcomparison_op\u001b[39m(left: ArrayLike, right: Any, op) \u001b[38;5;241m-\u001b[39m\u001b[38;5;241m>\u001b[39m ArrayLike:\n\u001b[0;32m    232\u001b[0m     \u001b[38;5;124;03m\"\"\"\u001b[39;00m\n\u001b[0;32m    233\u001b[0m \u001b[38;5;124;03m    Evaluate a comparison operation `=`, `!=`, `>=`, `>`, `<=`, or `<`.\u001b[39;00m\n\u001b[0;32m    234\u001b[0m \n\u001b[1;32m   (...)\u001b[0m\n\u001b[0;32m    247\u001b[0m \u001b[38;5;124;03m    ndarray or ExtensionArray\u001b[39;00m\n\u001b[0;32m    248\u001b[0m \u001b[38;5;124;03m    \"\"\"\u001b[39;00m\n\u001b[0;32m    249\u001b[0m     \u001b[38;5;66;03m# NB: We assume extract_array has already been called on left and right\u001b[39;00m\n",
      "File \u001b[1;32m~\\AppData\\Local\\Programs\\Python\\Python38\\lib\\site-packages\\pandas\\core\\ops\\array_ops.py:136\u001b[0m, in \u001b[0;36m_na_arithmetic_op\u001b[1;34m(left, right, op, is_cmp)\u001b[0m\n\u001b[0;32m    132\u001b[0m     result \u001b[38;5;241m=\u001b[39m result\u001b[38;5;241m.\u001b[39mreshape(x\u001b[38;5;241m.\u001b[39mshape)  \u001b[38;5;66;03m# 2D compat\u001b[39;00m\n\u001b[0;32m    133\u001b[0m     \u001b[38;5;28;01mreturn\u001b[39;00m result\n\u001b[1;32m--> 136\u001b[0m \u001b[38;5;28;01mdef\u001b[39;00m \u001b[38;5;21m_na_arithmetic_op\u001b[39m(left: np\u001b[38;5;241m.\u001b[39mndarray, right, op, is_cmp: \u001b[38;5;28mbool\u001b[39m \u001b[38;5;241m=\u001b[39m \u001b[38;5;28;01mFalse\u001b[39;00m):\n\u001b[0;32m    137\u001b[0m     \u001b[38;5;124;03m\"\"\"\u001b[39;00m\n\u001b[0;32m    138\u001b[0m \u001b[38;5;124;03m    Return the result of evaluating op on the passed in values.\u001b[39;00m\n\u001b[0;32m    139\u001b[0m \n\u001b[1;32m   (...)\u001b[0m\n\u001b[0;32m    156\u001b[0m \u001b[38;5;124;03m    TypeError : invalid operation\u001b[39;00m\n\u001b[0;32m    157\u001b[0m \u001b[38;5;124;03m    \"\"\"\u001b[39;00m\n\u001b[0;32m    158\u001b[0m     \u001b[38;5;28;01mif\u001b[39;00m \u001b[38;5;28misinstance\u001b[39m(right, \u001b[38;5;28mstr\u001b[39m):\n\u001b[0;32m    159\u001b[0m         \u001b[38;5;66;03m# can never use numexpr\u001b[39;00m\n",
      "File \u001b[1;32m~\\AppData\\Local\\Programs\\Python\\Python38\\lib\\site-packages\\pandas\\core\\computation\\expressions.py:225\u001b[0m, in \u001b[0;36mevaluate\u001b[1;34m(op, a, b, use_numexpr)\u001b[0m\n\u001b[0;32m    221\u001b[0m             \u001b[38;5;28;01mreturn\u001b[39;00m \u001b[38;5;28;01mTrue\u001b[39;00m\n\u001b[0;32m    222\u001b[0m     \u001b[38;5;28;01mreturn\u001b[39;00m \u001b[38;5;28;01mFalse\u001b[39;00m\n\u001b[1;32m--> 225\u001b[0m \u001b[38;5;28;01mdef\u001b[39;00m \u001b[38;5;21mevaluate\u001b[39m(op, a, b, use_numexpr: \u001b[38;5;28mbool\u001b[39m \u001b[38;5;241m=\u001b[39m \u001b[38;5;28;01mTrue\u001b[39;00m):\n\u001b[0;32m    226\u001b[0m     \u001b[38;5;124;03m\"\"\"\u001b[39;00m\n\u001b[0;32m    227\u001b[0m \u001b[38;5;124;03m    Evaluate and return the expression of the op on a and b.\u001b[39;00m\n\u001b[0;32m    228\u001b[0m \n\u001b[1;32m   (...)\u001b[0m\n\u001b[0;32m    235\u001b[0m \u001b[38;5;124;03m        Whether to try to use numexpr.\u001b[39;00m\n\u001b[0;32m    236\u001b[0m \u001b[38;5;124;03m    \"\"\"\u001b[39;00m\n\u001b[0;32m    237\u001b[0m     op_str \u001b[38;5;241m=\u001b[39m _op_str_mapping[op]\n",
      "File \u001b[1;32m~\\AppData\\Local\\Programs\\Python\\Python38\\lib\\site-packages\\pandas\\core\\computation\\expressions.py:64\u001b[0m, in \u001b[0;36m_evaluate_standard\u001b[1;34m(op, op_str, a, b)\u001b[0m\n\u001b[0;32m     60\u001b[0m             n \u001b[38;5;241m=\u001b[39m ne\u001b[38;5;241m.\u001b[39mdetect_number_of_cores()\n\u001b[0;32m     61\u001b[0m         ne\u001b[38;5;241m.\u001b[39mset_num_threads(n)\n\u001b[1;32m---> 64\u001b[0m \u001b[38;5;28;01mdef\u001b[39;00m \u001b[38;5;21m_evaluate_standard\u001b[39m(op, op_str, a, b):\n\u001b[0;32m     65\u001b[0m     \u001b[38;5;124;03m\"\"\"\u001b[39;00m\n\u001b[0;32m     66\u001b[0m \u001b[38;5;124;03m    Standard evaluation.\u001b[39;00m\n\u001b[0;32m     67\u001b[0m \u001b[38;5;124;03m    \"\"\"\u001b[39;00m\n\u001b[0;32m     68\u001b[0m     \u001b[38;5;28;01mif\u001b[39;00m _TEST_MODE:\n",
      "\u001b[1;31mKeyboardInterrupt\u001b[0m: "
     ]
    }
   ],
   "source": [
    "expSumFileName ='C:\\\\Users\\\\User\\\\Documents\\\\Eden\\\\locate_git_code\\\\packaged\\\\botsTracking\\\\expSumPack.csv'\n",
    "expSum = pd.read_csv(expSumFileName,index_col=0)\n",
    "expSum=expSum[(expSum['bots']==8)]\n",
    "expSumFileNamePassive='C:\\\\Users\\\\User\\\\Documents\\\\Eden\\\\locate_git_code\\\\packaged\\\\expSumPack.csv'\n",
    "expSumPassive=pd.read_csv(expSumFileNamePassive,index_col=0)\n",
    "expSumPassive=expSumPassive[(expSumPassive['bots']==8)]\n",
    "suffix='_distances.csv'\n",
    "passive_path='C:\\\\Users\\\\User\\\\Documents\\\\Eden\\\\locate_git_code\\\\packaged'\n",
    "bot_path='C:\\\\Users\\\\User\\\\Documents\\\\Eden\\\\locate_git_code\\\\packaged\\\\botsTracking'\n",
    "iterrations=0\n",
    "for index,row in expSum.iterrows():\n",
    "    Passiverow=expSumPassive.iloc[iterrations]\n",
    "    PassiveLocatingFileName=Passiverow.locatingFileNamePack\n",
    "    print(PassiveLocatingFileName)\n",
    "    PassiveLocating=pd.read_csv(passive_path+'\\\\'+PassiveLocatingFileName,index_col=0)\n",
    "    BotLocatingFileName=row.botsLocatingFileNamePack\n",
    "    print(BotLocatingFileName)\n",
    "    BotLocating=pd.read_csv(bot_path+'\\\\'+BotLocatingFileName,index_col=0)\n",
    "    BotsFrameNum=BotLocating['frame']\n",
    "    d={'frame':BotsFrameNum}\n",
    "    distances=pd.Series()\n",
    "    iterrations=iterrations+1\n",
    "    for index, row in PassiveLocating.iterrows():\n",
    "        relevant_passive_data=row\n",
    "        relevant_bots_data=BotLocating[(BotLocating['frame']==row.frame)]\n",
    "        bots_x=relevant_bots_data.x\n",
    "        bots_y=relevant_bots_data.y\n",
    "        distance=np.power((row.x-bots_x),2)+np.power((row.y-bots_y),2)\n",
    "        distances=pd.concat([distances,distance],ignore_index=True)\n",
    "    df=pd.DataFrame(data=d)\n",
    "    df.insert(1,\"distance_sq\",distances)\n",
    "    print(passive_path+PassiveLocatingFileName+suffix)\n",
    "    df.to_csv(passive_path+PassiveLocatingFileName+suffix)"
   ]
  },
  {
   "cell_type": "code",
   "execution_count": 4,
   "id": "94028875-d8a2-4a2d-8766-ec576e6131df",
   "metadata": {},
   "outputs": [],
   "source": [
    "expSumFileName = 'C:\\\\Users\\\\User\\\\Documents\\\\Eden\\locate_git_code\\\\packaged\\\\botsTracking\\\\expSumPack.csv'\n",
    "expSum = pd.read_csv(expSumFileName,index_col=0)\n",
    "suffix='_distances.csv'\n",
    "distance_file_names=[]\n",
    "for index,row in expSum.iterrows():\n",
    "    file_name=row.path\n",
    "    distance_file_names.append(file_name+suffix)\n",
    "expSum['DistanceFileNames']=distance_file_names\n",
    "expSum.to_csv('C:\\\\Users\\\\User\\\\Documents\\\\Eden\\locate_git_code\\\\packaged\\\\botsTracking\\\\expSumPack_distance.csv')\n",
    "    "
   ]
  },
  {
   "cell_type": "code",
   "execution_count": null,
   "id": "994463e0-70b2-426c-88fe-4063b090ba1f",
   "metadata": {},
   "outputs": [],
   "source": []
  }
 ],
 "metadata": {
  "kernelspec": {
   "display_name": "Python 3 (ipykernel)",
   "language": "python",
   "name": "python3"
  },
  "language_info": {
   "codemirror_mode": {
    "name": "ipython",
    "version": 3
   },
   "file_extension": ".py",
   "mimetype": "text/x-python",
   "name": "python",
   "nbconvert_exporter": "python",
   "pygments_lexer": "ipython3",
   "version": "3.8.1"
  }
 },
 "nbformat": 4,
 "nbformat_minor": 5
}
