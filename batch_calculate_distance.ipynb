{
 "cells": [
  {
   "cell_type": "code",
   "execution_count": 1,
   "id": "87e16db2-2971-4780-bffd-92decaee348f",
   "metadata": {},
   "outputs": [],
   "source": [
    "%matplotlib inline\n",
    "#%matplotlib widget\n"
   ]
  },
  {
   "cell_type": "code",
   "execution_count": 2,
   "id": "cc996167-eb03-4d73-8721-77683a8430be",
   "metadata": {},
   "outputs": [],
   "source": [
    "#############imports######################################################################\n",
    "import cv2 as cv2\n",
    "from matplotlib import pyplot as plt\n",
    "import pandas as pd\n",
    "import numpy as np\n",
    "import trackpy as tp\n",
    "from ipywidgets import HBox, Textarea, interact\n"
   ]
  },
  {
   "cell_type": "code",
   "execution_count": 8,
   "id": "b2b540f3-ee79-4837-9a10-3fcae0ffcb4d",
   "metadata": {},
   "outputs": [
    {
     "name": "stdout",
     "output_type": "stream",
     "text": [
      "D:\\Eden\\new_exp_test_15_11_23\\12_12_23\\C0648.MP4\n",
      "D:\\Eden\\new_exp_test_15_11_23\\12_12_23\\C0648.MP4_locatedFull20231218_28cm_Eden.csv\n",
      "D:\\Eden\\new_exp_test_15_11_23\\12_12_23\\C0648.MP4_locatedFull20231218_bot_Eden.csv\n"
     ]
    },
    {
     "name": "stderr",
     "output_type": "stream",
     "text": [
      "C:\\Users\\User\\AppData\\Local\\Temp\\ipykernel_15140\\1569403186.py:34: FutureWarning: The default dtype for empty Series will be 'object' instead of 'float64' in a future version. Specify a dtype explicitly to silence this warning.\n",
      "  distances=pd.Series()\n"
     ]
    },
    {
     "name": "stdout",
     "output_type": "stream",
     "text": [
      "D:\\Eden\\new_exp_test_15_11_23\\12_12_23\\C0648.MP4_28cm_distances.csv\n",
      "D:\\Eden\\new_exp_test_15_11_23\\12_12_23\\C0649.MP4\n",
      "D:\\Eden\\new_exp_test_15_11_23\\12_12_23\\C0649.MP4_locatedFull20231218_28cm_Eden.csv\n",
      "D:\\Eden\\new_exp_test_15_11_23\\12_12_23\\C0649.MP4_locatedFull20231218_bot_Eden.csv\n"
     ]
    },
    {
     "name": "stderr",
     "output_type": "stream",
     "text": [
      "C:\\Users\\User\\AppData\\Local\\Temp\\ipykernel_15140\\1569403186.py:34: FutureWarning: The default dtype for empty Series will be 'object' instead of 'float64' in a future version. Specify a dtype explicitly to silence this warning.\n",
      "  distances=pd.Series()\n"
     ]
    },
    {
     "name": "stdout",
     "output_type": "stream",
     "text": [
      "D:\\Eden\\new_exp_test_15_11_23\\12_12_23\\C0649.MP4_28cm_distances.csv\n",
      "D:\\Eden\\new_exp_test_15_11_23\\12_12_23\\C0650.MP4\n",
      "D:\\Eden\\new_exp_test_15_11_23\\12_12_23\\C0650.MP4_locatedFull20231218_28cm_Eden.csv\n",
      "D:\\Eden\\new_exp_test_15_11_23\\12_12_23\\C0650.MP4_locatedFull20231218_bot_Eden.csv\n"
     ]
    },
    {
     "name": "stderr",
     "output_type": "stream",
     "text": [
      "C:\\Users\\User\\AppData\\Local\\Temp\\ipykernel_15140\\1569403186.py:34: FutureWarning: The default dtype for empty Series will be 'object' instead of 'float64' in a future version. Specify a dtype explicitly to silence this warning.\n",
      "  distances=pd.Series()\n"
     ]
    },
    {
     "name": "stdout",
     "output_type": "stream",
     "text": [
      "D:\\Eden\\new_exp_test_15_11_23\\12_12_23\\C0650.MP4_28cm_distances.csv\n",
      "D:\\Eden\\new_exp_test_15_11_23\\12_12_23\\C0651.MP4\n",
      "D:\\Eden\\new_exp_test_15_11_23\\12_12_23\\C0651.MP4_locatedFull20231218_28cm_Eden.csv\n",
      "D:\\Eden\\new_exp_test_15_11_23\\12_12_23\\C0651.MP4_locatedFull20231218_bot_Eden.csv\n"
     ]
    },
    {
     "name": "stderr",
     "output_type": "stream",
     "text": [
      "C:\\Users\\User\\AppData\\Local\\Temp\\ipykernel_15140\\1569403186.py:34: FutureWarning: The default dtype for empty Series will be 'object' instead of 'float64' in a future version. Specify a dtype explicitly to silence this warning.\n",
      "  distances=pd.Series()\n"
     ]
    },
    {
     "name": "stdout",
     "output_type": "stream",
     "text": [
      "D:\\Eden\\new_exp_test_15_11_23\\12_12_23\\C0651.MP4_28cm_distances.csv\n",
      "D:\\Eden\\new_exp_test_15_11_23\\12_12_23\\C0652.MP4\n",
      "D:\\Eden\\new_exp_test_15_11_23\\12_12_23\\C0652.MP4_locatedFull20231218_28cm_Eden.csv\n",
      "D:\\Eden\\new_exp_test_15_11_23\\12_12_23\\C0652.MP4_locatedFull20231218_bot_Eden.csv\n"
     ]
    },
    {
     "name": "stderr",
     "output_type": "stream",
     "text": [
      "C:\\Users\\User\\AppData\\Local\\Temp\\ipykernel_15140\\1569403186.py:34: FutureWarning: The default dtype for empty Series will be 'object' instead of 'float64' in a future version. Specify a dtype explicitly to silence this warning.\n",
      "  distances=pd.Series()\n"
     ]
    },
    {
     "name": "stdout",
     "output_type": "stream",
     "text": [
      "D:\\Eden\\new_exp_test_15_11_23\\12_12_23\\C0652.MP4_28cm_distances.csv\n"
     ]
    }
   ],
   "source": [
    "expSumFileName ='C:\\\\Users\\\\User\\\\Documents\\\\Eden\\\\locate_git_code\\\\two_circles_exp\\\\two_circles_exp4.csv'\n",
    "expSum = pd.read_csv(expSumFileName,index_col=0)\n",
    "#expSum=expSum[expSum.index>32]\n",
    "#expSum=expSum[(expSum['date']==20231212)]\n",
    "expSum=expSum.iloc[[30,31,32,33,34]]\n",
    "expSumFileNamePassive='C:\\\\Users\\\\User\\\\Documents\\\\Eden\\\\locate_git_code\\\\two_circles_exp\\\\two_circles_exp4.csv'\n",
    "expSumPassive=pd.read_csv(expSumFileNamePassive,index_col=0)\n",
    "#expSumPassive=expSumPassive[expSumPassive.index>32]\n",
    "#expSumPassive=expSumPassive[(expSumPassive['date']==20231212)]\n",
    "expSumPassive=expSumPassive.iloc[[30,31,32,33,34]]\n",
    "suffix='_distances.csv'\n",
    "#passive_path='C:\\\\Users\\\\User\\\\Documents\\\\Eden\\\\locate_git_code\\\\packaged'\n",
    "#bot_path='C:\\\\Users\\\\User\\\\Documents\\\\Eden\\\\locate_git_code\\\\packaged\\\\botsTracking'\n",
    "iterrations=0\n",
    "for index,row in expSum.iterrows():\n",
    "    path=row.path\n",
    "    print(path)\n",
    "    Passiverow=expSumPassive.iloc[iterrations]\n",
    "    #Passiverow=row.FirstDiameterLocatingFile\n",
    "    #Passiverow=row.SecondDiameterLocatingFile\n",
    "    Passiverow=row.ThirdDiameterLocatingFile\n",
    "    #PassiveLocatingFileName=Passiverow.locatingFileNamePack\n",
    "    #print(PassiveLocatingFileName)\n",
    "    print(Passiverow)\n",
    "    #PassiveLocating=pd.read_csv(passive_path+'\\\\'+PassiveLocatingFileName,index_col=0)\n",
    "    PassiveLocating=pd.read_csv(Passiverow,index_col=0)\n",
    "    BotLocatingFileName=row.BotLocatingFile\n",
    "    #print(BotLocatingFileName)\n",
    "    print(BotLocatingFileName)\n",
    "    #BotLocating=pd.read_csv(bot_path+'\\\\'+BotLocatingFileName,index_col=0)\n",
    "    BotLocating=pd.read_csv(BotLocatingFileName,index_col=0)\n",
    "    BotsFrameNum=BotLocating['frame']\n",
    "    d={'frame':BotsFrameNum}\n",
    "    distances=pd.Series()\n",
    "    iterrations=iterrations+1\n",
    "    for index, row in PassiveLocating.iterrows():\n",
    "        relevant_passive_data=row\n",
    "        relevant_bots_data=BotLocating[(BotLocating['frame']==row.frame)]\n",
    "        bots_x=relevant_bots_data.x\n",
    "        bots_y=relevant_bots_data.y\n",
    "        distance=np.power((row.x-bots_x),2)+np.power((row.y-bots_y),2)\n",
    "        distances=pd.concat([distances,distance],ignore_index=True)\n",
    "    df=pd.DataFrame(data=d)\n",
    "    df.insert(1,\"distance_sq\",distances)\n",
    "    print(path+'_28cm'+suffix)\n",
    "    df.to_csv(path+'_28cm'+suffix)\n",
    "    #print('C:\\\\Users\\\\User\\\\Documents\\\\Eden\\\\locate_git_code\\\\distances\\\\'+PassiveLocatingFileName+suffix)\n",
    "    #df.to_csv('C:\\\\Users\\\\User\\\\Documents\\\\Eden\\\\locate_git_code\\\\distances\\\\'+PassiveLocatingFileName+suffix)"
   ]
  },
  {
   "cell_type": "code",
   "execution_count": 9,
   "id": "94028875-d8a2-4a2d-8766-ec576e6131df",
   "metadata": {},
   "outputs": [],
   "source": [
    "expSumFileName = 'C:\\\\Users\\\\User\\\\Documents\\\\Eden\\locate_git_code\\\\packaged\\\\botsTracking\\\\expSumPack.csv'\n",
    "expSum = pd.read_csv(expSumFileName,index_col=0)\n",
    "suffix='_distances.csv'\n",
    "distance_file_names=[]\n",
    "for index,row in expSum.iterrows():\n",
    "    file_name=row.path\n",
    "    distance_file_names.append(file_name+suffix)\n",
    "expSum['DistanceFileNames']=distance_file_names\n",
    "expSum.to_csv('C:\\\\Users\\\\User\\\\Documents\\\\Eden\\locate_git_code\\\\packaged\\\\botsTracking\\\\expSumPack_distance.csv')\n",
    "    "
   ]
  },
  {
   "cell_type": "code",
   "execution_count": null,
   "id": "994463e0-70b2-426c-88fe-4063b090ba1f",
   "metadata": {},
   "outputs": [],
   "source": []
  }
 ],
 "metadata": {
  "kernelspec": {
   "display_name": "Python 3 (ipykernel)",
   "language": "python",
   "name": "python3"
  },
  "language_info": {
   "codemirror_mode": {
    "name": "ipython",
    "version": 3
   },
   "file_extension": ".py",
   "mimetype": "text/x-python",
   "name": "python",
   "nbconvert_exporter": "python",
   "pygments_lexer": "ipython3",
   "version": "3.8.1"
  }
 },
 "nbformat": 4,
 "nbformat_minor": 5
}
