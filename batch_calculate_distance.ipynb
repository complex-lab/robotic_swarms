{
 "cells": [
  {
   "cell_type": "code",
   "execution_count": 1,
   "id": "87e16db2-2971-4780-bffd-92decaee348f",
   "metadata": {},
   "outputs": [],
   "source": [
    "%matplotlib inline\n",
    "#%matplotlib widget\n"
   ]
  },
  {
   "cell_type": "code",
   "execution_count": 2,
   "id": "cc996167-eb03-4d73-8721-77683a8430be",
   "metadata": {},
   "outputs": [],
   "source": [
    "#############imports######################################################################\n",
    "import cv2 as cv2\n",
    "from matplotlib import pyplot as plt\n",
    "import pandas as pd\n",
    "import numpy as np\n",
    "import trackpy as tp\n",
    "from ipywidgets import HBox, Textarea, interact\n"
   ]
  },
  {
   "cell_type": "code",
   "execution_count": 10,
   "id": "b2b540f3-ee79-4837-9a10-3fcae0ffcb4d",
   "metadata": {},
   "outputs": [
    {
     "name": "stdout",
     "output_type": "stream",
     "text": [
      "fronter_N001_D028_C0556.MP4_loc.csv\n",
      "bots_fronter_N001_D028_C0556.MP4_botsLoc.csv\n"
     ]
    },
    {
     "name": "stderr",
     "output_type": "stream",
     "text": [
      "C:\\Users\\User\\AppData\\Local\\Temp\\ipykernel_51436\\1645679825.py:23: FutureWarning: The default dtype for empty Series will be 'object' instead of 'float64' in a future version. Specify a dtype explicitly to silence this warning.\n",
      "  distances=pd.Series()\n"
     ]
    },
    {
     "name": "stdout",
     "output_type": "stream",
     "text": [
      "C:\\Users\\User\\Documents\\Eden\\locate_git_code\\distances\\fronter_N001_D028_C0556.MP4_loc.csv_distances.csv\n",
      "fronter_N001_D028_C0555.MP4_loc.csv\n",
      "bots_fronter_N001_D028_C0555.MP4_botsLoc.csv\n"
     ]
    },
    {
     "name": "stderr",
     "output_type": "stream",
     "text": [
      "C:\\Users\\User\\AppData\\Local\\Temp\\ipykernel_51436\\1645679825.py:23: FutureWarning: The default dtype for empty Series will be 'object' instead of 'float64' in a future version. Specify a dtype explicitly to silence this warning.\n",
      "  distances=pd.Series()\n"
     ]
    },
    {
     "name": "stdout",
     "output_type": "stream",
     "text": [
      "C:\\Users\\User\\Documents\\Eden\\locate_git_code\\distances\\fronter_N001_D028_C0555.MP4_loc.csv_distances.csv\n",
      "updated_test_fronter_N001_D028_C0554.MP4_loc.csv\n",
      "bots_fronter_N001_D028_C0554.MP4_botsLoc.csv\n"
     ]
    },
    {
     "name": "stderr",
     "output_type": "stream",
     "text": [
      "C:\\Users\\User\\AppData\\Local\\Temp\\ipykernel_51436\\1645679825.py:23: FutureWarning: The default dtype for empty Series will be 'object' instead of 'float64' in a future version. Specify a dtype explicitly to silence this warning.\n",
      "  distances=pd.Series()\n"
     ]
    },
    {
     "name": "stdout",
     "output_type": "stream",
     "text": [
      "C:\\Users\\User\\Documents\\Eden\\locate_git_code\\distances\\updated_test_fronter_N001_D028_C0554.MP4_loc.csv_distances.csv\n",
      "updated_test_fronter_N001_D028_C0553.MP4_loc.csv\n",
      "bots_fronter_N001_D028_C0553.MP4_botsLoc.csv\n"
     ]
    },
    {
     "name": "stderr",
     "output_type": "stream",
     "text": [
      "C:\\Users\\User\\AppData\\Local\\Temp\\ipykernel_51436\\1645679825.py:23: FutureWarning: The default dtype for empty Series will be 'object' instead of 'float64' in a future version. Specify a dtype explicitly to silence this warning.\n",
      "  distances=pd.Series()\n"
     ]
    },
    {
     "name": "stdout",
     "output_type": "stream",
     "text": [
      "C:\\Users\\User\\Documents\\Eden\\locate_git_code\\distances\\updated_test_fronter_N001_D028_C0553.MP4_loc.csv_distances.csv\n",
      "aligner_N001_D028_C0575.MP4_loc.csv\n",
      "bots_aligner_N001_D028_C0575.MP4_botsLoc.csv\n"
     ]
    },
    {
     "name": "stderr",
     "output_type": "stream",
     "text": [
      "C:\\Users\\User\\AppData\\Local\\Temp\\ipykernel_51436\\1645679825.py:23: FutureWarning: The default dtype for empty Series will be 'object' instead of 'float64' in a future version. Specify a dtype explicitly to silence this warning.\n",
      "  distances=pd.Series()\n"
     ]
    },
    {
     "name": "stdout",
     "output_type": "stream",
     "text": [
      "C:\\Users\\User\\Documents\\Eden\\locate_git_code\\distances\\aligner_N001_D028_C0575.MP4_loc.csv_distances.csv\n",
      "aligner_N001_D028_C0574.MP4_loc.csv\n",
      "bots_aligner_N001_D028_C0574.MP4_botsLoc.csv\n"
     ]
    },
    {
     "name": "stderr",
     "output_type": "stream",
     "text": [
      "C:\\Users\\User\\AppData\\Local\\Temp\\ipykernel_51436\\1645679825.py:23: FutureWarning: The default dtype for empty Series will be 'object' instead of 'float64' in a future version. Specify a dtype explicitly to silence this warning.\n",
      "  distances=pd.Series()\n"
     ]
    },
    {
     "name": "stdout",
     "output_type": "stream",
     "text": [
      "C:\\Users\\User\\Documents\\Eden\\locate_git_code\\distances\\aligner_N001_D028_C0574.MP4_loc.csv_distances.csv\n",
      "aligner_N001_D028_C0573.MP4_loc.csv\n",
      "bots_aligner_N001_D028_C0573.MP4_botsLoc.csv\n"
     ]
    },
    {
     "name": "stderr",
     "output_type": "stream",
     "text": [
      "C:\\Users\\User\\AppData\\Local\\Temp\\ipykernel_51436\\1645679825.py:23: FutureWarning: The default dtype for empty Series will be 'object' instead of 'float64' in a future version. Specify a dtype explicitly to silence this warning.\n",
      "  distances=pd.Series()\n"
     ]
    },
    {
     "name": "stdout",
     "output_type": "stream",
     "text": [
      "C:\\Users\\User\\Documents\\Eden\\locate_git_code\\distances\\aligner_N001_D028_C0573.MP4_loc.csv_distances.csv\n",
      "aligner_N001_D028_C0572.MP4_loc.csv\n",
      "bots_aligner_N001_D028_C0572.MP4_botsLoc.csv\n"
     ]
    },
    {
     "name": "stderr",
     "output_type": "stream",
     "text": [
      "C:\\Users\\User\\AppData\\Local\\Temp\\ipykernel_51436\\1645679825.py:23: FutureWarning: The default dtype for empty Series will be 'object' instead of 'float64' in a future version. Specify a dtype explicitly to silence this warning.\n",
      "  distances=pd.Series()\n"
     ]
    },
    {
     "name": "stdout",
     "output_type": "stream",
     "text": [
      "C:\\Users\\User\\Documents\\Eden\\locate_git_code\\distances\\aligner_N001_D028_C0572.MP4_loc.csv_distances.csv\n",
      "fronter_N004_D028_C0560.MP4_loc.csv\n",
      "bots_fronter_N004_D028_C0560.MP4_botsLoc.csv\n"
     ]
    },
    {
     "name": "stderr",
     "output_type": "stream",
     "text": [
      "C:\\Users\\User\\AppData\\Local\\Temp\\ipykernel_51436\\1645679825.py:23: FutureWarning: The default dtype for empty Series will be 'object' instead of 'float64' in a future version. Specify a dtype explicitly to silence this warning.\n",
      "  distances=pd.Series()\n"
     ]
    },
    {
     "name": "stdout",
     "output_type": "stream",
     "text": [
      "C:\\Users\\User\\Documents\\Eden\\locate_git_code\\distances\\fronter_N004_D028_C0560.MP4_loc.csv_distances.csv\n",
      "fronter_N004_D028_C0559.MP4_loc.csv\n",
      "bots_fronter_N004_D028_C0559.MP4_botsLoc.csv\n"
     ]
    },
    {
     "name": "stderr",
     "output_type": "stream",
     "text": [
      "C:\\Users\\User\\AppData\\Local\\Temp\\ipykernel_51436\\1645679825.py:23: FutureWarning: The default dtype for empty Series will be 'object' instead of 'float64' in a future version. Specify a dtype explicitly to silence this warning.\n",
      "  distances=pd.Series()\n"
     ]
    },
    {
     "name": "stdout",
     "output_type": "stream",
     "text": [
      "C:\\Users\\User\\Documents\\Eden\\locate_git_code\\distances\\fronter_N004_D028_C0559.MP4_loc.csv_distances.csv\n",
      "fronter_N004_D028_C0558.MP4_loc.csv\n",
      "bots_fronter_N004_D028_C0558.MP4_botsLoc.csv\n"
     ]
    },
    {
     "name": "stderr",
     "output_type": "stream",
     "text": [
      "C:\\Users\\User\\AppData\\Local\\Temp\\ipykernel_51436\\1645679825.py:23: FutureWarning: The default dtype for empty Series will be 'object' instead of 'float64' in a future version. Specify a dtype explicitly to silence this warning.\n",
      "  distances=pd.Series()\n"
     ]
    },
    {
     "name": "stdout",
     "output_type": "stream",
     "text": [
      "C:\\Users\\User\\Documents\\Eden\\locate_git_code\\distances\\fronter_N004_D028_C0558.MP4_loc.csv_distances.csv\n",
      "fronter_N004_D028_C0557.MP4_loc.csv\n",
      "bots_fronter_N004_D028_C0557.MP4_botsLoc.csv\n"
     ]
    },
    {
     "name": "stderr",
     "output_type": "stream",
     "text": [
      "C:\\Users\\User\\AppData\\Local\\Temp\\ipykernel_51436\\1645679825.py:23: FutureWarning: The default dtype for empty Series will be 'object' instead of 'float64' in a future version. Specify a dtype explicitly to silence this warning.\n",
      "  distances=pd.Series()\n"
     ]
    },
    {
     "name": "stdout",
     "output_type": "stream",
     "text": [
      "C:\\Users\\User\\Documents\\Eden\\locate_git_code\\distances\\fronter_N004_D028_C0557.MP4_loc.csv_distances.csv\n",
      "aligner_N004_D028_C0580.MP4_loc.csv\n",
      "bots_aligner_N004_D028_C0580.MP4_botsLoc.csv\n"
     ]
    },
    {
     "name": "stderr",
     "output_type": "stream",
     "text": [
      "C:\\Users\\User\\AppData\\Local\\Temp\\ipykernel_51436\\1645679825.py:23: FutureWarning: The default dtype for empty Series will be 'object' instead of 'float64' in a future version. Specify a dtype explicitly to silence this warning.\n",
      "  distances=pd.Series()\n"
     ]
    },
    {
     "name": "stdout",
     "output_type": "stream",
     "text": [
      "C:\\Users\\User\\Documents\\Eden\\locate_git_code\\distances\\aligner_N004_D028_C0580.MP4_loc.csv_distances.csv\n",
      "aligner_N004_D028_C0579.MP4_loc.csv\n",
      "bots_aligner_N004_D028_C0579.MP4_botsLoc.csv\n"
     ]
    },
    {
     "name": "stderr",
     "output_type": "stream",
     "text": [
      "C:\\Users\\User\\AppData\\Local\\Temp\\ipykernel_51436\\1645679825.py:23: FutureWarning: The default dtype for empty Series will be 'object' instead of 'float64' in a future version. Specify a dtype explicitly to silence this warning.\n",
      "  distances=pd.Series()\n"
     ]
    },
    {
     "name": "stdout",
     "output_type": "stream",
     "text": [
      "C:\\Users\\User\\Documents\\Eden\\locate_git_code\\distances\\aligner_N004_D028_C0579.MP4_loc.csv_distances.csv\n",
      "aligner_N004_D028_C0578.MP4_loc.csv\n",
      "bots_aligner_N004_D028_C0578.MP4_botsLoc.csv\n"
     ]
    },
    {
     "name": "stderr",
     "output_type": "stream",
     "text": [
      "C:\\Users\\User\\AppData\\Local\\Temp\\ipykernel_51436\\1645679825.py:23: FutureWarning: The default dtype for empty Series will be 'object' instead of 'float64' in a future version. Specify a dtype explicitly to silence this warning.\n",
      "  distances=pd.Series()\n"
     ]
    },
    {
     "name": "stdout",
     "output_type": "stream",
     "text": [
      "C:\\Users\\User\\Documents\\Eden\\locate_git_code\\distances\\aligner_N004_D028_C0578.MP4_loc.csv_distances.csv\n",
      "aligner_N004_D028_C0577.MP4_loc.csv\n",
      "bots_aligner_N004_D028_C0577.MP4_botsLoc.csv\n"
     ]
    },
    {
     "name": "stderr",
     "output_type": "stream",
     "text": [
      "C:\\Users\\User\\AppData\\Local\\Temp\\ipykernel_51436\\1645679825.py:23: FutureWarning: The default dtype for empty Series will be 'object' instead of 'float64' in a future version. Specify a dtype explicitly to silence this warning.\n",
      "  distances=pd.Series()\n"
     ]
    },
    {
     "name": "stdout",
     "output_type": "stream",
     "text": [
      "C:\\Users\\User\\Documents\\Eden\\locate_git_code\\distances\\aligner_N004_D028_C0577.MP4_loc.csv_distances.csv\n",
      "aligner_N004_D028_C0576.MP4_loc.csv\n",
      "bots_aligner_N004_D028_C0576.MP4_botsLoc.csv\n"
     ]
    },
    {
     "name": "stderr",
     "output_type": "stream",
     "text": [
      "C:\\Users\\User\\AppData\\Local\\Temp\\ipykernel_51436\\1645679825.py:23: FutureWarning: The default dtype for empty Series will be 'object' instead of 'float64' in a future version. Specify a dtype explicitly to silence this warning.\n",
      "  distances=pd.Series()\n"
     ]
    },
    {
     "name": "stdout",
     "output_type": "stream",
     "text": [
      "C:\\Users\\User\\Documents\\Eden\\locate_git_code\\distances\\aligner_N004_D028_C0576.MP4_loc.csv_distances.csv\n",
      "fronter_N008_D028_C0567.MP4_loc.csv\n",
      "bots_fronter_N008_D028_C0567.MP4_botsLoc.csv\n"
     ]
    },
    {
     "name": "stderr",
     "output_type": "stream",
     "text": [
      "C:\\Users\\User\\AppData\\Local\\Temp\\ipykernel_51436\\1645679825.py:23: FutureWarning: The default dtype for empty Series will be 'object' instead of 'float64' in a future version. Specify a dtype explicitly to silence this warning.\n",
      "  distances=pd.Series()\n"
     ]
    },
    {
     "name": "stdout",
     "output_type": "stream",
     "text": [
      "C:\\Users\\User\\Documents\\Eden\\locate_git_code\\distances\\fronter_N008_D028_C0567.MP4_loc.csv_distances.csv\n",
      "fronter_N008_D028_C0566.MP4_loc.csv\n",
      "bots_fronter_N008_D028_C0566.MP4_botsLoc.csv\n"
     ]
    },
    {
     "name": "stderr",
     "output_type": "stream",
     "text": [
      "C:\\Users\\User\\AppData\\Local\\Temp\\ipykernel_51436\\1645679825.py:23: FutureWarning: The default dtype for empty Series will be 'object' instead of 'float64' in a future version. Specify a dtype explicitly to silence this warning.\n",
      "  distances=pd.Series()\n"
     ]
    },
    {
     "name": "stdout",
     "output_type": "stream",
     "text": [
      "C:\\Users\\User\\Documents\\Eden\\locate_git_code\\distances\\fronter_N008_D028_C0566.MP4_loc.csv_distances.csv\n",
      "fronter_N008_D028_C0565.MP4_loc.csv\n",
      "bots_fronter_N008_D028_C0565.MP4_botsLoc.csv\n"
     ]
    },
    {
     "name": "stderr",
     "output_type": "stream",
     "text": [
      "C:\\Users\\User\\AppData\\Local\\Temp\\ipykernel_51436\\1645679825.py:23: FutureWarning: The default dtype for empty Series will be 'object' instead of 'float64' in a future version. Specify a dtype explicitly to silence this warning.\n",
      "  distances=pd.Series()\n"
     ]
    },
    {
     "name": "stdout",
     "output_type": "stream",
     "text": [
      "C:\\Users\\User\\Documents\\Eden\\locate_git_code\\distances\\fronter_N008_D028_C0565.MP4_loc.csv_distances.csv\n",
      "fronter_N008_D028_C0563.MP4_loc.csv\n",
      "bots_fronter_N008_D028_C0563.MP4_botsLoc.csv\n"
     ]
    },
    {
     "name": "stderr",
     "output_type": "stream",
     "text": [
      "C:\\Users\\User\\AppData\\Local\\Temp\\ipykernel_51436\\1645679825.py:23: FutureWarning: The default dtype for empty Series will be 'object' instead of 'float64' in a future version. Specify a dtype explicitly to silence this warning.\n",
      "  distances=pd.Series()\n"
     ]
    },
    {
     "name": "stdout",
     "output_type": "stream",
     "text": [
      "C:\\Users\\User\\Documents\\Eden\\locate_git_code\\distances\\fronter_N008_D028_C0563.MP4_loc.csv_distances.csv\n",
      "fronter_N008_D028_C0562.MP4_loc.csv\n",
      "bots_fronter_N008_D028_C0562.MP4_botsLoc.csv\n"
     ]
    },
    {
     "name": "stderr",
     "output_type": "stream",
     "text": [
      "C:\\Users\\User\\AppData\\Local\\Temp\\ipykernel_51436\\1645679825.py:23: FutureWarning: The default dtype for empty Series will be 'object' instead of 'float64' in a future version. Specify a dtype explicitly to silence this warning.\n",
      "  distances=pd.Series()\n"
     ]
    },
    {
     "name": "stdout",
     "output_type": "stream",
     "text": [
      "C:\\Users\\User\\Documents\\Eden\\locate_git_code\\distances\\fronter_N008_D028_C0562.MP4_loc.csv_distances.csv\n",
      "aligner_N008_D028_C0587.MP4_loc.csv\n",
      "bots_aligner_N008_D028_C0587.MP4_botsLoc.csv\n"
     ]
    },
    {
     "name": "stderr",
     "output_type": "stream",
     "text": [
      "C:\\Users\\User\\AppData\\Local\\Temp\\ipykernel_51436\\1645679825.py:23: FutureWarning: The default dtype for empty Series will be 'object' instead of 'float64' in a future version. Specify a dtype explicitly to silence this warning.\n",
      "  distances=pd.Series()\n"
     ]
    },
    {
     "name": "stdout",
     "output_type": "stream",
     "text": [
      "C:\\Users\\User\\Documents\\Eden\\locate_git_code\\distances\\aligner_N008_D028_C0587.MP4_loc.csv_distances.csv\n",
      "aligner_N008_D028_C0586.MP4_loc.csv\n",
      "bots_aligner_N008_D028_C0586.MP4_botsLoc.csv\n"
     ]
    },
    {
     "name": "stderr",
     "output_type": "stream",
     "text": [
      "C:\\Users\\User\\AppData\\Local\\Temp\\ipykernel_51436\\1645679825.py:23: FutureWarning: The default dtype for empty Series will be 'object' instead of 'float64' in a future version. Specify a dtype explicitly to silence this warning.\n",
      "  distances=pd.Series()\n"
     ]
    },
    {
     "name": "stdout",
     "output_type": "stream",
     "text": [
      "C:\\Users\\User\\Documents\\Eden\\locate_git_code\\distances\\aligner_N008_D028_C0586.MP4_loc.csv_distances.csv\n",
      "aligner_N008_D028_C0585.MP4_loc.csv\n",
      "bots_aligner_N008_D028_C0585.MP4_botsLoc.csv\n"
     ]
    },
    {
     "name": "stderr",
     "output_type": "stream",
     "text": [
      "C:\\Users\\User\\AppData\\Local\\Temp\\ipykernel_51436\\1645679825.py:23: FutureWarning: The default dtype for empty Series will be 'object' instead of 'float64' in a future version. Specify a dtype explicitly to silence this warning.\n",
      "  distances=pd.Series()\n"
     ]
    },
    {
     "name": "stdout",
     "output_type": "stream",
     "text": [
      "C:\\Users\\User\\Documents\\Eden\\locate_git_code\\distances\\aligner_N008_D028_C0585.MP4_loc.csv_distances.csv\n",
      "aligner_N008_D028_C0584.MP4_loc.csv\n",
      "bots_aligner_N008_D028_C0584.MP4_botsLoc.csv\n"
     ]
    },
    {
     "name": "stderr",
     "output_type": "stream",
     "text": [
      "C:\\Users\\User\\AppData\\Local\\Temp\\ipykernel_51436\\1645679825.py:23: FutureWarning: The default dtype for empty Series will be 'object' instead of 'float64' in a future version. Specify a dtype explicitly to silence this warning.\n",
      "  distances=pd.Series()\n"
     ]
    },
    {
     "name": "stdout",
     "output_type": "stream",
     "text": [
      "C:\\Users\\User\\Documents\\Eden\\locate_git_code\\distances\\aligner_N008_D028_C0584.MP4_loc.csv_distances.csv\n",
      "aligner_N008_D028_C0583.MP4_loc.csv\n",
      "bots_aligner_N008_D028_C0583.MP4_botsLoc.csv\n"
     ]
    },
    {
     "name": "stderr",
     "output_type": "stream",
     "text": [
      "C:\\Users\\User\\AppData\\Local\\Temp\\ipykernel_51436\\1645679825.py:23: FutureWarning: The default dtype for empty Series will be 'object' instead of 'float64' in a future version. Specify a dtype explicitly to silence this warning.\n",
      "  distances=pd.Series()\n"
     ]
    },
    {
     "name": "stdout",
     "output_type": "stream",
     "text": [
      "C:\\Users\\User\\Documents\\Eden\\locate_git_code\\distances\\aligner_N008_D028_C0583.MP4_loc.csv_distances.csv\n",
      "updated_test_aligner_N008_D028_C0581.MP4_loc.csv\n",
      "bots_aligner_N008_D028_C0581.MP4_botsLoc.csv\n"
     ]
    },
    {
     "name": "stderr",
     "output_type": "stream",
     "text": [
      "C:\\Users\\User\\AppData\\Local\\Temp\\ipykernel_51436\\1645679825.py:23: FutureWarning: The default dtype for empty Series will be 'object' instead of 'float64' in a future version. Specify a dtype explicitly to silence this warning.\n",
      "  distances=pd.Series()\n"
     ]
    },
    {
     "name": "stdout",
     "output_type": "stream",
     "text": [
      "C:\\Users\\User\\Documents\\Eden\\locate_git_code\\distances\\updated_test_aligner_N008_D028_C0581.MP4_loc.csv_distances.csv\n",
      "fronter_N016_D028_C0571.MP4_loc.csv\n",
      "bots_fronter_N016_D028_C0571.MP4_botsLoc.csv\n"
     ]
    },
    {
     "name": "stderr",
     "output_type": "stream",
     "text": [
      "C:\\Users\\User\\AppData\\Local\\Temp\\ipykernel_51436\\1645679825.py:23: FutureWarning: The default dtype for empty Series will be 'object' instead of 'float64' in a future version. Specify a dtype explicitly to silence this warning.\n",
      "  distances=pd.Series()\n"
     ]
    },
    {
     "name": "stdout",
     "output_type": "stream",
     "text": [
      "C:\\Users\\User\\Documents\\Eden\\locate_git_code\\distances\\fronter_N016_D028_C0571.MP4_loc.csv_distances.csv\n",
      "fronter_N016_D028_C0570.MP4_loc.csv\n",
      "bots_fronter_N016_D028_C0570.MP4_botsLoc.csv\n"
     ]
    },
    {
     "name": "stderr",
     "output_type": "stream",
     "text": [
      "C:\\Users\\User\\AppData\\Local\\Temp\\ipykernel_51436\\1645679825.py:23: FutureWarning: The default dtype for empty Series will be 'object' instead of 'float64' in a future version. Specify a dtype explicitly to silence this warning.\n",
      "  distances=pd.Series()\n"
     ]
    },
    {
     "name": "stdout",
     "output_type": "stream",
     "text": [
      "C:\\Users\\User\\Documents\\Eden\\locate_git_code\\distances\\fronter_N016_D028_C0570.MP4_loc.csv_distances.csv\n",
      "fronter_N016_D028_C0569.MP4_loc.csv\n",
      "bots_fronter_N016_D028_C0569.MP4_botsLoc.csv\n"
     ]
    },
    {
     "name": "stderr",
     "output_type": "stream",
     "text": [
      "C:\\Users\\User\\AppData\\Local\\Temp\\ipykernel_51436\\1645679825.py:23: FutureWarning: The default dtype for empty Series will be 'object' instead of 'float64' in a future version. Specify a dtype explicitly to silence this warning.\n",
      "  distances=pd.Series()\n"
     ]
    },
    {
     "name": "stdout",
     "output_type": "stream",
     "text": [
      "C:\\Users\\User\\Documents\\Eden\\locate_git_code\\distances\\fronter_N016_D028_C0569.MP4_loc.csv_distances.csv\n",
      "fronter_N016_D028_C0568.MP4_loc.csv\n",
      "bots_fronter_N016_D028_C0568.MP4_botsLoc.csv\n"
     ]
    },
    {
     "name": "stderr",
     "output_type": "stream",
     "text": [
      "C:\\Users\\User\\AppData\\Local\\Temp\\ipykernel_51436\\1645679825.py:23: FutureWarning: The default dtype for empty Series will be 'object' instead of 'float64' in a future version. Specify a dtype explicitly to silence this warning.\n",
      "  distances=pd.Series()\n"
     ]
    },
    {
     "name": "stdout",
     "output_type": "stream",
     "text": [
      "C:\\Users\\User\\Documents\\Eden\\locate_git_code\\distances\\fronter_N016_D028_C0568.MP4_loc.csv_distances.csv\n",
      "aligner_N016_D028_C0591.MP4_loc.csv\n",
      "bots_aligner_N016_D028_C0591.MP4_botsLoc.csv\n"
     ]
    },
    {
     "name": "stderr",
     "output_type": "stream",
     "text": [
      "C:\\Users\\User\\AppData\\Local\\Temp\\ipykernel_51436\\1645679825.py:23: FutureWarning: The default dtype for empty Series will be 'object' instead of 'float64' in a future version. Specify a dtype explicitly to silence this warning.\n",
      "  distances=pd.Series()\n"
     ]
    },
    {
     "name": "stdout",
     "output_type": "stream",
     "text": [
      "C:\\Users\\User\\Documents\\Eden\\locate_git_code\\distances\\aligner_N016_D028_C0591.MP4_loc.csv_distances.csv\n",
      "aligner_N016_D028_C0590.MP4_loc.csv\n",
      "bots_aligner_N016_D028_C0590.MP4_botsLoc.csv\n"
     ]
    },
    {
     "name": "stderr",
     "output_type": "stream",
     "text": [
      "C:\\Users\\User\\AppData\\Local\\Temp\\ipykernel_51436\\1645679825.py:23: FutureWarning: The default dtype for empty Series will be 'object' instead of 'float64' in a future version. Specify a dtype explicitly to silence this warning.\n",
      "  distances=pd.Series()\n"
     ]
    },
    {
     "name": "stdout",
     "output_type": "stream",
     "text": [
      "C:\\Users\\User\\Documents\\Eden\\locate_git_code\\distances\\aligner_N016_D028_C0590.MP4_loc.csv_distances.csv\n",
      "aligner_N016_D028_C0589.MP4_loc.csv\n",
      "bots_aligner_N016_D028_C0589.MP4_botsLoc.csv\n"
     ]
    },
    {
     "name": "stderr",
     "output_type": "stream",
     "text": [
      "C:\\Users\\User\\AppData\\Local\\Temp\\ipykernel_51436\\1645679825.py:23: FutureWarning: The default dtype for empty Series will be 'object' instead of 'float64' in a future version. Specify a dtype explicitly to silence this warning.\n",
      "  distances=pd.Series()\n"
     ]
    },
    {
     "name": "stdout",
     "output_type": "stream",
     "text": [
      "C:\\Users\\User\\Documents\\Eden\\locate_git_code\\distances\\aligner_N016_D028_C0589.MP4_loc.csv_distances.csv\n",
      "aligner_N016_D028_C0588.MP4_loc.csv\n",
      "bots_aligner_N016_D028_C0588.MP4_botsLoc.csv\n"
     ]
    },
    {
     "name": "stderr",
     "output_type": "stream",
     "text": [
      "C:\\Users\\User\\AppData\\Local\\Temp\\ipykernel_51436\\1645679825.py:23: FutureWarning: The default dtype for empty Series will be 'object' instead of 'float64' in a future version. Specify a dtype explicitly to silence this warning.\n",
      "  distances=pd.Series()\n"
     ]
    },
    {
     "name": "stdout",
     "output_type": "stream",
     "text": [
      "C:\\Users\\User\\Documents\\Eden\\locate_git_code\\distances\\aligner_N016_D028_C0588.MP4_loc.csv_distances.csv\n",
      "aligner_N053_D028_C0510.MP4_loc.csv\n",
      "bots_aligner_N053_D028_C0510.MP4_botsLoc.csv\n"
     ]
    },
    {
     "name": "stderr",
     "output_type": "stream",
     "text": [
      "C:\\Users\\User\\AppData\\Local\\Temp\\ipykernel_51436\\1645679825.py:23: FutureWarning: The default dtype for empty Series will be 'object' instead of 'float64' in a future version. Specify a dtype explicitly to silence this warning.\n",
      "  distances=pd.Series()\n"
     ]
    },
    {
     "name": "stdout",
     "output_type": "stream",
     "text": [
      "C:\\Users\\User\\Documents\\Eden\\locate_git_code\\distances\\aligner_N053_D028_C0510.MP4_loc.csv_distances.csv\n",
      "aligner_N053_D028_C0511.MP4_loc.csv\n",
      "bots_aligner_N053_D028_C0511.MP4_botsLoc.csv\n"
     ]
    },
    {
     "name": "stderr",
     "output_type": "stream",
     "text": [
      "C:\\Users\\User\\AppData\\Local\\Temp\\ipykernel_51436\\1645679825.py:23: FutureWarning: The default dtype for empty Series will be 'object' instead of 'float64' in a future version. Specify a dtype explicitly to silence this warning.\n",
      "  distances=pd.Series()\n"
     ]
    },
    {
     "name": "stdout",
     "output_type": "stream",
     "text": [
      "C:\\Users\\User\\Documents\\Eden\\locate_git_code\\distances\\aligner_N053_D028_C0511.MP4_loc.csv_distances.csv\n",
      "aligner_N053_D028_C0512.MP4_loc.csv\n",
      "bots_aligner_N053_D028_C0512.MP4_botsLoc.csv\n"
     ]
    },
    {
     "name": "stderr",
     "output_type": "stream",
     "text": [
      "C:\\Users\\User\\AppData\\Local\\Temp\\ipykernel_51436\\1645679825.py:23: FutureWarning: The default dtype for empty Series will be 'object' instead of 'float64' in a future version. Specify a dtype explicitly to silence this warning.\n",
      "  distances=pd.Series()\n"
     ]
    },
    {
     "name": "stdout",
     "output_type": "stream",
     "text": [
      "C:\\Users\\User\\Documents\\Eden\\locate_git_code\\distances\\aligner_N053_D028_C0512.MP4_loc.csv_distances.csv\n",
      "aligner_N053_D028_C0513.MP4_loc.csv\n",
      "bots_aligner_N053_D028_C0513.MP4_botsLoc.csv\n"
     ]
    },
    {
     "name": "stderr",
     "output_type": "stream",
     "text": [
      "C:\\Users\\User\\AppData\\Local\\Temp\\ipykernel_51436\\1645679825.py:23: FutureWarning: The default dtype for empty Series will be 'object' instead of 'float64' in a future version. Specify a dtype explicitly to silence this warning.\n",
      "  distances=pd.Series()\n"
     ]
    },
    {
     "name": "stdout",
     "output_type": "stream",
     "text": [
      "C:\\Users\\User\\Documents\\Eden\\locate_git_code\\distances\\aligner_N053_D028_C0513.MP4_loc.csv_distances.csv\n",
      "fronter_N053_D028_C0505.MP4_loc.csv\n",
      "bots_fronter_N053_D028_C0505.MP4_botsLoc.csv\n"
     ]
    },
    {
     "name": "stderr",
     "output_type": "stream",
     "text": [
      "C:\\Users\\User\\AppData\\Local\\Temp\\ipykernel_51436\\1645679825.py:23: FutureWarning: The default dtype for empty Series will be 'object' instead of 'float64' in a future version. Specify a dtype explicitly to silence this warning.\n",
      "  distances=pd.Series()\n"
     ]
    },
    {
     "name": "stdout",
     "output_type": "stream",
     "text": [
      "C:\\Users\\User\\Documents\\Eden\\locate_git_code\\distances\\fronter_N053_D028_C0505.MP4_loc.csv_distances.csv\n",
      "fronter_N053_D028_C0506.MP4_loc.csv\n",
      "bots_fronter_N053_D028_C0506.MP4_botsLoc.csv\n"
     ]
    },
    {
     "name": "stderr",
     "output_type": "stream",
     "text": [
      "C:\\Users\\User\\AppData\\Local\\Temp\\ipykernel_51436\\1645679825.py:23: FutureWarning: The default dtype for empty Series will be 'object' instead of 'float64' in a future version. Specify a dtype explicitly to silence this warning.\n",
      "  distances=pd.Series()\n"
     ]
    },
    {
     "name": "stdout",
     "output_type": "stream",
     "text": [
      "C:\\Users\\User\\Documents\\Eden\\locate_git_code\\distances\\fronter_N053_D028_C0506.MP4_loc.csv_distances.csv\n",
      "fronter_N053_D028_C0507.MP4_loc.csv\n",
      "bots_fronter_N053_D028_C0507.MP4_botsLoc.csv\n"
     ]
    },
    {
     "name": "stderr",
     "output_type": "stream",
     "text": [
      "C:\\Users\\User\\AppData\\Local\\Temp\\ipykernel_51436\\1645679825.py:23: FutureWarning: The default dtype for empty Series will be 'object' instead of 'float64' in a future version. Specify a dtype explicitly to silence this warning.\n",
      "  distances=pd.Series()\n"
     ]
    },
    {
     "name": "stdout",
     "output_type": "stream",
     "text": [
      "C:\\Users\\User\\Documents\\Eden\\locate_git_code\\distances\\fronter_N053_D028_C0507.MP4_loc.csv_distances.csv\n",
      "fronter_N053_D028_C0509.MP4_loc.csv\n",
      "bots_fronter_N053_D028_C0509.MP4_botsLoc.csv\n"
     ]
    },
    {
     "name": "stderr",
     "output_type": "stream",
     "text": [
      "C:\\Users\\User\\AppData\\Local\\Temp\\ipykernel_51436\\1645679825.py:23: FutureWarning: The default dtype for empty Series will be 'object' instead of 'float64' in a future version. Specify a dtype explicitly to silence this warning.\n",
      "  distances=pd.Series()\n"
     ]
    },
    {
     "name": "stdout",
     "output_type": "stream",
     "text": [
      "C:\\Users\\User\\Documents\\Eden\\locate_git_code\\distances\\fronter_N053_D028_C0509.MP4_loc.csv_distances.csv\n",
      "fronter_N021_D028_C0490.MP4_loc.csv\n",
      "bots_fronter_N021_D028_C0490.MP4_botsLoc.csv\n"
     ]
    },
    {
     "name": "stderr",
     "output_type": "stream",
     "text": [
      "C:\\Users\\User\\AppData\\Local\\Temp\\ipykernel_51436\\1645679825.py:23: FutureWarning: The default dtype for empty Series will be 'object' instead of 'float64' in a future version. Specify a dtype explicitly to silence this warning.\n",
      "  distances=pd.Series()\n"
     ]
    },
    {
     "name": "stdout",
     "output_type": "stream",
     "text": [
      "C:\\Users\\User\\Documents\\Eden\\locate_git_code\\distances\\fronter_N021_D028_C0490.MP4_loc.csv_distances.csv\n",
      "fronter_N021_D028_C0491.MP4_loc.csv\n",
      "bots_fronter_N021_D028_C0491.MP4_botsLoc.csv\n"
     ]
    },
    {
     "name": "stderr",
     "output_type": "stream",
     "text": [
      "C:\\Users\\User\\AppData\\Local\\Temp\\ipykernel_51436\\1645679825.py:23: FutureWarning: The default dtype for empty Series will be 'object' instead of 'float64' in a future version. Specify a dtype explicitly to silence this warning.\n",
      "  distances=pd.Series()\n"
     ]
    },
    {
     "name": "stdout",
     "output_type": "stream",
     "text": [
      "C:\\Users\\User\\Documents\\Eden\\locate_git_code\\distances\\fronter_N021_D028_C0491.MP4_loc.csv_distances.csv\n",
      "updated_test_fronter_N021_D028_C0492.MP4_loc.csv\n",
      "bots_fronter_N021_D028_C0492.MP4_botsLoc.csv\n"
     ]
    },
    {
     "name": "stderr",
     "output_type": "stream",
     "text": [
      "C:\\Users\\User\\AppData\\Local\\Temp\\ipykernel_51436\\1645679825.py:23: FutureWarning: The default dtype for empty Series will be 'object' instead of 'float64' in a future version. Specify a dtype explicitly to silence this warning.\n",
      "  distances=pd.Series()\n"
     ]
    },
    {
     "name": "stdout",
     "output_type": "stream",
     "text": [
      "C:\\Users\\User\\Documents\\Eden\\locate_git_code\\distances\\updated_test_fronter_N021_D028_C0492.MP4_loc.csv_distances.csv\n",
      "fronter_N021_D028_C0493.MP4_loc.csv\n",
      "bots_fronter_N021_D028_C0493.MP4_botsLoc.csv\n"
     ]
    },
    {
     "name": "stderr",
     "output_type": "stream",
     "text": [
      "C:\\Users\\User\\AppData\\Local\\Temp\\ipykernel_51436\\1645679825.py:23: FutureWarning: The default dtype for empty Series will be 'object' instead of 'float64' in a future version. Specify a dtype explicitly to silence this warning.\n",
      "  distances=pd.Series()\n"
     ]
    },
    {
     "name": "stdout",
     "output_type": "stream",
     "text": [
      "C:\\Users\\User\\Documents\\Eden\\locate_git_code\\distances\\fronter_N021_D028_C0493.MP4_loc.csv_distances.csv\n",
      "updated_test_aligner_N021_D028_C0494.MP4_loc.csv\n",
      "bots_aligner_N021_D028_C0494.MP4_botsLoc.csv\n"
     ]
    },
    {
     "name": "stderr",
     "output_type": "stream",
     "text": [
      "C:\\Users\\User\\AppData\\Local\\Temp\\ipykernel_51436\\1645679825.py:23: FutureWarning: The default dtype for empty Series will be 'object' instead of 'float64' in a future version. Specify a dtype explicitly to silence this warning.\n",
      "  distances=pd.Series()\n"
     ]
    },
    {
     "name": "stdout",
     "output_type": "stream",
     "text": [
      "C:\\Users\\User\\Documents\\Eden\\locate_git_code\\distances\\updated_test_aligner_N021_D028_C0494.MP4_loc.csv_distances.csv\n",
      "aligner_N021_D028_C0495.MP4_loc.csv\n",
      "bots_aligner_N021_D028_C0495.MP4_botsLoc.csv\n"
     ]
    },
    {
     "name": "stderr",
     "output_type": "stream",
     "text": [
      "C:\\Users\\User\\AppData\\Local\\Temp\\ipykernel_51436\\1645679825.py:23: FutureWarning: The default dtype for empty Series will be 'object' instead of 'float64' in a future version. Specify a dtype explicitly to silence this warning.\n",
      "  distances=pd.Series()\n"
     ]
    },
    {
     "name": "stdout",
     "output_type": "stream",
     "text": [
      "C:\\Users\\User\\Documents\\Eden\\locate_git_code\\distances\\aligner_N021_D028_C0495.MP4_loc.csv_distances.csv\n",
      "aligner_N021_D028_C0497.MP4_loc.csv\n",
      "bots_aligner_N021_D028_C0497.MP4_botsLoc.csv\n"
     ]
    },
    {
     "name": "stderr",
     "output_type": "stream",
     "text": [
      "C:\\Users\\User\\AppData\\Local\\Temp\\ipykernel_51436\\1645679825.py:23: FutureWarning: The default dtype for empty Series will be 'object' instead of 'float64' in a future version. Specify a dtype explicitly to silence this warning.\n",
      "  distances=pd.Series()\n"
     ]
    },
    {
     "name": "stdout",
     "output_type": "stream",
     "text": [
      "C:\\Users\\User\\Documents\\Eden\\locate_git_code\\distances\\aligner_N021_D028_C0497.MP4_loc.csv_distances.csv\n",
      "aligner_N021_D028_C0498.MP4_loc.csv\n",
      "bots_aligner_N021_D028_C0498.MP4_botsLoc.csv\n"
     ]
    },
    {
     "name": "stderr",
     "output_type": "stream",
     "text": [
      "C:\\Users\\User\\AppData\\Local\\Temp\\ipykernel_51436\\1645679825.py:23: FutureWarning: The default dtype for empty Series will be 'object' instead of 'float64' in a future version. Specify a dtype explicitly to silence this warning.\n",
      "  distances=pd.Series()\n"
     ]
    },
    {
     "name": "stdout",
     "output_type": "stream",
     "text": [
      "C:\\Users\\User\\Documents\\Eden\\locate_git_code\\distances\\aligner_N021_D028_C0498.MP4_loc.csv_distances.csv\n"
     ]
    }
   ],
   "source": [
    "expSumFileName ='C:\\\\Users\\\\User\\\\Documents\\\\Eden\\\\locate_git_code\\\\packaged\\\\botsTracking\\\\expSumPack_botnum_28cm.csv'\n",
    "expSum = pd.read_csv(expSumFileName,index_col=0)\n",
    "#expSum=expSum[expSum.index>32]\n",
    "#expSum=expSum[(expSum['passiveDiameter[cm]']!=28)]\n",
    "expSumFileNamePassive='C:\\\\Users\\\\User\\\\Documents\\\\Eden\\\\locate_git_code\\\\packaged\\\\expSumPack_botnum_28cm_updated.csv'\n",
    "expSumPassive=pd.read_csv(expSumFileNamePassive,index_col=0)\n",
    "#expSumPassive=expSumPassive[expSumPassive.index>32]\n",
    "#expSumPassive=expSumPassive[(expSumPassive['passiveDiameter[cm]']!=28)]\n",
    "suffix='_distances.csv'\n",
    "passive_path='C:\\\\Users\\\\User\\\\Documents\\\\Eden\\\\locate_git_code\\\\packaged'\n",
    "bot_path='C:\\\\Users\\\\User\\\\Documents\\\\Eden\\\\locate_git_code\\\\packaged\\\\botsTracking'\n",
    "iterrations=0\n",
    "for index,row in expSum.iterrows():\n",
    "    Passiverow=expSumPassive.iloc[iterrations]\n",
    "    PassiveLocatingFileName=Passiverow.locatingFileNamePack\n",
    "    print(PassiveLocatingFileName)\n",
    "    PassiveLocating=pd.read_csv(passive_path+'\\\\'+PassiveLocatingFileName,index_col=0)\n",
    "    BotLocatingFileName=row.botsLocatingFileNamePack\n",
    "    print(BotLocatingFileName)\n",
    "    BotLocating=pd.read_csv(bot_path+'\\\\'+BotLocatingFileName,index_col=0)\n",
    "    BotsFrameNum=BotLocating['frame']\n",
    "    d={'frame':BotsFrameNum}\n",
    "    distances=pd.Series()\n",
    "    iterrations=iterrations+1\n",
    "    for index, row in PassiveLocating.iterrows():\n",
    "        relevant_passive_data=row\n",
    "        relevant_bots_data=BotLocating[(BotLocating['frame']==row.frame)]\n",
    "        bots_x=relevant_bots_data.x\n",
    "        bots_y=relevant_bots_data.y\n",
    "        distance=np.power((row.x-bots_x),2)+np.power((row.y-bots_y),2)\n",
    "        distances=pd.concat([distances,distance],ignore_index=True)\n",
    "    df=pd.DataFrame(data=d)\n",
    "    df.insert(1,\"distance_sq\",distances)\n",
    "    print('C:\\\\Users\\\\User\\\\Documents\\\\Eden\\\\locate_git_code\\\\distances\\\\'+PassiveLocatingFileName+suffix)\n",
    "    df.to_csv('C:\\\\Users\\\\User\\\\Documents\\\\Eden\\\\locate_git_code\\\\distances\\\\'+PassiveLocatingFileName+suffix)"
   ]
  },
  {
   "cell_type": "code",
   "execution_count": 9,
   "id": "94028875-d8a2-4a2d-8766-ec576e6131df",
   "metadata": {},
   "outputs": [],
   "source": [
    "expSumFileName = 'C:\\\\Users\\\\User\\\\Documents\\\\Eden\\locate_git_code\\\\packaged\\\\botsTracking\\\\expSumPack.csv'\n",
    "expSum = pd.read_csv(expSumFileName,index_col=0)\n",
    "suffix='_distances.csv'\n",
    "distance_file_names=[]\n",
    "for index,row in expSum.iterrows():\n",
    "    file_name=row.path\n",
    "    distance_file_names.append(file_name+suffix)\n",
    "expSum['DistanceFileNames']=distance_file_names\n",
    "expSum.to_csv('C:\\\\Users\\\\User\\\\Documents\\\\Eden\\locate_git_code\\\\packaged\\\\botsTracking\\\\expSumPack_distance.csv')\n",
    "    "
   ]
  },
  {
   "cell_type": "code",
   "execution_count": null,
   "id": "994463e0-70b2-426c-88fe-4063b090ba1f",
   "metadata": {},
   "outputs": [],
   "source": []
  }
 ],
 "metadata": {
  "kernelspec": {
   "display_name": "Python 3 (ipykernel)",
   "language": "python",
   "name": "python3"
  },
  "language_info": {
   "codemirror_mode": {
    "name": "ipython",
    "version": 3
   },
   "file_extension": ".py",
   "mimetype": "text/x-python",
   "name": "python",
   "nbconvert_exporter": "python",
   "pygments_lexer": "ipython3",
   "version": "3.8.1"
  }
 },
 "nbformat": 4,
 "nbformat_minor": 5
}
