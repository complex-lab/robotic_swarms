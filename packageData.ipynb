{
 "cells": [
  {
   "cell_type": "markdown",
   "id": "ecc3df83-e96a-4efc-be6e-916c4a01dd06",
   "metadata": {},
   "source": [
    "# Package linking results for remote work"
   ]
  },
  {
   "cell_type": "markdown",
   "id": "a7b6e395-710f-4b8a-8b99-310abf6fcd9a",
   "metadata": {},
   "source": [
    "#### This sscript takes the current sate of experimetn summary csv and copy everything to a single folder\n",
    "##### (this can be later added to a repository)"
   ]
  },
  {
   "cell_type": "markdown",
   "id": "8230424e-a6d7-411d-b6a3-d76252920760",
   "metadata": {},
   "source": [
    "All data is saved in a single directory with each file having the following sturcutre\n",
    "bottype_Nbots_Diam_C000.mp4\n",
    "bottype_Nbots_Diam_C000_loc.csv\n",
    "bottype_Nbots_Diam_C000_link.csv"
   ]
  },
  {
   "cell_type": "code",
   "execution_count": 26,
   "id": "49f2dc5e-38a1-48b1-9b8c-4377a6b52f0a",
   "metadata": {},
   "outputs": [],
   "source": [
    "import pandas as pd\n",
    "import os as os"
   ]
  },
  {
   "cell_type": "code",
   "execution_count": 30,
   "id": "37ca8ec1-2133-4915-9123-82c6f70b8419",
   "metadata": {},
   "outputs": [],
   "source": [
    "expSumFileName = 'C:\\\\Users\\\\User\\\\Documents\\\\Eden\\\\locate_git_code\\\\packaged\\\\expSumPack21_updated.csv'\n",
    "expSum = pd.read_csv(expSumFileName,index_col=0)\n",
    "\n",
    "#expSum = expSum.iloc[expSum.index<42]\n",
    "expSum = expSum.iloc[[10,11],:]\n",
    "\n",
    "packageDir = 'packaged'\n",
    "#destPackageDfFileName= packageDir + '\\\\expSumPack21.csv'\n",
    "destPackageDfFileName='C:\\\\Users\\\\User\\\\Documents\\\\Eden\\\\locate_git_code\\\\packaged\\\\expSumPack21_test.csv'\n",
    "\n",
    "smallVideoSuffix = '_small.mp4'\n",
    "#trajVideoSuffix = '_traj.mp4'\n",
    "trajVideoSuffix ='_traj_test.mp4'"
   ]
  },
  {
   "cell_type": "code",
   "execution_count": 31,
   "id": "7e482385-43f9-456b-8be5-9f913a13ebc2",
   "metadata": {},
   "outputs": [
    {
     "name": "stdout",
     "output_type": "stream",
     "text": [
      "[]\n"
     ]
    }
   ],
   "source": [
    "print(expSum[expSum.index==(75-42)].locatingFileName.values)"
   ]
  },
  {
   "cell_type": "code",
   "execution_count": 32,
   "id": "326d7c0b-d681-458b-b82a-8c75352da18b",
   "metadata": {},
   "outputs": [],
   "source": [
    "dfPackaged = expSum.copy()\n",
    "dfPackaged['miniVideoFileNamePack']=['none']*len(dfPackaged)\n",
    "dfPackaged['locatingFileNamePack']=['none']*len(dfPackaged)\n",
    "dfPackaged['linkingFileNamePack']=['none']*len(dfPackaged)\n",
    "\n",
    "for index, row in expSum.iterrows():\n",
    "    botType = row.bottype\n",
    "    bots = row.bots\n",
    "    diam = row[\"passiveDiameter[cm]\"]\n",
    "    head,tail = os.path.split(row.path) #get only the filename\n",
    "    fileName = tail\n",
    "    \n",
    "    destFileNameBase = 'updated_'+botType + '_N'+str(bots).zfill(3)+'_D'+str(diam).zfill(3)+'_'+fileName\n",
    "    destFileNameVideo = destFileNameBase\n",
    "    destFileNameLocating = destFileNameBase+'_loc.csv'\n",
    "    destFileNameLinking = destFileNameBase+'_link.csv'\n",
    "\n",
    "    dfPackaged.at[index, 'miniVideoFileNamePack'] = destFileNameVideo\n",
    "    dfPackaged.at[index, 'locatingFileNamePack']  = destFileNameLocating\n",
    "    dfPackaged.at[index, 'linkingFileNamePack']   = destFileNameLinking\n",
    "    \n",
    "    sourceFileNameLocating = row.locatingFileName\n",
    "    sourceFileNameLinking  = row.linkingFileName\n",
    "    sourceFileNameVideo    = row.path + smallVideoSuffix + trajVideoSuffix\n",
    "    sourceFileNameVideo    = row.path + smallVideoSuffix +'_updated_'+ trajVideoSuffix\n",
    "    \n",
    "    #Copy locating file\n",
    "    command = 'copy ' + sourceFileNameLocating + ' ' + packageDir + '\\\\'+destFileNameLocating\n",
    "    os.system(command)\n",
    "    \n",
    "    #Copy linking file\n",
    "    command = 'copy ' + sourceFileNameLinking + ' ' + packageDir + '\\\\'+destFileNameLinking\n",
    "    os.system(command)\n",
    "    \n",
    "    #Copy minified+traj file\n",
    "    command = 'copy ' + sourceFileNameVideo + ' ' + packageDir + '\\\\'+destFileNameVideo\n",
    "    os.system(command)\n",
    "    \n",
    "#save the experiment summary\n",
    "dfPackaged.to_csv(destPackageDfFileName)"
   ]
  },
  {
   "cell_type": "code",
   "execution_count": null,
   "id": "b374a87a-8e72-45f4-a0bb-256d3f14efbe",
   "metadata": {},
   "outputs": [],
   "source": []
  },
  {
   "cell_type": "code",
   "execution_count": null,
   "id": "abfcd9fb-5404-4c32-aeea-eb5b892e957c",
   "metadata": {},
   "outputs": [],
   "source": []
  }
 ],
 "metadata": {
  "kernelspec": {
   "display_name": "Python 3 (ipykernel)",
   "language": "python",
   "name": "python3"
  },
  "language_info": {
   "codemirror_mode": {
    "name": "ipython",
    "version": 3
   },
   "file_extension": ".py",
   "mimetype": "text/x-python",
   "name": "python",
   "nbconvert_exporter": "python",
   "pygments_lexer": "ipython3",
   "version": "3.8.1"
  }
 },
 "nbformat": 4,
 "nbformat_minor": 5
}
