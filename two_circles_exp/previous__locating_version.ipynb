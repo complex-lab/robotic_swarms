{
 "cells": [
  {
   "cell_type": "code",
   "execution_count": 1,
   "id": "cc8614fe-a504-4812-8c62-f61189b925a4",
   "metadata": {},
   "outputs": [],
   "source": [
    "import cv2 as cv2\n",
    "from matplotlib import pyplot as plt\n",
    "import pandas as pd\n",
    "import numpy as np\n",
    "import trackpy as tp\n",
    "from ipywidgets import HBox, Textarea, interact\n",
    "import time\n",
    "from multiprocessing import Pool,process\n",
    "\n",
    "def l2n(x):\n",
    "    return np.array(x)"
   ]
  },
  {
   "cell_type": "code",
   "execution_count": 2,
   "id": "121bbbbc-a97d-4ef6-a963-d7c6cc1aba1f",
   "metadata": {},
   "outputs": [],
   "source": [
    "def parseCircles(circles):\n",
    "    x = []\n",
    "    y = []\n",
    "    r = []\n",
    "    for i in range(len(circles)):\n",
    "        x.append(circles[i,0,0])\n",
    "        y.append(circles[i,0,1])\n",
    "        r.append(circles[i,0,2])\n",
    "        \n",
    "    x,y,r = l2n(x), l2n(y),l2n(r)\n",
    "    return x,y,r"
   ]
  },
  {
   "cell_type": "code",
   "execution_count": 3,
   "id": "baac1353-edd9-4bfd-9f1a-4e1d228c557e",
   "metadata": {},
   "outputs": [
    {
     "data": {
      "text/plain": [
       "'def cropImage(img,x0,y0,width,height):\\n    d = len(img.shape)\\n    if d==2: #grayscale\\n        return img[y0:y0+height,x0:x0+width]\\n    elif d==3: #rgb\\n        return img[y0:y0+height,x0:x0+width,:]\\n'"
      ]
     },
     "execution_count": 3,
     "metadata": {},
     "output_type": "execute_result"
    }
   ],
   "source": [
    "def preProcessFrame(frame):\n",
    "    #blur and grayout a frame\n",
    "    \n",
    "    # Convert to grayscale.\n",
    "    gray = cv2.cvtColor(frame, cv2.COLOR_BGR2GRAY)\n",
    "      \n",
    "    # Convert to HSV and extract the saturation channel\n",
    "    #sat = cv2.cvtColor(frame, cv2.COLOR_BGR2HSV)[:,:,0]\n",
    "\n",
    "    # median filter\n",
    "    #median = cv2.medianBlur(gray, 3)\n",
    "    #gray_blurred = median\n",
    "    # Blur using 3 * 3 kernel.\n",
    "    blurSize = 10#5\n",
    "    gray_blurred = cv2.blur(gray, (blurSize, blurSize))\n",
    "    \n",
    "    return gray_blurred\n",
    "\n",
    "def detectCircles(frame,minRadius,maxRadius,param1=30,param2=25):\n",
    "    \n",
    "    minDist = int(2.5*maxRadius)\n",
    "    dp = 1\n",
    "    # Apply Hough transform on the blurred image.\n",
    "    circles = cv2.HoughCircles(frame, \n",
    "                cv2.HOUGH_GRADIENT,dp, minDist, param1 = param1,\n",
    "                param2 = param2, minRadius = minRadius, maxRadius = maxRadius)\n",
    "\n",
    "    return circles\n",
    "    \n",
    "def captureFrame(video,frame_id):\n",
    "    video.set(cv2.CAP_PROP_POS_FRAMES, frame_id)\n",
    "    ret, frame = video.read()\n",
    "    if ret:\n",
    "        return frame\n",
    "    else:\n",
    "        return ret\n",
    "\n",
    "def drawCircles(circles,ax ):\n",
    "    if circles is not None:  \n",
    "    # Convert the circle parameters a, b and r to integers.\n",
    "    #detected_circles = np.uint16(np.around(detected_circles))\n",
    "    #fig, ax = plt.subplots() \n",
    "        for pt in circles[0, :]:\n",
    "            a, b, r = pt[0], pt[1], pt[2]\n",
    "            circle = plt.Circle((a, b), r, color='r',fill=False)\n",
    "            ax.add_patch(circle)\n",
    "            #ax.imshow(frame, cmap = 'gray')\n",
    "\n",
    "def drawCirclesDf(df,ax ):\n",
    "    \n",
    "    \n",
    "    for index, row in df.iterrows():\n",
    "        x,y,r = row.x,row.y,row.r\n",
    "        circle = plt.Circle((x, y), r, color='r',fill=False)\n",
    "        ax.add_patch(circle)\n",
    "\n",
    "def circlesToDataFrame(circles,frameNum):    \n",
    "    x,y,r = parseCircles(circles)\n",
    "    data = {'frame':[int(frameNum)]*len(circles),'x':x,'y':y,'r':r}\n",
    "    dft = pd.DataFrame(data = data)\n",
    "    \n",
    "    return dft\n",
    "\n",
    "\n",
    "def cropImage(img,x0,y0,width,height):\n",
    "    return img[y0:y0+height,x0:x0+width,:]\n",
    "'''def cropImage(img,x0,y0,width,height):\n",
    "    d = len(img.shape)\n",
    "    if d==2: #grayscale\n",
    "        return img[y0:y0+height,x0:x0+width]\n",
    "    elif d==3: #rgb\n",
    "        return img[y0:y0+height,x0:x0+width,:]\n",
    "'''"
   ]
  },
  {
   "cell_type": "markdown",
   "id": "81068c5b-a8ea-4ad8-8465-7b98d2970e52",
   "metadata": {},
   "source": [
    "### Experimental settings"
   ]
  },
  {
   "cell_type": "code",
   "execution_count": 4,
   "id": "50fa741b-c107-482b-8561-2fde90c118c7",
   "metadata": {},
   "outputs": [],
   "source": [
    "arenaSizePixels = 1090 # [pixels]\n",
    "arenaSizeCm = 50 # [cm]"
   ]
  },
  {
   "cell_type": "markdown",
   "id": "01f678c3-3457-48c8-95d7-4c439806df43",
   "metadata": {},
   "source": [
    "### Load experiments summary table"
   ]
  },
  {
   "cell_type": "code",
   "execution_count": 5,
   "id": "d1171394-8991-4388-995d-356f1f039802",
   "metadata": {},
   "outputs": [],
   "source": [
    "experiments = pd.read_csv('C:\\\\Users\\\\User\\\\Documents\\\\Eden\\\\locate_git_code\\\\two_circles_exp\\\\two_circles_exp4.csv',index_col=0)#,ignore_index=True)"
   ]
  },
  {
   "cell_type": "markdown",
   "id": "5a3b1ba1-3cec-4337-bc69-afbe127eaee7",
   "metadata": {},
   "source": [
    "## Locating params \n"
   ]
  },
  {
   "cell_type": "code",
   "execution_count": 6,
   "id": "73b32873-b760-4965-9908-06bc6e8c18a8",
   "metadata": {},
   "outputs": [],
   "source": [
    "x0,y0 = 300,0\n",
    "width0,height0 = 1150,1080\n",
    "\n",
    "#frameNum = 1500\n",
    "threshMin = 10\n",
    "threshMax = 300\n",
    "\n",
    "param1 = 31#100#25#35#30#25#25\n",
    "param2 = 34#35\n",
    "\n",
    "#frameSkip = 25"
   ]
  },
  {
   "cell_type": "markdown",
   "id": "925cf435-350e-4795-be5d-660133a05ac5",
   "metadata": {},
   "source": [
    "#### filter a sub-set of experiments"
   ]
  },
  {
   "cell_type": "code",
   "execution_count": 7,
   "id": "c8a17143-876d-4c4e-9734-661f5b12949e",
   "metadata": {},
   "outputs": [],
   "source": [
    "#expToTrack = experiments[(experiments[\"thirdpassiveDiameter[cm]\"]==28)]\n",
    "#expToTrack = experiments.iloc[[30,31,32,33,34]]\n",
    "expToTrack = experiments.iloc[[28]]\n",
    "#expToTrack = experiments[(experiments[\"date\"]==20231212)]"
   ]
  },
  {
   "cell_type": "markdown",
   "id": "d9028913-63ef-4bf3-8b98-5e9c0fec3de6",
   "metadata": {},
   "source": [
    "### Batch locate - will take a while"
   ]
  },
  {
   "cell_type": "code",
   "execution_count": 8,
   "id": "8e950cf2-3fa0-4795-8e78-72b7d433379e",
   "metadata": {},
   "outputs": [
    {
     "data": {
      "text/plain": [
       "1"
      ]
     },
     "execution_count": 8,
     "metadata": {},
     "output_type": "execute_result"
    }
   ],
   "source": [
    "locatingFileNameSuffix = '_locatedFull20231218_28cm_Eden.csv'\n",
    "len(expToTrack)"
   ]
  },
  {
   "cell_type": "code",
   "execution_count": null,
   "id": "828d0d9d-cad1-4ab1-8596-0e66b7deffad",
   "metadata": {},
   "outputs": [
    {
     "name": "stdout",
     "output_type": "stream",
     "text": [
      "Locating a circle in D:\\Eden\\new_exp_test_15_11_23\\12_12_23\\C0646.MP4\n"
     ]
    }
   ],
   "source": [
    "if __name__ == \"__main__\":\n",
    "    with Pool() as pool:\n",
    "        globalStartTime = time.time()\n",
    "\n",
    "        locatedFileNames = []\n",
    "\n",
    "\n",
    "        for index,row in (expToTrack.iterrows()):\n",
    "            fileName  =row.path\n",
    "            print('Locating a circle in ' + fileName);\n",
    "            video = cv2.VideoCapture(fileName)\n",
    "\n",
    "            #get videos properties\n",
    "            width  = int(video.get(cv2.CAP_PROP_FRAME_WIDTH ))\n",
    "            height = int(video.get(cv2.CAP_PROP_FRAME_HEIGHT ))\n",
    "            fps = video.get(cv2.CAP_PROP_FPS)      # OpenCV v2.x used \"CV_CAP_PROP_FPS\"\n",
    "            frameCount = int(video.get(cv2.CAP_PROP_FRAME_COUNT))\n",
    "            pixelSize = arenaSizeCm/arenaSizePixels\n",
    "\n",
    "            #defined according the column from the experiments table\n",
    "            radiusMin = 148#int(row.minCircleRadius)\n",
    "            radiusMax = 160#int(row.maxCircleRadius)\n",
    "\n",
    "\n",
    "            data = {'frame':[],'x':[],'y':[],'r':[]}\n",
    "            columns = ['frame','x','y','r']\n",
    "            df = pd.DataFrame(data=data,columns=columns)\n",
    "\n",
    "            boxSize = int(2*(2*radiusMax))\n",
    "            wc,hc = boxSize,boxSize\n",
    "            xc,yc = int(958-boxSize/2),int(548-boxSize/2)\n",
    "\n",
    "            #xc,yc = 1184,634 frameMin=6710 #\n",
    "            frameMin = 0 #0#frameCount-100\n",
    "            frameMax = 10#frameCount#frameCount#frameMin+1000#frameCount#frameMin+500#300#frameCount#minFrame+3*60*24\n",
    "            #frameRange = range(frameMin,frameMax,frameSkip)\n",
    "\n",
    "\n",
    "            startTime = time.time()\n",
    "            video.set(cv2.CAP_PROP_POS_FRAMES, frameMin)\n",
    "            ret = True\n",
    "\n",
    "            while ret:\n",
    "\n",
    "                #video.grab()#captureFrame(video,frameNum)\n",
    "                test=pool.map(video.read(),range(frameMin,frameMax))\n",
    "                ret, img = video.read()\n",
    "                if(ret): #if succesfffuly read an image\n",
    "                    frameNum = video.get(cv2.CAP_PROP_POS_FRAMES)\n",
    "                    #imgRed = img[:,:,0]\n",
    "\n",
    "                    #For large images, locate a cropped window\n",
    "\n",
    "                    #imgCropped = cropImage(img,xc,yc,wc,hc)\n",
    "                    imgCropped =cropImage(img,300,0,1150,int(height))\n",
    "                    #Edge detection:\n",
    "                    #imgE = cv2.Canny(imgCropped,threshMin,threshMax)\n",
    "                    GrayImage = cv2.cvtColor(imgCropped, cv2.COLOR_BGR2GRAY)\n",
    "                    #Find circles:\n",
    "                    #circles = detectCircles(imgE,radiusMin, radiusMax,param1,param2)\n",
    "                    circles = detectCircles(GrayImage,radiusMin, radiusMax,param1,param2)\n",
    "                    #If circle found, add to pandas Dataframe:\n",
    "                    if circles is not None:        \n",
    "                        dft = circlesToDataFrame(circles,frameNum)\n",
    "                        #dft['x'] = dft['x']\n",
    "                        #dft['y'] = dft['y']\n",
    "\n",
    "                        df = pd.concat([df,dft],ignore_index=True)\n",
    "              #Save to CSV\n",
    "            endTime = time.time()\n",
    "            duration = endTime-startTime\n",
    "            print('Locating ' + str(len(df)) + ' frames took ' + str(duration) + ' seconds.')\n",
    "\n",
    "            #Save the pandas locating dataframe a CSV file at the video's location\n",
    "            fileNameLoc = fileName+locatingFileNameSuffix\n",
    "            df.to_csv(fileNameLoc)        \n",
    "            locatedFileNames.append(fileNameLoc)\n",
    "        ####################################linking#################################\n",
    "\n",
    "            tp.quiet()\n",
    "            search_range= 80\n",
    "            memory= 1000\n",
    "            minTrajLength =int(frameCount/4) #This is not the best condition (Matan)\n",
    "            t = tp.link(df, search_range=search_range, memory=memory)\n",
    "            t1=tp.filter_stubs(t,threshold=minTrajLength)\n",
    "            path=fileName+locatingFileNameSuffix+'_linked.csv'\n",
    "            t1.to_csv(path)\n",
    "\n",
    "\n",
    "        globalEndTime = time.time()\n",
    "        totalDuration = globalEndTime-globalStartTime\n",
    "        print('Locating ' + str(len(expToTrack)) + ' experiments took ' + str(totalDuration) + ' seconds.')"
   ]
  },
  {
   "cell_type": "code",
   "execution_count": null,
   "id": "a8a4176a-52be-4abe-ab71-aaec96723d8b",
   "metadata": {},
   "outputs": [],
   "source": [
    "### Save locating and linking filenames int expToTrack dataframe\n",
    "### In power cell, change fetching of locating/tracking from the table of experiments"
   ]
  },
  {
   "cell_type": "code",
   "execution_count": null,
   "id": "a2d28695-9559-484a-8911-7f2b813b2a13",
   "metadata": {},
   "outputs": [],
   "source": [
    "print('Locating ' + str(len(expToTrack)) + ' experiments took ' + str(totalDuration) + ' seconds.')"
   ]
  },
  {
   "cell_type": "code",
   "execution_count": null,
   "id": "d83bf926-da41-42ea-ab4b-206293f266a9",
   "metadata": {},
   "outputs": [],
   "source": [
    "print('There were ' + str(int(len(locatedFileNames))) + ' files located')\n",
    "print('the total run duration was: ' + str(np.round(totalDuration/60/60,1)) +' hours')"
   ]
  }
 ],
 "metadata": {
  "kernelspec": {
   "display_name": "Python 3 (ipykernel)",
   "language": "python",
   "name": "python3"
  },
  "language_info": {
   "codemirror_mode": {
    "name": "ipython",
    "version": 3
   },
   "file_extension": ".py",
   "mimetype": "text/x-python",
   "name": "python",
   "nbconvert_exporter": "python",
   "pygments_lexer": "ipython3",
   "version": "3.8.1"
  }
 },
 "nbformat": 4,
 "nbformat_minor": 5
}
