{
 "cells": [
  {
   "cell_type": "markdown",
   "id": "fa039ec5-d0f3-4f4e-9e9d-f11fc251ba93",
   "metadata": {},
   "source": [
    "# Save a small version of the video with the trajectory on it"
   ]
  },
  {
   "cell_type": "markdown",
   "id": "9598615a-0815-4171-8908-3f67f1b7e6ab",
   "metadata": {},
   "source": [
    "#### Written by Matan 20230306"
   ]
  },
  {
   "cell_type": "code",
   "execution_count": 5,
   "id": "8745e8f6-8516-4e6b-9f4d-73703eae007a",
   "metadata": {},
   "outputs": [],
   "source": [
    "import cv2 as cv2\n",
    "from matplotlib import pyplot as plt\n",
    "import pandas as pd\n",
    "import numpy as np\n",
    "import trackpy as tp\n",
    "from ipywidgets import HBox, Textarea, interact\n",
    "import time\n",
    "from mpl_toolkits.axes_grid1.inset_locator import inset_axes\n",
    "\n",
    "def l2n(x):\n",
    "    return np.array(x)\n",
    "\n",
    "def cropImage(img,x0,y0,width,height):\n",
    "    return img[y0:y0+height,x0:x0+width,:]\n",
    "\n",
    "def rebin(arr,new_shape):\n",
    "    shape = (new_shape[0], arr.shape[0] // new_shape[0],\n",
    "             new_shape[1], arr.shape[1] // new_shape[1],\n",
    "             new_shape[2], arr.shape[2] // new_shape[2])\n",
    "    \n",
    "    return arr.reshape(shape).mean(-1).mean(1).mean(2)\n",
    "\n",
    "def timeToSec(timeStr):#Transform m:s format into total number of seconds\n",
    "    timeArr = timeStr.split(':')\n",
    "    timeMin = int(timeArr[0])\n",
    "    timeSec = int(timeArr[1])\n",
    "    totSec = timeMin*60+timeSec\n",
    "    return totSec"
   ]
  },
  {
   "cell_type": "code",
   "execution_count": 6,
   "id": "719cdc9b-6877-4b78-aafd-66e55c1afb55",
   "metadata": {},
   "outputs": [
    {
     "name": "stdout",
     "output_type": "stream",
     "text": [
      "           operator  bottype  stars  bot_1_No  bot_2_No  bots  \\\n",
      "date                                                            \n",
      "20240515.0     Eden  aligner    NaN       1.0       3.0   NaN   \n",
      "\n",
      "            dress_diameter_bot_1  dress_diameter_bot_2  \\\n",
      "date                                                     \n",
      "20240515.0                  23.0                  23.0   \n",
      "\n",
      "                                        folder  \\\n",
      "date                                             \n",
      "20240515.0  D:\\Eden\\dress_exp\\16_5_24_aligners   \n",
      "\n",
      "                                                    path  ... comments  \\\n",
      "date                                                      ...            \n",
      "20240515.0  D:\\Eden\\dress_exp\\16_5_24_aligners\\C0810.MP4  ...      NaN   \n",
      "\n",
      "            backedup  motorVal  production  linkingFileName  \\\n",
      "date                                                          \n",
      "20240515.0       NaN       NaN         NaN              NaN   \n",
      "\n",
      "            botLocatingFileName  botLinkingFileName miniVideoFileNamePack  \\\n",
      "date                                                                        \n",
      "20240515.0                  NaN                 NaN                   NaN   \n",
      "\n",
      "           locatingFileNamePack  linkingFileNamePack  \n",
      "date                                                  \n",
      "20240515.0                  NaN                  NaN  \n",
      "\n",
      "[1 rows x 30 columns]\n"
     ]
    }
   ],
   "source": [
    "expSumFileName = 'C:\\\\Users\\\\User\\\\Documents\\\\Eden\\\\locate_git_code\\\\dress_exp\\\\dress_exp.csv'\n",
    "expSum = pd.read_csv(expSumFileName,index_col=0)\n",
    "#expSum=expSum[(expSum['date']==20231212)]\n",
    "expSum=expSum.iloc[[145]]\n",
    "#expSum=expSum.iloc[52]\n",
    "print(expSum)"
   ]
  },
  {
   "cell_type": "code",
   "execution_count": 7,
   "id": "9d284013-9d0f-46a6-af42-bffc25025bec",
   "metadata": {},
   "outputs": [],
   "source": [
    "smallVideoSuffix = '_small.mp4'"
   ]
  },
  {
   "cell_type": "code",
   "execution_count": 10,
   "id": "b1d8db12-8640-44dd-9941-f268c6116b1b",
   "metadata": {},
   "outputs": [
    {
     "name": "stdout",
     "output_type": "stream",
     "text": [
      "Start scaling 876 frames down of video D:\\Eden\\dress_exp\\presentation_far_away_8_7_24\\C0894.MP4. Saved to D:\\Eden\\dress_exp\\presentation_far_away_8_7_24\\C0894.MP4_small.mp4\n",
      "Scaling and cropping D:\\Eden\\dress_exp\\presentation_far_away_8_7_24\\C0894.MP4 with 876.0 frames took 4.521477460861206 seconds.\n",
      "Scaling and crroping 1 videos took4.522480010986328 seconds\n"
     ]
    }
   ],
   "source": [
    "scaleDownFactor = 4\n",
    "speedUpFactor = 3#4#5\n",
    "\n",
    "width,height = 1450,1080\n",
    "x0,y0 = 200,0\n",
    "widthScaled = width//scaleDownFactor\n",
    "heightScaled = height//scaleDownFactor\n",
    "\n",
    "startTimeGlobal = time.time()\n",
    "\n",
    "\n",
    "for index,row in expSum.iterrows():\n",
    "    \n",
    "    startTime = time.time()\n",
    "   \n",
    "    ############## Fetch experiments data #################\n",
    "    fileNameVideo ='D:\\\\Eden\\\\dress_exp\\\\presentation_far_away_8_7_24\\\\C0894.MP4'#row.path\n",
    "    fileNameLinked = 'D:\\\\Eden\\\\dress_exp\\\\7_5_24\\\\C0766.MP4_locatedFull20240508_bot_Eden_test.csv_linked.csv'#row.linkingFileName\n",
    "    \n",
    "    startMin ='0:00'#str(row.start_min)\n",
    "    endMin ='0:25'#str(row.end_min)\n",
    "    \n",
    "    ############## load experiments files #################\n",
    "    # Load video file\n",
    "    video = cv2.VideoCapture(fileNameVideo)\n",
    "    # Load locating file\n",
    "    #df = pd.read_csv(fileNameLinked)\n",
    "    #Load video Data\n",
    "    fps = video.get(cv2.CAP_PROP_FPS) \n",
    "    \n",
    "    ########### Filename to save small video #############\n",
    "    outputFileName = fileNameVideo+smallVideoSuffix\n",
    "    #Compute start and end frame\n",
    "    startSec = timeToSec(startMin)\n",
    "    endSec = timeToSec(endMin)\n",
    "    startFrame = int(startSec*fps)\n",
    "    endFrame = int(video.get(cv2.CAP_PROP_FRAME_COUNT))# int(endSec*fps)\n",
    "\n",
    "    fourcc = cv2.VideoWriter_fourcc(*'XVID')\n",
    "    out = cv2.VideoWriter(outputFileName,fourcc, fps, (widthScaled,heightScaled))\n",
    "    video.set(cv2.CAP_PROP_POS_FRAMES, startFrame)\n",
    "    frameNum = video.get(cv2.CAP_PROP_POS_FRAMES)\n",
    "    ret = True\n",
    "    print('Start scaling ' +str(endFrame-startFrame) +' frames down of video ' + fileNameVideo + '. Saved to '+ outputFileName)\n",
    "    while ret and frameNum<endFrame:\n",
    "        #video.grab()#captureFrame(video,frameNum)\n",
    "        for i in range(speedUpFactor): #skip frames by speedUpFactor\n",
    "            ret, img = video.read()\n",
    "\n",
    "        if(ret): #if succesfffuly read an image\n",
    "            frameNum = video.get(cv2.CAP_PROP_POS_FRAMES)\n",
    "            #imgRed = img[:,:,0]\n",
    "\n",
    "            #For large images, locate a cropped window\n",
    "            imgCropped = cropImage(img,x0,y0,width,height)\n",
    "            imgScaled = cv2.resize(imgCropped,(widthScaled,heightScaled),fx=0,fy=0, interpolation = cv2.INTER_CUBIC)\n",
    "            #Edge detection:\n",
    "            out.write(imgScaled)\n",
    "            #df = pd.concat([df,dft],ignore_index=True)\n",
    "\n",
    "    video.release()\n",
    "    out.release()\n",
    "\n",
    "    endTime = time.time()\n",
    "    duration = endTime-startTime\n",
    "    print('Scaling and cropping '+ fileNameVideo + ' with '+ str(frameNum-startFrame) + ' frames took ' + str(duration) + ' seconds.')\n",
    "endTimeGlobal = time.time()\n",
    "durationGlobal = endTimeGlobal-startTimeGlobal\n",
    "\n",
    "print('Scaling and crroping ' + str(len(expSum)) + ' videos took' + str(durationGlobal) + ' seconds')"
   ]
  },
  {
   "cell_type": "code",
   "execution_count": 6,
   "id": "47268f73-0647-4d91-ba8d-6e792c75489d",
   "metadata": {},
   "outputs": [
    {
     "data": {
      "text/plain": [
       "'5'"
      ]
     },
     "execution_count": 6,
     "metadata": {},
     "output_type": "execute_result"
    }
   ],
   "source": [
    "str(len(expSum))"
   ]
  },
  {
   "cell_type": "code",
   "execution_count": 7,
   "id": "79f77087-b3ba-452d-804b-227977b25c87",
   "metadata": {},
   "outputs": [
    {
     "ename": "TypeError",
     "evalue": "'NoneType' object is not subscriptable",
     "output_type": "error",
     "traceback": [
      "\u001b[1;31m---------------------------------------------------------------------------\u001b[0m",
      "\u001b[1;31mTypeError\u001b[0m                                 Traceback (most recent call last)",
      "Cell \u001b[1;32mIn [7], line 7\u001b[0m\n\u001b[0;32m      4\u001b[0m heightScaled \u001b[38;5;241m=\u001b[39m height\u001b[38;5;241m/\u001b[39m\u001b[38;5;241m/\u001b[39mscaleDownFactor\n\u001b[0;32m      6\u001b[0m ret, img \u001b[38;5;241m=\u001b[39m video\u001b[38;5;241m.\u001b[39mread()\n\u001b[1;32m----> 7\u001b[0m imgCropped \u001b[38;5;241m=\u001b[39m \u001b[43mcropImage\u001b[49m\u001b[43m(\u001b[49m\u001b[43mimg\u001b[49m\u001b[43m,\u001b[49m\u001b[43mx0\u001b[49m\u001b[43m,\u001b[49m\u001b[43my0\u001b[49m\u001b[43m,\u001b[49m\u001b[43mwidth\u001b[49m\u001b[43m,\u001b[49m\u001b[43mheight\u001b[49m\u001b[43m)\u001b[49m\n\u001b[0;32m      8\u001b[0m startTime \u001b[38;5;241m=\u001b[39m time\u001b[38;5;241m.\u001b[39mtime()\n\u001b[0;32m      9\u001b[0m imgScaledI \u001b[38;5;241m=\u001b[39m cv2\u001b[38;5;241m.\u001b[39mresize(imgCropped,(widthScaled,heightScaled),fx\u001b[38;5;241m=\u001b[39m\u001b[38;5;241m0\u001b[39m,fy\u001b[38;5;241m=\u001b[39m\u001b[38;5;241m0\u001b[39m, interpolation \u001b[38;5;241m=\u001b[39m cv2\u001b[38;5;241m.\u001b[39mINTER_CUBIC)\n",
      "Cell \u001b[1;32mIn [1], line 14\u001b[0m, in \u001b[0;36mcropImage\u001b[1;34m(img, x0, y0, width, height)\u001b[0m\n\u001b[0;32m     13\u001b[0m \u001b[38;5;28;01mdef\u001b[39;00m \u001b[38;5;21mcropImage\u001b[39m(img,x0,y0,width,height):\n\u001b[1;32m---> 14\u001b[0m     \u001b[38;5;28;01mreturn\u001b[39;00m \u001b[43mimg\u001b[49m\u001b[43m[\u001b[49m\u001b[43my0\u001b[49m\u001b[43m:\u001b[49m\u001b[43my0\u001b[49m\u001b[38;5;241;43m+\u001b[39;49m\u001b[43mheight\u001b[49m\u001b[43m,\u001b[49m\u001b[43mx0\u001b[49m\u001b[43m:\u001b[49m\u001b[43mx0\u001b[49m\u001b[38;5;241;43m+\u001b[39;49m\u001b[43mwidth\u001b[49m\u001b[43m,\u001b[49m\u001b[43m:\u001b[49m\u001b[43m]\u001b[49m\n",
      "\u001b[1;31mTypeError\u001b[0m: 'NoneType' object is not subscriptable"
     ]
    }
   ],
   "source": [
    "video.set(cv2.CAP_PROP_POS_FRAMES, 0)\n",
    "\n",
    "widthScaled = width//scaleDownFactor\n",
    "heightScaled = height//scaleDownFactor\n",
    "\n",
    "ret, img = video.read()\n",
    "imgCropped = cropImage(img,x0,y0,width,height)\n",
    "startTime = time.time()\n",
    "imgScaledI = cv2.resize(imgCropped,(widthScaled,heightScaled),fx=0,fy=0, interpolation = cv2.INTER_CUBIC)\n",
    "endTime = time.time()\n",
    "durationTime = endTime-startTime\n",
    "print(durationTime*1E6)\n",
    "\n",
    "startTime = time.time()\n",
    "imgScaledN = rebin(imgCropped,(heightScaled,widthScaled,3)).astype(int)\n",
    "endTime = time.time()\n",
    "durationTime = endTime-startTime\n",
    "print(durationTime*1E6)\n"
   ]
  },
  {
   "cell_type": "code",
   "execution_count": null,
   "id": "3982e896-aac6-4e05-a39a-9b6891bc03c3",
   "metadata": {},
   "outputs": [],
   "source": [
    "print(outputFileName)"
   ]
  },
  {
   "cell_type": "code",
   "execution_count": null,
   "id": "36ac6533-fe8f-487f-b804-a0168399c569",
   "metadata": {},
   "outputs": [],
   "source": [
    "plt.imshow(imgScaled)"
   ]
  },
  {
   "cell_type": "code",
   "execution_count": null,
   "id": "c1161ff7-bde2-4ebd-a3aa-ed3334a9f010",
   "metadata": {},
   "outputs": [],
   "source": [
    "10"
   ]
  },
  {
   "cell_type": "code",
   "execution_count": null,
   "id": "72f92b4e-3c6b-4809-8da6-ba900d585e9e",
   "metadata": {},
   "outputs": [],
   "source": [
    "imgCropped.shape\n",
    "imgScaled = rebin(imgCropped,(heightScaled,widthScaled,3)).astype(int)"
   ]
  },
  {
   "cell_type": "code",
   "execution_count": null,
   "id": "9ce51f47-cde9-4386-a87f-49b06d7a71db",
   "metadata": {},
   "outputs": [],
   "source": [
    "imgCropped.shape"
   ]
  },
  {
   "cell_type": "code",
   "execution_count": null,
   "id": "b62a77d4-e3fb-4ec1-9b78-2a8d19218988",
   "metadata": {},
   "outputs": [],
   "source": [
    "(widthScaled,heightScaled,3)"
   ]
  },
  {
   "cell_type": "code",
   "execution_count": null,
   "id": "5acbe523-445d-4c1c-a362-d3bff18b3734",
   "metadata": {},
   "outputs": [],
   "source": [
    "3888000/300/3/270/4/3/1\n"
   ]
  },
  {
   "cell_type": "code",
   "execution_count": null,
   "id": "3f7069ad-d44e-465a-af8f-7a247d014105",
   "metadata": {},
   "outputs": [],
   "source": [
    "plt.imshow(imgScaled)\n"
   ]
  },
  {
   "cell_type": "code",
   "execution_count": null,
   "id": "9d599ceb-578b-4562-ba73-3ada91dbef02",
   "metadata": {},
   "outputs": [],
   "source": [
    "imgC.shape[0]"
   ]
  },
  {
   "cell_type": "code",
   "execution_count": null,
   "id": "b9a60cb5-f04a-43c0-b0a7-082b057ddeec",
   "metadata": {},
   "outputs": [],
   "source": [
    "img  = captureFrame(video,frameNum)\n",
    "imgCropped =cropImage(img,300,0,1200,int(height))"
   ]
  },
  {
   "cell_type": "code",
   "execution_count": null,
   "id": "dbc7011f-bb6b-4f4b-a14b-d84f795f5146",
   "metadata": {},
   "outputs": [],
   "source": [
    "ap = cv2.VideoCapture('C:/New folder/video.avi')\n",
    " \n",
    "fourcc = cv2.VideoWriter_fourcc(*'XVID')\n",
    "out = cv2.VideoWriter('output.avi',fourcc, 5, (1280,720))\n",
    " \n",
    "while True:\n",
    "    ret, frame = cap.read()\n",
    "    if ret == True:\n",
    "        b = cv2.resize(frame,(1280,720),fx=0,fy=0, interpolation = cv2.INTER_CUBIC)\n",
    "        out.write(b)\n",
    "    else:\n",
    "        break\n",
    "    \n",
    "cap.release()\n",
    "out.release()\n",
    "cv2.destroyAllWindows()"
   ]
  }
 ],
 "metadata": {
  "kernelspec": {
   "display_name": "Python 3 (ipykernel)",
   "language": "python",
   "name": "python3"
  },
  "language_info": {
   "codemirror_mode": {
    "name": "ipython",
    "version": 3
   },
   "file_extension": ".py",
   "mimetype": "text/x-python",
   "name": "python",
   "nbconvert_exporter": "python",
   "pygments_lexer": "ipython3",
   "version": "3.8.1"
  }
 },
 "nbformat": 4,
 "nbformat_minor": 5
}
