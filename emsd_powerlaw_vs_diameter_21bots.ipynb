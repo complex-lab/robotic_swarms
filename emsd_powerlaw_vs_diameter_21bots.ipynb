{
 "cells": [
  {
   "cell_type": "code",
   "execution_count": 25,
   "id": "eae80b46-538c-473a-a1ee-0ee5eb773847",
   "metadata": {},
   "outputs": [],
   "source": [
    "%matplotlib inline\n",
    "#%matplotlib widget"
   ]
  },
  {
   "cell_type": "code",
   "execution_count": 26,
   "id": "b7f12752-92be-455c-a5cc-a44c78932427",
   "metadata": {},
   "outputs": [],
   "source": [
    "#############imports######################################################################\n",
    "import cv2 as cv2\n",
    "from matplotlib import pyplot as plt\n",
    "import pandas as pd\n",
    "import numpy as np\n",
    "import trackpy as tp\n",
    "import scipy as sc\n",
    "import matplotlib.colors as colors\n",
    "import os\n",
    "from ipywidgets import HBox, Textarea, interact"
   ]
  },
  {
   "cell_type": "code",
   "execution_count": 27,
   "id": "dd6dd833-ff30-40a2-9cec-fe40738db85d",
   "metadata": {},
   "outputs": [],
   "source": [
    "def read_time(time_value):\n",
    "    fps=25\n",
    "    sign_index=time_value.index(':')\n",
    "    minutes=int(time_value[0:sign_index])\n",
    "    sec=int(time_value[sign_index+1:len(time_value)])\n",
    "    frames=(minutes*60+sec)*25\n",
    "    return frames\n",
    "#def expShift(t,A,tau,k):\n",
    "#    return A*np.exp(-t/tau)+k\n",
    "def expShift(t,A,tau,k):\n",
    "    return A*np.exp(-(t**2)/((tau**2)))+k\n",
    "#def CovToCorr(cov_data):\n",
    "#    shape=cov_data.shape\n",
    "#    result=[]\n",
    "#    for i in range(0,shape):\n",
    "def powerlaw(x,A,n):\n",
    "    return A*x**n\n",
    "def linear_fit_log(x,n,A):\n",
    "    return n*x+A\n",
    "    "
   ]
  },
  {
   "cell_type": "code",
   "execution_count": 28,
   "id": "860f3074-2c62-42bb-8b84-0675b64cf53f",
   "metadata": {},
   "outputs": [
    {
     "name": "stdout",
     "output_type": "stream",
     "text": [
      "['fronter_N021_D007_C0541.MP4_link.csv'\n",
      " 'fronter_N021_D007_C0540.MP4_link.csv'\n",
      " 'fronter_N021_D007_C0539.MP4_link.csv'\n",
      " 'fronter_N021_D007_C0538.MP4_link.csv']\n",
      "['aligner_N021_D007_C0548.MP4_link.csv'\n",
      " 'aligner_N021_D007_C0547.MP4_link.csv'\n",
      " 'aligner_N021_D007_C0544.MP4_link.csv'\n",
      " 'aligner_N021_D007_C0542.MP4_link.csv']\n",
      "['fronter_N021_D012_C0537.MP4_link.csv'\n",
      " 'fronter_N021_D012_C0536.MP4_link.csv'\n",
      " 'fronter_N021_D012_C0535.MP4_link.csv'\n",
      " 'fronter_N021_D012_C0534.MP4_link.csv'\n",
      " 'fronter_N021_D012_C0533.MP4_link.csv']\n",
      "['aligner_N021_D012_C0532.MP4_link.csv'\n",
      " 'aligner_N021_D012_C0531.MP4_link.csv'\n",
      " 'updated_test_aligner_N021_D012_C0530.MP4_link.csv'\n",
      " 'aligner_N021_D012_C0529.MP4_link.csv']\n",
      "['fronter_N021_D018_C0521.MP4_link.csv'\n",
      " 'fronter_N021_D018_C0519.MP4_link.csv'\n",
      " 'fronter_N021_D018_C0514.MP4_link.csv'\n",
      " 'fronter_N021_D018_C0516.MP4_link.csv'\n",
      " 'fronter_N021_D018_C0517.MP4_link.csv']\n",
      "['updated_test_aligner_N021_D018_C0527.MP4_link.csv'\n",
      " 'aligner_N021_D018_C0526.MP4_link.csv'\n",
      " 'aligner_N021_D018_C0525.MP4_link.csv'\n",
      " 'aligner_N021_D018_C0523.MP4_link.csv']\n",
      "['fronter_N021_D028_C0490.MP4_link.csv'\n",
      " 'fronter_N021_D028_C0491.MP4_link.csv'\n",
      " 'updated_test_fronter_N021_D028_C0492.MP4_link.csv'\n",
      " 'fronter_N021_D028_C0493.MP4_link.csv']\n",
      "['updated_test_aligner_N021_D028_C0494.MP4_link.csv'\n",
      " 'aligner_N021_D028_C0495.MP4_link.csv'\n",
      " 'aligner_N021_D028_C0497.MP4_link.csv'\n",
      " 'aligner_N021_D028_C0498.MP4_link.csv']\n",
      "['fronter_N021_D032_C0500.MP4_link.csv'\n",
      " 'fronter_N021_D032_C0501.MP4_link.csv'\n",
      " 'updated_test_fronter_N021_D032_C0502.MP4_link.csv'\n",
      " 'fronter_N021_D032_C0503.MP4_link.csv']\n",
      "['updated_test_aligner_N021_D032_C0552.MP4_link.csv'\n",
      " 'updated_test_aligner_N021_D032_C0551.MP4_link.csv'\n",
      " 'updated_test_aligner_N021_D032_C0550.MP4_link.csv'\n",
      " 'updated_test_aligner_N021_D032_C0549.MP4_link.csv']\n",
      "        frame  frame.1      x      y  particle  diameter  BotType\n",
      "0         577      577  591.5  492.5         0         7  fronter\n",
      "1         578      578  591.5  492.5         0         7  fronter\n",
      "2         579      579  588.5  493.5         0         7  fronter\n",
      "3         580      580  589.5  494.5         0         7  fronter\n",
      "4         581      581  590.5  492.5         0         7  fronter\n",
      "...       ...      ...    ...    ...       ...       ...      ...\n",
      "981087  32796    32796  638.5  555.5         3        32  aligner\n",
      "981088  32797    32797  638.5  555.5         3        32  aligner\n",
      "981089  32798    32798  638.5  555.5         3        32  aligner\n",
      "981090  32799    32799  638.5  555.5         3        32  aligner\n",
      "981091  32800    32800  639.5  554.5         3        32  aligner\n",
      "\n",
      "[981092 rows x 7 columns]\n"
     ]
    }
   ],
   "source": [
    "passive_path='C:\\\\Users\\\\User\\\\Documents\\\\Eden\\\\locate_git_code\\\\packaged\\\\all_linking_passive_data_21bots.csv'\n",
    "passive_path_packaged='C:\\\\Users\\\\User\\\\Documents\\\\Eden\\\\locate_git_code\\\\packaged'\n",
    "Passive_path_table=pd.read_csv(passive_path,index_col=0)\n",
    "emsd_data=pd.DataFrame()\n",
    "bottypes=['fronter','aligner']\n",
    "diameters=[7,12,18,28,32]\n",
    "#rerelevant_data=Passive_path_table.loc[bottype,diameter]\n",
    "for diameter in diameters:\n",
    "    for bottype in bottypes:\n",
    "        relevant_data=Passive_path_table[(Passive_path_table['diameter']==diameter)&(Passive_path_table['BotType']==bottype)]\n",
    "        filenames=pd.unique(relevant_data['Filename'])\n",
    "        print(filenames)\n",
    "        particle=0\n",
    "        for filename in filenames:\n",
    "            emsd_file_data=relevant_data[(relevant_data['Filename']==filename)]\n",
    "            emsd_file_data=emsd_file_data.iloc[:,0:4]\n",
    "            emsd_file_data['particle']=[particle]*len(emsd_file_data)\n",
    "            emsd_file_data['diameter']=[diameter]*len(emsd_file_data)\n",
    "            emsd_file_data['BotType']=[bottype]*len(emsd_file_data)\n",
    "            emsd_data=pd.concat([emsd_data,emsd_file_data],axis=0,ignore_index=True)\n",
    "            particle=particle+1\n",
    "print(emsd_data)"
   ]
  },
  {
   "cell_type": "code",
   "execution_count": 29,
   "id": "2ffdb2df-cf26-42c5-998a-429efbe745dc",
   "metadata": {},
   "outputs": [
    {
     "name": "stdout",
     "output_type": "stream",
     "text": [
      "[ 1.70049729 -1.84389304]\n",
      "[0.00130482 0.0040905 ]\n"
     ]
    },
    {
     "name": "stderr",
     "output_type": "stream",
     "text": [
      "C:\\Users\\User\\AppData\\Local\\Programs\\Python\\Python38\\lib\\site-packages\\trackpy\\motion.py:235: FutureWarning: Using the level keyword in DataFrame and Series aggregations is deprecated and will be removed in a future version. Use groupby instead. df.median(level=1) should use df.groupby(level=1).median().\n",
      "  results = msds.mul(msds['N'], axis=0).mean(level=1)  # weighted average\n",
      "C:\\Users\\User\\AppData\\Local\\Programs\\Python\\Python38\\lib\\site-packages\\trackpy\\motion.py:236: FutureWarning: Using the level keyword in DataFrame and Series aggregations is deprecated and will be removed in a future version. Use groupby instead. df.median(level=1) should use df.groupby(level=1).median().\n",
      "  results = results.div(msds['N'].mean(level=1), axis=0)  # weights normalized\n"
     ]
    },
    {
     "data": {
      "text/plain": [
       "[<matplotlib.lines.Line2D at 0x19bccea0a60>]"
      ]
     },
     "execution_count": 29,
     "metadata": {},
     "output_type": "execute_result"
    },
    {
     "data": {
      "image/png": "[encoded data removed]",
      "text/plain": [
       "<Figure size 640x480 with 1 Axes>"
      ]
     },
     "metadata": {},
     "output_type": "display_data"
    }
   ],
   "source": [
    "arenaSizePixels = 1080 # [pixels]\n",
    "arenaSizeCm = 150 # [cm]\n",
    "fps =25\n",
    "mpp = arenaSizeCm/arenaSizePixels#/2 #[cm/pixel]\n",
    "bottype='fronter'\n",
    "diameter=28\n",
    "relevant_emsd=emsd_data[(emsd_data['diameter']==diameter)&(emsd_data['BotType']==bottype)]\n",
    "#print(relevant_emsd)\n",
    "emsd_data_filtered = tp.filter_stubs(relevant_emsd,threshold=1000)\n",
    "#max_lagtime=int(len(emsd_data_filtered)/3)\n",
    "emsd=tp.emsd(emsd_data_filtered,fps=fps,mpp=mpp,max_lagtime=30000)\n",
    "emsd_small_range=emsd.loc[2:50]\n",
    "#emsd_small_range=emsd.loc[4:20]\n",
    "p0=np.array([2,0.5])\n",
    "popt,pcov = sc.optimize.curve_fit(linear_fit_log,np.log(emsd_small_range.index),np.log(emsd_small_range),p0=p0)\n",
    "perr = np.sqrt(np.diag(pcov))\n",
    "corr=np.corrcoef(pcov,rowvar=True)\n",
    "print(popt)\n",
    "print(perr)\n",
    "fig, ax = plt.subplots()\n",
    "ax.plot(emsd.index, emsd)\n",
    "ax.set_xscale('log')\n",
    "ax.set_yscale('log')\n",
    "fit_x=np.log(emsd_small_range.index)\n",
    "fit_y=fit_x*popt[0]+popt[1]\n",
    "ax.loglog(np.exp(fit_x),np.exp(fit_y),'--')"
   ]
  },
  {
   "cell_type": "code",
   "execution_count": 30,
   "id": "94739736-844d-4bc9-8469-63cb1fec4651",
   "metadata": {},
   "outputs": [
    {
     "name": "stdout",
     "output_type": "stream",
     "text": [
      "diameter 7,BotType fronter\n"
     ]
    },
    {
     "name": "stderr",
     "output_type": "stream",
     "text": [
      "C:\\Users\\User\\AppData\\Local\\Programs\\Python\\Python38\\lib\\site-packages\\trackpy\\motion.py:235: FutureWarning: Using the level keyword in DataFrame and Series aggregations is deprecated and will be removed in a future version. Use groupby instead. df.median(level=1) should use df.groupby(level=1).median().\n",
      "  results = msds.mul(msds['N'], axis=0).mean(level=1)  # weighted average\n",
      "C:\\Users\\User\\AppData\\Local\\Programs\\Python\\Python38\\lib\\site-packages\\trackpy\\motion.py:236: FutureWarning: Using the level keyword in DataFrame and Series aggregations is deprecated and will be removed in a future version. Use groupby instead. df.median(level=1) should use df.groupby(level=1).median().\n",
      "  results = results.div(msds['N'].mean(level=1), axis=0)  # weights normalized\n"
     ]
    },
    {
     "name": "stdout",
     "output_type": "stream",
     "text": [
      "diameter 7,BotType aligner\n"
     ]
    },
    {
     "name": "stderr",
     "output_type": "stream",
     "text": [
      "C:\\Users\\User\\AppData\\Local\\Programs\\Python\\Python38\\lib\\site-packages\\trackpy\\motion.py:235: FutureWarning: Using the level keyword in DataFrame and Series aggregations is deprecated and will be removed in a future version. Use groupby instead. df.median(level=1) should use df.groupby(level=1).median().\n",
      "  results = msds.mul(msds['N'], axis=0).mean(level=1)  # weighted average\n",
      "C:\\Users\\User\\AppData\\Local\\Programs\\Python\\Python38\\lib\\site-packages\\trackpy\\motion.py:236: FutureWarning: Using the level keyword in DataFrame and Series aggregations is deprecated and will be removed in a future version. Use groupby instead. df.median(level=1) should use df.groupby(level=1).median().\n",
      "  results = results.div(msds['N'].mean(level=1), axis=0)  # weights normalized\n"
     ]
    },
    {
     "name": "stdout",
     "output_type": "stream",
     "text": [
      "diameter 12,BotType fronter\n"
     ]
    },
    {
     "name": "stderr",
     "output_type": "stream",
     "text": [
      "C:\\Users\\User\\AppData\\Local\\Programs\\Python\\Python38\\lib\\site-packages\\trackpy\\motion.py:235: FutureWarning: Using the level keyword in DataFrame and Series aggregations is deprecated and will be removed in a future version. Use groupby instead. df.median(level=1) should use df.groupby(level=1).median().\n",
      "  results = msds.mul(msds['N'], axis=0).mean(level=1)  # weighted average\n",
      "C:\\Users\\User\\AppData\\Local\\Programs\\Python\\Python38\\lib\\site-packages\\trackpy\\motion.py:236: FutureWarning: Using the level keyword in DataFrame and Series aggregations is deprecated and will be removed in a future version. Use groupby instead. df.median(level=1) should use df.groupby(level=1).median().\n",
      "  results = results.div(msds['N'].mean(level=1), axis=0)  # weights normalized\n"
     ]
    },
    {
     "name": "stdout",
     "output_type": "stream",
     "text": [
      "diameter 12,BotType aligner\n"
     ]
    },
    {
     "name": "stderr",
     "output_type": "stream",
     "text": [
      "C:\\Users\\User\\AppData\\Local\\Programs\\Python\\Python38\\lib\\site-packages\\trackpy\\motion.py:235: FutureWarning: Using the level keyword in DataFrame and Series aggregations is deprecated and will be removed in a future version. Use groupby instead. df.median(level=1) should use df.groupby(level=1).median().\n",
      "  results = msds.mul(msds['N'], axis=0).mean(level=1)  # weighted average\n",
      "C:\\Users\\User\\AppData\\Local\\Programs\\Python\\Python38\\lib\\site-packages\\trackpy\\motion.py:236: FutureWarning: Using the level keyword in DataFrame and Series aggregations is deprecated and will be removed in a future version. Use groupby instead. df.median(level=1) should use df.groupby(level=1).median().\n",
      "  results = results.div(msds['N'].mean(level=1), axis=0)  # weights normalized\n"
     ]
    },
    {
     "name": "stdout",
     "output_type": "stream",
     "text": [
      "diameter 18,BotType fronter\n"
     ]
    },
    {
     "name": "stderr",
     "output_type": "stream",
     "text": [
      "C:\\Users\\User\\AppData\\Local\\Programs\\Python\\Python38\\lib\\site-packages\\trackpy\\motion.py:235: FutureWarning: Using the level keyword in DataFrame and Series aggregations is deprecated and will be removed in a future version. Use groupby instead. df.median(level=1) should use df.groupby(level=1).median().\n",
      "  results = msds.mul(msds['N'], axis=0).mean(level=1)  # weighted average\n",
      "C:\\Users\\User\\AppData\\Local\\Programs\\Python\\Python38\\lib\\site-packages\\trackpy\\motion.py:236: FutureWarning: Using the level keyword in DataFrame and Series aggregations is deprecated and will be removed in a future version. Use groupby instead. df.median(level=1) should use df.groupby(level=1).median().\n",
      "  results = results.div(msds['N'].mean(level=1), axis=0)  # weights normalized\n"
     ]
    },
    {
     "name": "stdout",
     "output_type": "stream",
     "text": [
      "diameter 18,BotType aligner\n"
     ]
    },
    {
     "name": "stderr",
     "output_type": "stream",
     "text": [
      "C:\\Users\\User\\AppData\\Local\\Programs\\Python\\Python38\\lib\\site-packages\\trackpy\\motion.py:235: FutureWarning: Using the level keyword in DataFrame and Series aggregations is deprecated and will be removed in a future version. Use groupby instead. df.median(level=1) should use df.groupby(level=1).median().\n",
      "  results = msds.mul(msds['N'], axis=0).mean(level=1)  # weighted average\n",
      "C:\\Users\\User\\AppData\\Local\\Programs\\Python\\Python38\\lib\\site-packages\\trackpy\\motion.py:236: FutureWarning: Using the level keyword in DataFrame and Series aggregations is deprecated and will be removed in a future version. Use groupby instead. df.median(level=1) should use df.groupby(level=1).median().\n",
      "  results = results.div(msds['N'].mean(level=1), axis=0)  # weights normalized\n"
     ]
    },
    {
     "name": "stdout",
     "output_type": "stream",
     "text": [
      "diameter 28,BotType fronter\n"
     ]
    },
    {
     "name": "stderr",
     "output_type": "stream",
     "text": [
      "C:\\Users\\User\\AppData\\Local\\Programs\\Python\\Python38\\lib\\site-packages\\trackpy\\motion.py:235: FutureWarning: Using the level keyword in DataFrame and Series aggregations is deprecated and will be removed in a future version. Use groupby instead. df.median(level=1) should use df.groupby(level=1).median().\n",
      "  results = msds.mul(msds['N'], axis=0).mean(level=1)  # weighted average\n",
      "C:\\Users\\User\\AppData\\Local\\Programs\\Python\\Python38\\lib\\site-packages\\trackpy\\motion.py:236: FutureWarning: Using the level keyword in DataFrame and Series aggregations is deprecated and will be removed in a future version. Use groupby instead. df.median(level=1) should use df.groupby(level=1).median().\n",
      "  results = results.div(msds['N'].mean(level=1), axis=0)  # weights normalized\n",
      "C:\\Users\\User\\AppData\\Local\\Programs\\Python\\Python38\\lib\\site-packages\\trackpy\\motion.py:235: FutureWarning: Using the level keyword in DataFrame and Series aggregations is deprecated and will be removed in a future version. Use groupby instead. df.median(level=1) should use df.groupby(level=1).median().\n",
      "  results = msds.mul(msds['N'], axis=0).mean(level=1)  # weighted average\n",
      "C:\\Users\\User\\AppData\\Local\\Programs\\Python\\Python38\\lib\\site-packages\\trackpy\\motion.py:236: FutureWarning: Using the level keyword in DataFrame and Series aggregations is deprecated and will be removed in a future version. Use groupby instead. df.median(level=1) should use df.groupby(level=1).median().\n",
      "  results = results.div(msds['N'].mean(level=1), axis=0)  # weights normalized\n"
     ]
    },
    {
     "name": "stdout",
     "output_type": "stream",
     "text": [
      "diameter 28,BotType aligner\n",
      "diameter 32,BotType fronter\n"
     ]
    },
    {
     "name": "stderr",
     "output_type": "stream",
     "text": [
      "C:\\Users\\User\\AppData\\Local\\Programs\\Python\\Python38\\lib\\site-packages\\trackpy\\motion.py:235: FutureWarning: Using the level keyword in DataFrame and Series aggregations is deprecated and will be removed in a future version. Use groupby instead. df.median(level=1) should use df.groupby(level=1).median().\n",
      "  results = msds.mul(msds['N'], axis=0).mean(level=1)  # weighted average\n",
      "C:\\Users\\User\\AppData\\Local\\Programs\\Python\\Python38\\lib\\site-packages\\trackpy\\motion.py:236: FutureWarning: Using the level keyword in DataFrame and Series aggregations is deprecated and will be removed in a future version. Use groupby instead. df.median(level=1) should use df.groupby(level=1).median().\n",
      "  results = results.div(msds['N'].mean(level=1), axis=0)  # weights normalized\n"
     ]
    },
    {
     "name": "stdout",
     "output_type": "stream",
     "text": [
      "diameter 32,BotType aligner\n"
     ]
    },
    {
     "name": "stderr",
     "output_type": "stream",
     "text": [
      "C:\\Users\\User\\AppData\\Local\\Programs\\Python\\Python38\\lib\\site-packages\\trackpy\\motion.py:235: FutureWarning: Using the level keyword in DataFrame and Series aggregations is deprecated and will be removed in a future version. Use groupby instead. df.median(level=1) should use df.groupby(level=1).median().\n",
      "  results = msds.mul(msds['N'], axis=0).mean(level=1)  # weighted average\n",
      "C:\\Users\\User\\AppData\\Local\\Programs\\Python\\Python38\\lib\\site-packages\\trackpy\\motion.py:236: FutureWarning: Using the level keyword in DataFrame and Series aggregations is deprecated and will be removed in a future version. Use groupby instead. df.median(level=1) should use df.groupby(level=1).median().\n",
      "  results = results.div(msds['N'].mean(level=1), axis=0)  # weights normalized\n"
     ]
    }
   ],
   "source": [
    "arenaSizePixels = 1090 # [pixels]\n",
    "arenaSizeCm = 150 # [cm]\n",
    "fps =25\n",
    "mpp = arenaSizeCm/arenaSizePixels#/2 #[cm/pixel]\n",
    "emsd_results=pd.DataFrame()\n",
    "bottypes=['fronter','aligner']\n",
    "diameters=[7,12,18,28,32]\n",
    "for diameter in diameters:\n",
    "    for bottype in bottypes:\n",
    "        print(\"diameter {},BotType {}\".format(diameter,bottype))\n",
    "        data_row=pd.DataFrame()\n",
    "        relevant_emsd=emsd_data[(emsd_data['diameter']==diameter)&(emsd_data['BotType']==bottype)]\n",
    "        #print(relevant_emsd)\n",
    "        emsd_data_filtered = tp.filter_stubs(relevant_emsd,threshold=100)\n",
    "        max_lagtime=int(len(emsd_data_filtered)/3)\n",
    "        emsd=tp.emsd(emsd_data_filtered,fps=fps,mpp=mpp,max_lagtime=30000)\n",
    "        emsd_large_range=emsd.loc[7:50]\n",
    "        emsd_small_range=emsd.loc[10:20]\n",
    "        p0=np.array([2,0.5])\n",
    "        popt_min,pcov_min = sc.optimize.curve_fit(linear_fit_log,np.log(emsd_small_range.index),np.log(emsd_small_range),p0=p0)\n",
    "        perr_min = np.sqrt(np.diag(pcov))\n",
    "        corr_min=np.corrcoef(pcov,rowvar=True)\n",
    "        popt_max,pcov_max = sc.optimize.curve_fit(linear_fit_log,np.log(emsd_large_range.index),np.log(emsd_large_range),p0=p0)\n",
    "        perr_max = np.sqrt(np.diag(pcov))\n",
    "        corr_max=np.corrcoef(pcov,rowvar=True)\n",
    "        data_row['diameter']=[diameter]\n",
    "        data_row['BotType']=[bottype]\n",
    "        data_row['n_max']=[popt_max[0]]\n",
    "        data_row['n_max_err']=[perr_max[0]]\n",
    "        data_row['A_max']=[np.exp(popt_max[1])]\n",
    "        data_row['A_max_err']=[perr_max[1]]\n",
    "        data_row['n_min']=[popt_min[0]]\n",
    "        data_row['n_min_err']=[perr_min[0]]\n",
    "        data_row['A_min']=[np.exp(popt_min[1])]\n",
    "        data_row['A_min_err']=[perr_min[1]]\n",
    "        emsd_results=pd.concat([emsd_results,data_row],axis=0)\n",
    "emsd_results.to_csv(passive_path_packaged+'\\\\power_law_21_bots_emsd.csv')"
   ]
  },
  {
   "cell_type": "code",
   "execution_count": 31,
   "id": "088a74ae-5b95-4df7-9b87-c43ba85298d5",
   "metadata": {},
   "outputs": [
    {
     "name": "stdout",
     "output_type": "stream",
     "text": [
      "diameter\n",
      "7     1.238843\n",
      "12    1.547929\n",
      "18    1.683779\n",
      "28    1.722572\n",
      "32    1.777535\n",
      "Name: n_min, dtype: float64\n",
      "                  frame  frame.1       x       y  particle\n",
      "BotType diameter                                          \n",
      "aligner 7         30540    30540  1025.5  1022.5         3\n",
      "        12        34426    34426  1014.5   933.5         3\n",
      "        18        30255    30255   729.5   594.5         3\n",
      "        28        30000    30000   918.5   759.5         3\n",
      "        32        32926    32926   816.5   709.5         3\n",
      "fronter 7         31068    31068  1042.5  1042.5         3\n",
      "        12        31464    31464   822.5   937.5         4\n",
      "        18        26490    26490  1073.5   934.5         4\n",
      "        28        30000    30000  1066.5   900.5         3\n",
      "        32        22502    22502   931.5   880.5         3\n"
     ]
    }
   ],
   "source": [
    "mean_data=emsd_results.groupby(by=[\"BotType\",\"diameter\"]).mean()\n",
    "print(mean_data.loc[(\"fronter\",\"n_min\")])\n",
    "#std_data=emsd_results.groupby(by=[\"BotType\",\"diameter\"]).std()\n",
    "count_data=emsd_data.groupby(by=[\"BotType\",\"diameter\"]).max()\n",
    "print(count_data)\n",
    "#print(std_data)"
   ]
  },
  {
   "cell_type": "code",
   "execution_count": 33,
   "id": "8e4dcf62-abc1-4941-8585-13d60ad7d08a",
   "metadata": {},
   "outputs": [
    {
     "data": {
      "image/png": "[encoded data removed]",
      "text/plain": [
       "<Figure size 640x480 with 1 Axes>"
      ]
     },
     "metadata": {},
     "output_type": "display_data"
    }
   ],
   "source": [
    "fronter_data=mean_data.loc[(\"fronter\",\"n_min\")]\n",
    "fronter_data_max= mean_data.loc[(\"fronter\",\"n_max\")]\n",
    "fronter_diff=fronter_data-fronter_data_max\n",
    "aligner_data=mean_data.loc[(\"aligner\",\"n_min\")]\n",
    "aligner_data_max=mean_data.loc[(\"aligner\",\"n_max\")]\n",
    "aligner_diff=aligner_data-aligner_data_max\n",
    "fronter_count=count_data.loc[(\"fronter\",\"particle\")]+1\n",
    "aligner_count=count_data.loc[(\"aligner\",\"particle\")]+1\n",
    "fig,ax = plt.subplots()\n",
    "ax.errorbar(x=fronter_data.index,y=fronter_data,label='fronter_n_min',yerr=np.abs(fronter_diff.to_numpy())/np.sqrt(fronter_count),marker='o',capsize=5,color='green'\n",
    "             ,markeredgewidth=2,elinewidth=3,linewidth=3)\n",
    "#ax.plot(fronter_data_max.index,fronter_data_max,'-o',label='fronter_n_max')\n",
    "ax.errorbar(x=aligner_data.index,y=aligner_data,label='aligners_n_min',yerr=np.abs(aligner_diff.to_numpy())/np.sqrt(aligner_count),marker='s',capsize=5,color='blue'\n",
    "             ,markeredgewidth=2,elinewidth=3,linewidth=3)\n",
    "#ax.plot(aligner_data_max.index,aligner_data_max,'-o',label='aligners_n_max')\n",
    "ax.set_xlabel('Diameter [cm]')\n",
    "ax.set_ylabel('Power law')\n",
    "ax.grid()\n",
    "ax.legend()\n",
    "saved_data=pd.DataFrame(data={'fronter_data': fronter_data\n",
    "                              ,'fronter_data_max': fronter_data_max,'fronter_diff':fronter_diff,'aligner_data':aligner_data\n",
    "                              ,'aligner_data_max':aligner_data_max,'aligner_diff':aligner_diff})\n",
    "saved_data.to_csv('C:\\\\Users\\\\User\\\\Documents\\\\Eden\\\\locate_git_code\\\\production\\\\emsd_powerlaw_vs_diameter_21bots.csv')\n",
    "fig.savefig('C:\\\\Users\\\\User\\\\Documents\\\\Eden\\\\locate_git_code\\\\production\\\\emsd_powerlaw_vs_diameter_21bots.png',bbox_inches='tight')"
   ]
  },
  {
   "cell_type": "code",
   "execution_count": null,
   "id": "912789e7-7c0e-4b99-912c-ebc7fa1e41ab",
   "metadata": {},
   "outputs": [],
   "source": []
  }
 ],
 "metadata": {
  "kernelspec": {
   "display_name": "Python 3 (ipykernel)",
   "language": "python",
   "name": "python3"
  },
  "language_info": {
   "codemirror_mode": {
    "name": "ipython",
    "version": 3
   },
   "file_extension": ".py",
   "mimetype": "text/x-python",
   "name": "python",
   "nbconvert_exporter": "python",
   "pygments_lexer": "ipython3",
   "version": "3.8.1"
  }
 },
 "nbformat": 4,
 "nbformat_minor": 5
}
