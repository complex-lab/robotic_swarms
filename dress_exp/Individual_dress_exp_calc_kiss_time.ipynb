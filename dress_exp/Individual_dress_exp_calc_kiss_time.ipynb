{
 "cells": [
  {
   "cell_type": "code",
   "execution_count": 16,
   "id": "5ad8a56d-e289-478d-b098-67098bc91b5c",
   "metadata": {},
   "outputs": [],
   "source": [
    "%matplotlib inline\n",
    "#%matplotlib widget"
   ]
  },
  {
   "cell_type": "code",
   "execution_count": 17,
   "id": "aec3643e-bfa9-4a22-8efd-6ae0b82730e3",
   "metadata": {},
   "outputs": [],
   "source": [
    "#############imports######################################################################\n",
    "import cv2 as cv2\n",
    "from matplotlib import pyplot as plt\n",
    "import pandas as pd\n",
    "import numpy as np\n",
    "import trackpy as tp\n",
    "from ipywidgets import HBox, Textarea, interact"
   ]
  },
  {
   "cell_type": "code",
   "execution_count": 18,
   "id": "77cac7ad-6686-436b-8676-27d9c6086d69",
   "metadata": {},
   "outputs": [],
   "source": [
    "def timeToSec(timeStr):#Transform m:s format into total number of seconds\n",
    "    timeArr = timeStr.split(':')\n",
    "    timeMin = int(timeArr[0])\n",
    "    timeSec = int(timeArr[1])\n",
    "    totSec = timeMin*60+timeSec\n",
    "    return totSec"
   ]
  },
  {
   "cell_type": "code",
   "execution_count": 19,
   "id": "148e2a90-ba88-47a8-961e-e5e2d02199be",
   "metadata": {},
   "outputs": [],
   "source": [
    "expSumFileName ='C:\\\\Users\\\\User\\\\Documents\\\\Eden\\\\locate_git_code\\\\two_circles_exp\\\\two_circles_exp5.csv'\n",
    "expSum = pd.read_csv(expSumFileName,index_col=0)\n",
    "expnum=46\n",
    "fps=25\n",
    "expSum=expSum.iloc[expnum]"
   ]
  },
  {
   "cell_type": "code",
   "execution_count": 31,
   "id": "2b698fbf-ab94-4ce0-a8db-4c25a89fe09c",
   "metadata": {},
   "outputs": [
    {
     "name": "stdout",
     "output_type": "stream",
     "text": [
      "frames:28,kissing time:1.12 secs\n"
     ]
    }
   ],
   "source": [
    "path='D:\\\\Eden\\\\dress_exp\\\\15_5_24\\\\aligners\\\\C0805.MP4_locatedFull20240516_bot_Eden_test.csv'#expSum.LocatingFile\n",
    "startMin ='0:11'#row.start_min\n",
    "endMin ='0:16'#row.end_min\n",
    "start_point=timeToSec(startMin)*25#6000\n",
    "end_point=timeToSec(endMin)*25#8000#frameCount\n",
    "df=pd.read_csv(path,index_col=0)\n",
    "#df=df[((df.frame<end_point)&(df.frame>=start_point))]\n",
    "count=0\n",
    "for frame in range(start_point,end_point):\n",
    "    relevant_data=df[(df.frame==frame)]\n",
    "    if len(relevant_data)<2:\n",
    "        continue\n",
    "    x_sqrt=(relevant_data.x.iloc[0]-relevant_data.x.iloc[1])**2\n",
    "    y_sqrt=(relevant_data.y.iloc[0]-relevant_data.y.iloc[1])**2\n",
    "    cond=(relevant_data.r.iloc[0]+relevant_data.r.iloc[1]+5)**2\n",
    "    if x_sqrt+y_sqrt<cond:\n",
    "        count=count+1\n",
    "        #print(frame)\n",
    "kissing_time=count/fps\n",
    "print('frames:{},kissing time:{} secs'.format(count,kissing_time))"
   ]
  },
  {
   "cell_type": "code",
   "execution_count": null,
   "id": "dfacb928-66d6-4ded-b392-a57abb4e442d",
   "metadata": {},
   "outputs": [],
   "source": []
  }
 ],
 "metadata": {
  "kernelspec": {
   "display_name": "Python 3 (ipykernel)",
   "language": "python",
   "name": "python3"
  },
  "language_info": {
   "codemirror_mode": {
    "name": "ipython",
    "version": 3
   },
   "file_extension": ".py",
   "mimetype": "text/x-python",
   "name": "python",
   "nbconvert_exporter": "python",
   "pygments_lexer": "ipython3",
   "version": "3.8.1"
  }
 },
 "nbformat": 4,
 "nbformat_minor": 5
}
