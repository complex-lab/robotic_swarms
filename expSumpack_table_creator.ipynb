{
 "cells": [
  {
   "cell_type": "code",
   "execution_count": 1,
   "id": "a98274a7-550b-4c30-8e26-4c525fdc9225",
   "metadata": {},
   "outputs": [],
   "source": [
    "#############imports######################################################################\n",
    "import cv2 as cv2\n",
    "from matplotlib import pyplot as plt\n",
    "import pandas as pd\n",
    "import numpy as np\n",
    "import trackpy as tp\n",
    "from ipywidgets import HBox, Textarea, interact"
   ]
  },
  {
   "cell_type": "code",
   "execution_count": 46,
   "id": "af9bf954-7e08-4822-b346-9d74a4ce4b96",
   "metadata": {},
   "outputs": [
    {
     "ename": "KeyError",
     "evalue": "'None of [0.0, 1.0, 2.0, 3.0, 4.0, 5.0, 6.0, 7.0, 8.0, 9.0, 10.0, 11.0, 12.0, 13.0, 14.0, 15.0, 16.0, 17.0, 18.0, 19.0, 20.0, 21.0, 22.0, 23.0, 24.0, 25.0, 26.0, 27.0, 28.0, 29.0, 30.0, 31.0, 32.0, 33.0, 34.0, 35.0, 36.0, 37.0, 38.0, 39.0, 40.0, 41.0, 42.0, 43.0] are in the columns'",
     "output_type": "error",
     "traceback": [
      "\u001b[1;31m---------------------------------------------------------------------------\u001b[0m",
      "\u001b[1;31mKeyError\u001b[0m                                  Traceback (most recent call last)",
      "Cell \u001b[1;32mIn [46], line 5\u001b[0m\n\u001b[0;32m      3\u001b[0m index\u001b[38;5;241m=\u001b[39m\u001b[38;5;28mlist\u001b[39m(np\u001b[38;5;241m.\u001b[39mlinspace(\u001b[38;5;241m0\u001b[39m,\u001b[38;5;241m43\u001b[39m,\u001b[38;5;241m44\u001b[39m))\n\u001b[0;32m      4\u001b[0m expSum\u001b[38;5;241m.\u001b[39minsert(\u001b[38;5;241m0\u001b[39m,\u001b[38;5;124m\"\u001b[39m\u001b[38;5;124mindex\u001b[39m\u001b[38;5;124m\"\u001b[39m,index)\n\u001b[1;32m----> 5\u001b[0m \u001b[43mexpSum\u001b[49m\u001b[38;5;241;43m.\u001b[39;49m\u001b[43mset_index\u001b[49m\u001b[43m(\u001b[49m\u001b[43mindex\u001b[49m\u001b[43m)\u001b[49m\n\u001b[0;32m      6\u001b[0m expSumPassiveFileName\u001b[38;5;241m=\u001b[39m\u001b[38;5;124m'\u001b[39m\u001b[38;5;124mC:\u001b[39m\u001b[38;5;130;01m\\\\\u001b[39;00m\u001b[38;5;124mUsers\u001b[39m\u001b[38;5;130;01m\\\\\u001b[39;00m\u001b[38;5;124mUser\u001b[39m\u001b[38;5;130;01m\\\\\u001b[39;00m\u001b[38;5;124mDocuments\u001b[39m\u001b[38;5;130;01m\\\\\u001b[39;00m\u001b[38;5;124mEden\u001b[39m\u001b[38;5;130;01m\\\\\u001b[39;00m\u001b[38;5;124mlocate_git_code\u001b[39m\u001b[38;5;130;01m\\\\\u001b[39;00m\u001b[38;5;124mpackaged\u001b[39m\u001b[38;5;130;01m\\\\\u001b[39;00m\u001b[38;5;124mexpSumPack.csv\u001b[39m\u001b[38;5;124m'\u001b[39m\n\u001b[0;32m      7\u001b[0m expSumPassive\u001b[38;5;241m=\u001b[39mpd\u001b[38;5;241m.\u001b[39mread_csv(expSumPassiveFileName,index_col\u001b[38;5;241m=\u001b[39m\u001b[38;5;241m0\u001b[39m)\n",
      "File \u001b[1;32m~\\AppData\\Local\\Programs\\Python\\Python38\\lib\\site-packages\\pandas\\util\\_decorators.py:331\u001b[0m, in \u001b[0;36mdeprecate_nonkeyword_arguments.<locals>.decorate.<locals>.wrapper\u001b[1;34m(*args, **kwargs)\u001b[0m\n\u001b[0;32m    325\u001b[0m \u001b[38;5;28;01mif\u001b[39;00m \u001b[38;5;28mlen\u001b[39m(args) \u001b[38;5;241m>\u001b[39m num_allow_args:\n\u001b[0;32m    326\u001b[0m     warnings\u001b[38;5;241m.\u001b[39mwarn(\n\u001b[0;32m    327\u001b[0m         msg\u001b[38;5;241m.\u001b[39mformat(arguments\u001b[38;5;241m=\u001b[39m_format_argument_list(allow_args)),\n\u001b[0;32m    328\u001b[0m         \u001b[38;5;167;01mFutureWarning\u001b[39;00m,\n\u001b[0;32m    329\u001b[0m         stacklevel\u001b[38;5;241m=\u001b[39mfind_stack_level(),\n\u001b[0;32m    330\u001b[0m     )\n\u001b[1;32m--> 331\u001b[0m \u001b[38;5;28;01mreturn\u001b[39;00m \u001b[43mfunc\u001b[49m\u001b[43m(\u001b[49m\u001b[38;5;241;43m*\u001b[39;49m\u001b[43margs\u001b[49m\u001b[43m,\u001b[49m\u001b[43m \u001b[49m\u001b[38;5;241;43m*\u001b[39;49m\u001b[38;5;241;43m*\u001b[39;49m\u001b[43mkwargs\u001b[49m\u001b[43m)\u001b[49m\n",
      "File \u001b[1;32m~\\AppData\\Local\\Programs\\Python\\Python38\\lib\\site-packages\\pandas\\core\\frame.py:6001\u001b[0m, in \u001b[0;36mDataFrame.set_index\u001b[1;34m(self, keys, drop, append, inplace, verify_integrity)\u001b[0m\n\u001b[0;32m   5998\u001b[0m                 missing\u001b[38;5;241m.\u001b[39mappend(col)\n\u001b[0;32m   6000\u001b[0m \u001b[38;5;28;01mif\u001b[39;00m missing:\n\u001b[1;32m-> 6001\u001b[0m     \u001b[38;5;28;01mraise\u001b[39;00m \u001b[38;5;167;01mKeyError\u001b[39;00m(\u001b[38;5;124mf\u001b[39m\u001b[38;5;124m\"\u001b[39m\u001b[38;5;124mNone of \u001b[39m\u001b[38;5;132;01m{\u001b[39;00mmissing\u001b[38;5;132;01m}\u001b[39;00m\u001b[38;5;124m are in the columns\u001b[39m\u001b[38;5;124m\"\u001b[39m)\n\u001b[0;32m   6003\u001b[0m \u001b[38;5;28;01mif\u001b[39;00m inplace:\n\u001b[0;32m   6004\u001b[0m     frame \u001b[38;5;241m=\u001b[39m \u001b[38;5;28mself\u001b[39m\n",
      "\u001b[1;31mKeyError\u001b[0m: 'None of [0.0, 1.0, 2.0, 3.0, 4.0, 5.0, 6.0, 7.0, 8.0, 9.0, 10.0, 11.0, 12.0, 13.0, 14.0, 15.0, 16.0, 17.0, 18.0, 19.0, 20.0, 21.0, 22.0, 23.0, 24.0, 25.0, 26.0, 27.0, 28.0, 29.0, 30.0, 31.0, 32.0, 33.0, 34.0, 35.0, 36.0, 37.0, 38.0, 39.0, 40.0, 41.0, 42.0, 43.0] are in the columns'"
     ]
    }
   ],
   "source": [
    "expSumFileName = 'C:\\\\Users\\\\User\\\\Documents\\\\Eden\\\\locate_git_code\\\\packaged\\\\botsTracking\\\\expSumPack.csv'\n",
    "expSum = pd.read_csv(expSumFileName,index_col=0)\n",
    "index=list(np.linspace(0,43,44))\n",
    "expSum.insert(0,\"index\",index)\n",
    "expSum.set_index(index)\n",
    "expSumPassiveFileName='C:\\\\Users\\\\User\\\\Documents\\\\Eden\\\\locate_git_code\\\\packaged\\\\expSumPack.csv'\n",
    "expSumPassive=pd.read_csv(expSumPassiveFileName,index_col=0)\n",
    "miniVideoFile=expSumPassive['miniVideoFileNamePack']\n",
    "#miniVideoFileValues=miniVideoFile.Values\n",
    "#miniVideoFile.reindex(index=np.linspace(42,85,44))\n",
    "locatingFile=expSumPassive['locatingFileNamePack']\n",
    "linkingFile=expSumPassive['linkingFileNamePack']\n",
    "expSum['miniVideoFileNamePack']=miniVideoFile\n",
    "expSum['locatingFileNamePack']=locatingFile\n",
    "expSum['linkingFileNamePack']=linkingFile\n",
    "expSum.to_csv('C:\\\\Users\\\\User\\\\Documents\\\\Eden\\\\locate_git_code\\\\packaged\\\\expSumPack_all.csv')"
   ]
  },
  {
   "cell_type": "code",
   "execution_count": 44,
   "id": "95da53f4-0a53-45e0-8584-446463422514",
   "metadata": {},
   "outputs": [
    {
     "data": {
      "text/plain": [
       "[0.0,\n",
       " 1.0,\n",
       " 2.0,\n",
       " 3.0,\n",
       " 4.0,\n",
       " 5.0,\n",
       " 6.0,\n",
       " 7.0,\n",
       " 8.0,\n",
       " 9.0,\n",
       " 10.0,\n",
       " 11.0,\n",
       " 12.0,\n",
       " 13.0,\n",
       " 14.0,\n",
       " 15.0,\n",
       " 16.0,\n",
       " 17.0,\n",
       " 18.0,\n",
       " 19.0,\n",
       " 20.0,\n",
       " 21.0,\n",
       " 22.0,\n",
       " 23.0,\n",
       " 24.0,\n",
       " 25.0,\n",
       " 26.0,\n",
       " 27.0,\n",
       " 28.0,\n",
       " 29.0,\n",
       " 30.0,\n",
       " 31.0,\n",
       " 32.0,\n",
       " 33.0,\n",
       " 34.0,\n",
       " 35.0,\n",
       " 36.0,\n",
       " 37.0,\n",
       " 38.0,\n",
       " 39.0,\n",
       " 40.0,\n",
       " 41.0,\n",
       " 42.0,\n",
       " 43.0]"
      ]
     },
     "execution_count": 44,
     "metadata": {},
     "output_type": "execute_result"
    }
   ],
   "source": [
    "index"
   ]
  },
  {
   "cell_type": "code",
   "execution_count": 11,
   "id": "d770aab2-5d92-486a-9e53-1f067fd1ce11",
   "metadata": {},
   "outputs": [
    {
     "data": {
      "text/plain": [
       "0     fronter_N001_D028_C0556.MP4\n",
       "1     fronter_N001_D028_C0555.MP4\n",
       "2     fronter_N001_D028_C0554.MP4\n",
       "3     fronter_N001_D028_C0553.MP4\n",
       "4     aligner_N001_D028_C0575.MP4\n",
       "5     aligner_N001_D028_C0574.MP4\n",
       "6     aligner_N001_D028_C0573.MP4\n",
       "7     aligner_N001_D028_C0572.MP4\n",
       "8     fronter_N004_D028_C0560.MP4\n",
       "9     fronter_N004_D028_C0559.MP4\n",
       "10    fronter_N004_D028_C0558.MP4\n",
       "11    fronter_N004_D028_C0557.MP4\n",
       "12    aligner_N004_D028_C0580.MP4\n",
       "13    aligner_N004_D028_C0579.MP4\n",
       "14    aligner_N004_D028_C0578.MP4\n",
       "15    aligner_N004_D028_C0577.MP4\n",
       "16    aligner_N004_D028_C0576.MP4\n",
       "17    fronter_N008_D028_C0567.MP4\n",
       "18    fronter_N008_D028_C0566.MP4\n",
       "19    fronter_N008_D028_C0565.MP4\n",
       "20    fronter_N008_D028_C0563.MP4\n",
       "21    fronter_N008_D028_C0562.MP4\n",
       "22    aligner_N008_D028_C0587.MP4\n",
       "23    aligner_N008_D028_C0586.MP4\n",
       "24    aligner_N008_D028_C0585.MP4\n",
       "25    aligner_N008_D028_C0584.MP4\n",
       "26    aligner_N008_D028_C0583.MP4\n",
       "27    aligner_N008_D028_C0581.MP4\n",
       "28    fronter_N016_D028_C0571.MP4\n",
       "29    fronter_N016_D028_C0570.MP4\n",
       "30    fronter_N016_D028_C0569.MP4\n",
       "31    fronter_N016_D028_C0568.MP4\n",
       "32    aligner_N016_D028_C0591.MP4\n",
       "33    aligner_N016_D028_C0590.MP4\n",
       "34    aligner_N016_D028_C0589.MP4\n",
       "35    aligner_N016_D028_C0588.MP4\n",
       "36    aligner_N053_D028_C0510.MP4\n",
       "37    aligner_N053_D028_C0511.MP4\n",
       "38    aligner_N053_D028_C0512.MP4\n",
       "39    aligner_N053_D028_C0513.MP4\n",
       "40    fronter_N053_D028_C0505.MP4\n",
       "41    fronter_N053_D028_C0506.MP4\n",
       "42    fronter_N053_D028_C0507.MP4\n",
       "43    fronter_N053_D028_C0509.MP4\n",
       "Name: miniVideoFileNamePack, dtype: object"
      ]
     },
     "execution_count": 11,
     "metadata": {},
     "output_type": "execute_result"
    }
   ],
   "source": [
    "miniVideoFile"
   ]
  },
  {
   "cell_type": "code",
   "execution_count": null,
   "id": "d007f07d-4e63-48c7-9876-2a4f96ccf5d8",
   "metadata": {},
   "outputs": [],
   "source": []
  }
 ],
 "metadata": {
  "kernelspec": {
   "display_name": "Python 3 (ipykernel)",
   "language": "python",
   "name": "python3"
  },
  "language_info": {
   "codemirror_mode": {
    "name": "ipython",
    "version": 3
   },
   "file_extension": ".py",
   "mimetype": "text/x-python",
   "name": "python",
   "nbconvert_exporter": "python",
   "pygments_lexer": "ipython3",
   "version": "3.8.1"
  }
 },
 "nbformat": 4,
 "nbformat_minor": 5
}
