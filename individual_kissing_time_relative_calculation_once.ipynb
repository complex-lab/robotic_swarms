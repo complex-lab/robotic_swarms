{
 "cells": [
  {
   "cell_type": "code",
   "execution_count": 1,
   "id": "b3e29bc8-058c-4fec-83e8-d43b4b2b1d90",
   "metadata": {},
   "outputs": [],
   "source": [
    "%matplotlib inline\n",
    "#%matplotlib widget"
   ]
  },
  {
   "cell_type": "code",
   "execution_count": 2,
   "id": "43e6ca9e-f2a8-4e8b-a66f-0f38aeeb461b",
   "metadata": {},
   "outputs": [],
   "source": [
    "#############imports######################################################################\n",
    "import cv2 as cv2\n",
    "from matplotlib import pyplot as plt\n",
    "import pandas as pd\n",
    "import numpy as np\n",
    "import trackpy as tp\n",
    "from ipywidgets import HBox, Textarea, interact"
   ]
  },
  {
   "cell_type": "code",
   "execution_count": 15,
   "id": "73373c38-e128-46fc-a657-cbcdd1a2693f",
   "metadata": {},
   "outputs": [
    {
     "name": "stdout",
     "output_type": "stream",
     "text": [
      "kissing persetage:0.6845238095238095%\n",
      "total kissing time:4.6 sec\n"
     ]
    }
   ],
   "source": [
    "distance_path='D:\\\\Eden\\\\new_exp_test_15_11_23\\\\29_11_23'\n",
    "video_file_name='C0633.MP4'\n",
    "thresh_diameter={7:40,12:72,18:100,28:151,32:181}\n",
    "fps=25\n",
    "video = cv2.VideoCapture(distance_path+'\\\\'+video_file_name)\n",
    "frameCount = int(video.get(cv2.CAP_PROP_FRAME_COUNT))\n",
    "\n",
    "distance_file_name=video_file_name+'_12_distance.csv'\n",
    "distance_full_file_name=distance_path+'\\\\'+distance_file_name\n",
    "distances=pd.read_csv(distance_full_file_name,index_col=0)\n",
    "close_threshold=(72+50)**2\n",
    "too_close_thresh=72**2\n",
    "\n",
    "cond = (distances.distance<=close_threshold)&(distances.distance>too_close_thresh)\n",
    "dfC = distances[cond]\n",
    "kissing_persentage=len(dfC)/frameCount*100\n",
    "kissing_time=len(dfC)/fps\n",
    "print('kissing persetage:{}%'.format(kissing_persentage))\n",
    "print('total kissing time:{} sec'.format(kissing_time))"
   ]
  },
  {
   "cell_type": "code",
   "execution_count": null,
   "id": "6fa7fae9-6d8e-4639-94de-092d70cf98b8",
   "metadata": {},
   "outputs": [],
   "source": []
  }
 ],
 "metadata": {
  "kernelspec": {
   "display_name": "Python 3 (ipykernel)",
   "language": "python",
   "name": "python3"
  },
  "language_info": {
   "codemirror_mode": {
    "name": "ipython",
    "version": 3
   },
   "file_extension": ".py",
   "mimetype": "text/x-python",
   "name": "python",
   "nbconvert_exporter": "python",
   "pygments_lexer": "ipython3",
   "version": "3.8.1"
  }
 },
 "nbformat": 4,
 "nbformat_minor": 5
}
