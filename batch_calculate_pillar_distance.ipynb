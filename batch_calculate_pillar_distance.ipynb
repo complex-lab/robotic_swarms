{
 "cells": [
  {
   "cell_type": "code",
   "execution_count": 1,
   "id": "12f45f80-6276-4b5a-b925-9b992f53c6d3",
   "metadata": {},
   "outputs": [],
   "source": [
    "%matplotlib inline\n",
    "#%matplotlib widget\n"
   ]
  },
  {
   "cell_type": "code",
   "execution_count": 2,
   "id": "009c1789-20da-4df4-b994-f5b414e74ab8",
   "metadata": {},
   "outputs": [],
   "source": [
    "#############imports######################################################################\n",
    "import cv2 as cv2\n",
    "from matplotlib import pyplot as plt\n",
    "import pandas as pd\n",
    "import numpy as np\n",
    "import trackpy as tp\n",
    "from ipywidgets import HBox, Textarea, interact"
   ]
  },
  {
   "cell_type": "code",
   "execution_count": 3,
   "id": "d4c3c129-ee34-4062-a7bb-705baaee5cad",
   "metadata": {},
   "outputs": [
    {
     "name": "stdout",
     "output_type": "stream",
     "text": [
      "D:\\Eden\\new_exp_test_15_11_23\\7_2_24\\C0672.MP4\n",
      "D:\\Eden\\new_exp_test_15_11_23\\7_2_24\\C0672.MP4_locatedFull20240313_bot_Eden.csv\n",
      "['D:\\\\Eden\\\\new_exp_test_15_11_23\\\\7_2_24\\\\C0672.MP4_locatedPillarFull20240313_12cm_10_frames.csv', 'D:\\\\Eden\\\\new_exp_test_15_11_23\\\\7_2_24\\\\C0672.MP4_locatedPillarFull20240313_18cm_10_frames.csv', 'D:\\\\Eden\\\\new_exp_test_15_11_23\\\\7_2_24\\\\C0672.MP4_locatedPillarFull20240313_28cm_10_frames.csv']\n"
     ]
    },
    {
     "name": "stderr",
     "output_type": "stream",
     "text": [
      "C:\\Users\\User\\AppData\\Local\\Temp\\ipykernel_25416\\1992796479.py:19: FutureWarning: The default dtype for empty Series will be 'object' instead of 'float64' in a future version. Specify a dtype explicitly to silence this warning.\n",
      "  distances=pd.Series()\n"
     ]
    },
    {
     "name": "stdout",
     "output_type": "stream",
     "text": [
      "D:\\Eden\\new_exp_test_15_11_23\\7_2_24\\C0672.MP4_locatedPillarFull20240313_12cm_10_frames.csv_distances.csv\n",
      "D:\\Eden\\new_exp_test_15_11_23\\7_2_24\\C0672.MP4_locatedPillarFull20240313_18cm_10_frames.csv_distances.csv\n",
      "D:\\Eden\\new_exp_test_15_11_23\\7_2_24\\C0672.MP4_locatedPillarFull20240313_28cm_10_frames.csv_distances.csv\n",
      "D:\\Eden\\new_exp_test_15_11_23\\7_2_24\\C0674.MP4\n",
      "D:\\Eden\\new_exp_test_15_11_23\\7_2_24\\C0674.MP4_locatedFull20240313_bot_Eden.csv\n",
      "['D:\\\\Eden\\\\new_exp_test_15_11_23\\\\7_2_24\\\\C0674.MP4_locatedPillarFull20240313_12cm_10_frames.csv', 'D:\\\\Eden\\\\new_exp_test_15_11_23\\\\7_2_24\\\\C0674.MP4_locatedPillarFull20240313_18cm_10_frames.csv', 'D:\\\\Eden\\\\new_exp_test_15_11_23\\\\7_2_24\\\\C0674.MP4_locatedPillarFull20240313_28cm_10_frames.csv']\n"
     ]
    },
    {
     "name": "stderr",
     "output_type": "stream",
     "text": [
      "C:\\Users\\User\\AppData\\Local\\Temp\\ipykernel_25416\\1992796479.py:19: FutureWarning: The default dtype for empty Series will be 'object' instead of 'float64' in a future version. Specify a dtype explicitly to silence this warning.\n",
      "  distances=pd.Series()\n"
     ]
    },
    {
     "name": "stdout",
     "output_type": "stream",
     "text": [
      "D:\\Eden\\new_exp_test_15_11_23\\7_2_24\\C0674.MP4_locatedPillarFull20240313_12cm_10_frames.csv_distances.csv\n",
      "D:\\Eden\\new_exp_test_15_11_23\\7_2_24\\C0674.MP4_locatedPillarFull20240313_18cm_10_frames.csv_distances.csv\n",
      "D:\\Eden\\new_exp_test_15_11_23\\7_2_24\\C0674.MP4_locatedPillarFull20240313_28cm_10_frames.csv_distances.csv\n",
      "D:\\Eden\\new_exp_test_15_11_23\\7_2_24\\C0678.MP4\n",
      "D:\\Eden\\new_exp_test_15_11_23\\7_2_24\\C0678.MP4_locatedFull20240313_bot_Eden.csv\n",
      "['D:\\\\Eden\\\\new_exp_test_15_11_23\\\\7_2_24\\\\C0678.MP4_locatedPillarFull20240313_12cm_10_frames.csv', 'D:\\\\Eden\\\\new_exp_test_15_11_23\\\\7_2_24\\\\C0678.MP4_locatedPillarFull20240313_18cm_10_frames.csv', 'D:\\\\Eden\\\\new_exp_test_15_11_23\\\\7_2_24\\\\C0678.MP4_locatedPillarFull20240313_28cm_10_frames.csv']\n"
     ]
    },
    {
     "name": "stderr",
     "output_type": "stream",
     "text": [
      "C:\\Users\\User\\AppData\\Local\\Temp\\ipykernel_25416\\1992796479.py:19: FutureWarning: The default dtype for empty Series will be 'object' instead of 'float64' in a future version. Specify a dtype explicitly to silence this warning.\n",
      "  distances=pd.Series()\n"
     ]
    },
    {
     "name": "stdout",
     "output_type": "stream",
     "text": [
      "D:\\Eden\\new_exp_test_15_11_23\\7_2_24\\C0678.MP4_locatedPillarFull20240313_12cm_10_frames.csv_distances.csv\n",
      "D:\\Eden\\new_exp_test_15_11_23\\7_2_24\\C0678.MP4_locatedPillarFull20240313_18cm_10_frames.csv_distances.csv\n",
      "D:\\Eden\\new_exp_test_15_11_23\\7_2_24\\C0678.MP4_locatedPillarFull20240313_28cm_10_frames.csv_distances.csv\n",
      "D:\\Eden\\new_exp_test_15_11_23\\7_2_24\\C0679.MP4\n",
      "D:\\Eden\\new_exp_test_15_11_23\\7_2_24\\C0679.MP4_locatedFull20240313_bot_Eden.csv\n",
      "['D:\\\\Eden\\\\new_exp_test_15_11_23\\\\7_2_24\\\\C0679.MP4_locatedPillarFull20240313_12cm_10_frames.csv', 'D:\\\\Eden\\\\new_exp_test_15_11_23\\\\7_2_24\\\\C0679.MP4_locatedPillarFull20240313_18cm_10_frames.csv', 'D:\\\\Eden\\\\new_exp_test_15_11_23\\\\7_2_24\\\\C0679.MP4_locatedPillarFull20240313_28cm_10_frames.csv']\n"
     ]
    },
    {
     "name": "stderr",
     "output_type": "stream",
     "text": [
      "C:\\Users\\User\\AppData\\Local\\Temp\\ipykernel_25416\\1992796479.py:19: FutureWarning: The default dtype for empty Series will be 'object' instead of 'float64' in a future version. Specify a dtype explicitly to silence this warning.\n",
      "  distances=pd.Series()\n"
     ]
    },
    {
     "name": "stdout",
     "output_type": "stream",
     "text": [
      "D:\\Eden\\new_exp_test_15_11_23\\7_2_24\\C0679.MP4_locatedPillarFull20240313_12cm_10_frames.csv_distances.csv\n",
      "D:\\Eden\\new_exp_test_15_11_23\\7_2_24\\C0679.MP4_locatedPillarFull20240313_18cm_10_frames.csv_distances.csv\n",
      "D:\\Eden\\new_exp_test_15_11_23\\7_2_24\\C0679.MP4_locatedPillarFull20240313_28cm_10_frames.csv_distances.csv\n",
      "D:\\Eden\\new_exp_test_15_11_23\\7_2_24\\C0685.MP4\n",
      "D:\\Eden\\new_exp_test_15_11_23\\7_2_24\\C0685.MP4_locatedFull20240313_bot_Eden.csv\n",
      "['D:\\\\Eden\\\\new_exp_test_15_11_23\\\\7_2_24\\\\C0685.MP4_locatedPillarFull20240313_12cm_10_frames.csv', 'D:\\\\Eden\\\\new_exp_test_15_11_23\\\\7_2_24\\\\C0685.MP4_locatedPillarFull20240313_18cm_10_frames.csv', 'D:\\\\Eden\\\\new_exp_test_15_11_23\\\\7_2_24\\\\C0685.MP4_locatedPillarFull20240313_28cm_10_frames.csv']\n"
     ]
    },
    {
     "name": "stderr",
     "output_type": "stream",
     "text": [
      "C:\\Users\\User\\AppData\\Local\\Temp\\ipykernel_25416\\1992796479.py:19: FutureWarning: The default dtype for empty Series will be 'object' instead of 'float64' in a future version. Specify a dtype explicitly to silence this warning.\n",
      "  distances=pd.Series()\n"
     ]
    },
    {
     "name": "stdout",
     "output_type": "stream",
     "text": [
      "D:\\Eden\\new_exp_test_15_11_23\\7_2_24\\C0685.MP4_locatedPillarFull20240313_12cm_10_frames.csv_distances.csv\n",
      "D:\\Eden\\new_exp_test_15_11_23\\7_2_24\\C0685.MP4_locatedPillarFull20240313_18cm_10_frames.csv_distances.csv\n",
      "D:\\Eden\\new_exp_test_15_11_23\\7_2_24\\C0685.MP4_locatedPillarFull20240313_28cm_10_frames.csv_distances.csv\n",
      "D:\\Eden\\new_exp_test_15_11_23\\7_2_24\\C0686.MP4\n",
      "D:\\Eden\\new_exp_test_15_11_23\\7_2_24\\C0686.MP4_locatedFull20240313_bot_Eden.csv\n",
      "['D:\\\\Eden\\\\new_exp_test_15_11_23\\\\7_2_24\\\\C0686.MP4_locatedPillarFull20240313_12cm_10_frames.csv', 'D:\\\\Eden\\\\new_exp_test_15_11_23\\\\7_2_24\\\\C0686.MP4_locatedPillarFull20240313_18cm_10_frames.csv', 'D:\\\\Eden\\\\new_exp_test_15_11_23\\\\7_2_24\\\\C0686.MP4_locatedPillarFull20240313_28cm_10_frames.csv']\n"
     ]
    },
    {
     "name": "stderr",
     "output_type": "stream",
     "text": [
      "C:\\Users\\User\\AppData\\Local\\Temp\\ipykernel_25416\\1992796479.py:19: FutureWarning: The default dtype for empty Series will be 'object' instead of 'float64' in a future version. Specify a dtype explicitly to silence this warning.\n",
      "  distances=pd.Series()\n"
     ]
    },
    {
     "name": "stdout",
     "output_type": "stream",
     "text": [
      "D:\\Eden\\new_exp_test_15_11_23\\7_2_24\\C0686.MP4_locatedPillarFull20240313_12cm_10_frames.csv_distances.csv\n",
      "D:\\Eden\\new_exp_test_15_11_23\\7_2_24\\C0686.MP4_locatedPillarFull20240313_18cm_10_frames.csv_distances.csv\n",
      "D:\\Eden\\new_exp_test_15_11_23\\7_2_24\\C0686.MP4_locatedPillarFull20240313_28cm_10_frames.csv_distances.csv\n",
      "D:\\Eden\\new_exp_test_15_11_23\\7_2_24\\C0687.MP4\n",
      "D:\\Eden\\new_exp_test_15_11_23\\7_2_24\\C0687.MP4_locatedFull20240313_bot_Eden.csv\n",
      "['D:\\\\Eden\\\\new_exp_test_15_11_23\\\\7_2_24\\\\C0687.MP4_locatedPillarFull20240313_12cm_10_frames.csv', 'D:\\\\Eden\\\\new_exp_test_15_11_23\\\\7_2_24\\\\C0687.MP4_locatedPillarFull20240313_18cm_10_frames.csv', 'D:\\\\Eden\\\\new_exp_test_15_11_23\\\\7_2_24\\\\C0687.MP4_locatedPillarFull20240313_28cm_10_frames.csv']\n"
     ]
    },
    {
     "name": "stderr",
     "output_type": "stream",
     "text": [
      "C:\\Users\\User\\AppData\\Local\\Temp\\ipykernel_25416\\1992796479.py:19: FutureWarning: The default dtype for empty Series will be 'object' instead of 'float64' in a future version. Specify a dtype explicitly to silence this warning.\n",
      "  distances=pd.Series()\n"
     ]
    },
    {
     "name": "stdout",
     "output_type": "stream",
     "text": [
      "D:\\Eden\\new_exp_test_15_11_23\\7_2_24\\C0687.MP4_locatedPillarFull20240313_12cm_10_frames.csv_distances.csv\n",
      "D:\\Eden\\new_exp_test_15_11_23\\7_2_24\\C0687.MP4_locatedPillarFull20240313_18cm_10_frames.csv_distances.csv\n",
      "D:\\Eden\\new_exp_test_15_11_23\\7_2_24\\C0687.MP4_locatedPillarFull20240313_28cm_10_frames.csv_distances.csv\n",
      "D:\\Eden\\new_exp_test_15_11_23\\7_2_24\\C0691.MP4\n",
      "D:\\Eden\\new_exp_test_15_11_23\\7_2_24\\C0691.MP4_locatedFull20240313_bot_Eden.csv\n",
      "['D:\\\\Eden\\\\new_exp_test_15_11_23\\\\7_2_24\\\\C0691.MP4_locatedPillarFull20240313_12cm_10_frames.csv', 'D:\\\\Eden\\\\new_exp_test_15_11_23\\\\7_2_24\\\\C0691.MP4_locatedPillarFull20240313_18cm_10_frames.csv', 'D:\\\\Eden\\\\new_exp_test_15_11_23\\\\7_2_24\\\\C0691.MP4_locatedPillarFull20240313_28cm_10_frames.csv']\n"
     ]
    },
    {
     "name": "stderr",
     "output_type": "stream",
     "text": [
      "C:\\Users\\User\\AppData\\Local\\Temp\\ipykernel_25416\\1992796479.py:19: FutureWarning: The default dtype for empty Series will be 'object' instead of 'float64' in a future version. Specify a dtype explicitly to silence this warning.\n",
      "  distances=pd.Series()\n"
     ]
    },
    {
     "name": "stdout",
     "output_type": "stream",
     "text": [
      "D:\\Eden\\new_exp_test_15_11_23\\7_2_24\\C0691.MP4_locatedPillarFull20240313_12cm_10_frames.csv_distances.csv\n",
      "D:\\Eden\\new_exp_test_15_11_23\\7_2_24\\C0691.MP4_locatedPillarFull20240313_18cm_10_frames.csv_distances.csv\n",
      "D:\\Eden\\new_exp_test_15_11_23\\7_2_24\\C0691.MP4_locatedPillarFull20240313_28cm_10_frames.csv_distances.csv\n"
     ]
    }
   ],
   "source": [
    "expSumFileName ='C:\\\\Users\\\\User\\\\Documents\\\\Eden\\\\locate_git_code\\\\two_circles_exp\\\\two_circles_exp5.csv'\n",
    "expSum = pd.read_csv(expSumFileName,index_col=0)\n",
    "#expSum=expSum.iloc[range(36,50)]\n",
    "expSum=expSum.iloc[[36,37,41,42,45,46,47,48]]\n",
    "suffix='_distances.csv'\n",
    "for index,row in expSum.iterrows():\n",
    "    path=row.path\n",
    "    print(path)\n",
    "    first_diameter=row['FirstDiameterLocatingFile']\n",
    "    second_diameter=row['SecondDiameterLocatingFile']\n",
    "    third_diameter=row['ThirdDiameterLocatingFile']\n",
    "    diameters_files=[first_diameter,second_diameter,third_diameter]\n",
    "    BotLocatingFileName=row.BotLocatingFile\n",
    "    print(row.BotLocatingFile)\n",
    "    print(diameters_files)\n",
    "    BotLocating=pd.read_csv(BotLocatingFileName,index_col=0)\n",
    "    BotsFrameNum=BotLocating['frame']\n",
    "    d={'frame':BotsFrameNum}\n",
    "    distances=pd.Series()\n",
    "    for diameter_file in diameters_files:\n",
    "        pillar_locating_file=pd.read_csv(diameter_file,index_col=0)\n",
    "        pillar_locating=pillar_locating_file.iloc[[-1]]\n",
    "        for index, row in BotLocating.iterrows():\n",
    "            bots_x=row.x\n",
    "            bots_y=row.y\n",
    "            pillar_x=pillar_locating.x\n",
    "            pillar_y=pillar_locating.y\n",
    "            distance=np.power((pillar_x-bots_x),2)+np.power((pillar_y-bots_y),2)\n",
    "            distances=pd.concat([distances,distance],ignore_index=True)\n",
    "        df=pd.DataFrame(data=d)\n",
    "        df.insert(1,\"distance_sq\",distances)\n",
    "        print(diameter_file+suffix)\n",
    "        df.to_csv(diameter_file+suffix)"
   ]
  },
  {
   "cell_type": "code",
   "execution_count": null,
   "id": "bfe1138e-213f-4d8c-938f-f47925c3d224",
   "metadata": {},
   "outputs": [],
   "source": []
  },
  {
   "cell_type": "code",
   "execution_count": null,
   "id": "e765cc46-c359-478e-bcfc-0fad303d2902",
   "metadata": {},
   "outputs": [],
   "source": []
  }
 ],
 "metadata": {
  "kernelspec": {
   "display_name": "Python 3 (ipykernel)",
   "language": "python",
   "name": "python3"
  },
  "language_info": {
   "codemirror_mode": {
    "name": "ipython",
    "version": 3
   },
   "file_extension": ".py",
   "mimetype": "text/x-python",
   "name": "python",
   "nbconvert_exporter": "python",
   "pygments_lexer": "ipython3",
   "version": "3.8.1"
  }
 },
 "nbformat": 4,
 "nbformat_minor": 5
}
