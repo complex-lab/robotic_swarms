{
 "cells": [
  {
   "cell_type": "code",
   "execution_count": 2,
   "id": "d10e8709-39dd-4ab1-bd05-a150caf98994",
   "metadata": {},
   "outputs": [],
   "source": [
    "%matplotlib inline\n",
    "#%matplotlib widget"
   ]
  },
  {
   "cell_type": "code",
   "execution_count": 3,
   "id": "509b11fc-0ae5-48bf-8596-f8dec4a412ff",
   "metadata": {},
   "outputs": [],
   "source": [
    "#############imports######################################################################\n",
    "import cv2 as cv2\n",
    "from matplotlib import pyplot as plt\n",
    "import pandas as pd\n",
    "import numpy as np\n",
    "import trackpy as tp\n",
    "from ipywidgets import HBox, Textarea, interact"
   ]
  },
  {
   "cell_type": "code",
   "execution_count": 4,
   "id": "6ae4f2d0-06d0-4c19-a104-66044330ff94",
   "metadata": {},
   "outputs": [],
   "source": [
    "def count_consec(listrand):\n",
    "    count=1\n",
    "    consec_list=[]\n",
    "    for i in range(len(listrand[:-1])):\n",
    "        if listrand[i]+1 == listrand[i+1]:\n",
    "            count+=1\n",
    "        else:\n",
    "            consec_list.append(count)\n",
    "            count=1\n",
    "\n",
    "    # Account for the last iteration\n",
    "    consec_list.append(count)     \n",
    "\n",
    "    return consec_list"
   ]
  },
  {
   "cell_type": "code",
   "execution_count": 11,
   "id": "415b3a9f-7b8d-4936-aa3c-1a8079847909",
   "metadata": {},
   "outputs": [
    {
     "name": "stdout",
     "output_type": "stream",
     "text": [
      "         frame  distance\n",
      "670     1531.0   35117.0\n",
      "671     1532.0   32258.0\n",
      "672     1533.0   32525.0\n",
      "673     1534.0   30505.0\n",
      "674     1535.0   30754.0\n",
      "...        ...       ...\n",
      "15268  16133.0   30890.0\n",
      "15269  16134.0   32485.0\n",
      "15270  16135.0   32498.0\n",
      "15271  16136.0   30293.0\n",
      "15272  16137.0   31986.0\n",
      "\n",
      "[14603 rows x 2 columns]\n",
      "[ 954 4002 7010 2011  626]\n",
      "2920.6\n",
      "2360.198940767494\n"
     ]
    }
   ],
   "source": [
    "distance_path='D:\\\\Eden\\\\new_exp_test_15_11_23\\\\22_11_23'\n",
    "distance_file_name='C0626.MP4_28_distance.csv'\n",
    "distance_full_file_name=distance_path+'\\\\'+distance_file_name\n",
    "distances=pd.read_csv(distance_full_file_name,index_col=0)\n",
    "fps=25\n",
    "close_threshold=(147+50)**2\n",
    "too_close_thresh=136**2\n",
    "\n",
    "cond = (distances.distance<=close_threshold)&(distances.distance>too_close_thresh)\n",
    "dfC = distances[cond]\n",
    "dfC.to_csv(distance_path+'\\\\'+'C0626_test.csv')\n",
    "count_ranges=np.array(count_consec(dfC.frame.values))#/fps\n",
    "avg_count=np.mean(count_ranges)\n",
    "std_count=np.std(count_ranges)\n",
    "\n",
    "print(dfC)\n",
    "print(count_ranges)\n",
    "print(avg_count)\n",
    "print(std_count)\n"
   ]
  },
  {
   "cell_type": "code",
   "execution_count": null,
   "id": "f0dc063c-118b-4663-9335-5e21896cb772",
   "metadata": {},
   "outputs": [],
   "source": []
  },
  {
   "cell_type": "code",
   "execution_count": null,
   "id": "a6b64ad5-1998-49cf-927b-b5f59be8ad18",
   "metadata": {},
   "outputs": [],
   "source": []
  }
 ],
 "metadata": {
  "kernelspec": {
   "display_name": "Python 3 (ipykernel)",
   "language": "python",
   "name": "python3"
  },
  "language_info": {
   "codemirror_mode": {
    "name": "ipython",
    "version": 3
   },
   "file_extension": ".py",
   "mimetype": "text/x-python",
   "name": "python",
   "nbconvert_exporter": "python",
   "pygments_lexer": "ipython3",
   "version": "3.8.1"
  }
 },
 "nbformat": 4,
 "nbformat_minor": 5
}
