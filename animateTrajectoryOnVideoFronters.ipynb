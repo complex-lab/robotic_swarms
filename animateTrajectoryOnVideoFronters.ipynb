{
 "cells": [
  {
   "cell_type": "markdown",
   "metadata": {},
   "source": [
    "# Make a video animating the isotropic phase going off/on\n",
    "### Written by Matan Yah Ben Zion 2020 10 16\n"
   ]
  },
  {
   "cell_type": "markdown",
   "metadata": {},
   "source": [
    "## Steps\n",
    "\n",
    "#### 1. Load linked trajectories of isotropic phase\n",
    "#### 2. Plot trajectory ontop of frames and save animation\n"
   ]
  },
  {
   "cell_type": "code",
   "execution_count": 1,
   "metadata": {},
   "outputs": [
    {
     "name": "stderr",
     "output_type": "stream",
     "text": [
      "/Users/matan/anaconda3/lib/python3.7/site-packages/dask/config.py:168: YAMLLoadWarning: calling yaml.load() without Loader=... is deprecated, as the default Loader is unsafe. Please read https://msg.pyyaml.org/load for full details.\n",
      "  data = yaml.load(f.read()) or {}\n"
     ]
    }
   ],
   "source": [
    "import numpy as np\n",
    "import matplotlib as mpl\n",
    "from matplotlib.patches import Polygon\n",
    "\n",
    "\n",
    "import pandas as pd\n",
    "import time\n",
    "import trackpy as tp\n",
    "%matplotlib inline\n",
    "def l2n(x): return np.asarray(x);\n",
    "import numpy as np\n",
    "import numba\n",
    "from matplotlib import pyplot as plt\n",
    "import matplotlib.animation as animation\n",
    "\n",
    "from numba import njit\n",
    "from scipy import interpolate\n",
    "import pims\n",
    "import os #for listing files in folder\n",
    "import re #for parsing power from file name\n",
    "import pdb\n",
    "\n",
    "from scipy.spatial import Voronoi, voronoi_plot_2d\n",
    "from scipy.spatial import Delaunay\n",
    "from scipy.spatial import ConvexHull\n",
    "\n",
    "\n",
    "\n",
    "\n",
    "mpl.rc('text',usetex=True)\n",
    "#plt.style.use('dark_background')\n",
    "plt.style.use('default')\n",
    "params = {'legend.fontsize': 22,\n",
    "          'figure.figsize': (10, 8),\n",
    "         'axes.labelsize': 24,\n",
    "         'axes.titlesize':24,\n",
    "         'xtick.labelsize':22,\n",
    "         'ytick.labelsize':22,\n",
    "         'legend.fontsize':22,\n",
    "         'legend.frameon':False,\n",
    "         'xtick.top':False,\n",
    "         'xtick.bottom':False,\n",
    "         'ytick.left':False,\n",
    "         'ytick.right':False,\n",
    "         'ytick.labelsize':24,\n",
    "         'xtick.labelsize':24,\n",
    "         'image.cmap':'gray',\n",
    "         'axes.labelsize':28};\n",
    "\n",
    "plt.rcParams.update(params);\n"
   ]
  },
  {
   "cell_type": "markdown",
   "metadata": {},
   "source": [
    "# Load Data "
   ]
  },
  {
   "cell_type": "code",
   "execution_count": 2,
   "metadata": {},
   "outputs": [],
   "source": [
    "dirName = './'\n",
    "fileName = 'frontersC0505med.tif'\n",
    "fullPathName = dirName+'/'+fileName\n",
    "\n",
    "originalVideoFPS= 5;\n",
    "mpp = 0.1346154 #in this case, it is centimeters"
   ]
  },
  {
   "cell_type": "markdown",
   "metadata": {},
   "source": [
    "#### Load video frames"
   ]
  },
  {
   "cell_type": "code",
   "execution_count": 3,
   "metadata": {},
   "outputs": [],
   "source": [
    "#frames = pims.ImageReaderND(fileName)\n",
    "frames = pims.TiffStack(fullPathName)"
   ]
  },
  {
   "cell_type": "code",
   "execution_count": 5,
   "metadata": {},
   "outputs": [],
   "source": [
    "linkedFileName = 'C0505coppedTrimmedGray.MP4_linked20230110.csv'\n",
    "\n",
    "t1 = pd.read_csv(linkedFileName)"
   ]
  },
  {
   "cell_type": "code",
   "execution_count": 6,
   "metadata": {},
   "outputs": [],
   "source": [
    "#linkedFileName = 'C0505coppedTrimmedGray.MP4_located20230110.csv'\n",
    "#df = pd.read_csv(linkedFileName)\n",
    "\n",
    "# make the locating data a tracking data:\n",
    "#df = pd.DataFrame({'x':df.x,'y':df.y,'frame':df.frame.astype(np.int16),'r':df.r})\n",
    "#t = pd.DataFrame({'x':df.x,'y':df.y,'frame':df.frame.astype(np.int16),'r':df.r,'particle':[0]*len(df)})"
   ]
  },
  {
   "cell_type": "code",
   "execution_count": null,
   "metadata": {},
   "outputs": [],
   "source": []
  },
  {
   "cell_type": "markdown",
   "metadata": {},
   "source": [
    "# Save swimbys as animations"
   ]
  },
  {
   "cell_type": "code",
   "execution_count": 7,
   "metadata": {},
   "outputs": [],
   "source": [
    "import matplotlib.patches as patches\n",
    "import time\n",
    "\n",
    "def plotScaleBar(ax,xy,width,height=0, mpp=0.163,color='w'):\n",
    "    \n",
    "    scaleBarText = str(width)+r' $\\rm{cm}$';\n",
    "    width = width/mpp;\n",
    "    \n",
    "    if (height ==0): \n",
    "        height = width/10;\n",
    "    \n",
    "    ax.add_patch(\n",
    "    patches.Rectangle(\n",
    "    xy,\n",
    "    width,\n",
    "    height,\n",
    "    edgecolor = color,\n",
    "    facecolor = color,\n",
    "    fill=True\n",
    "    ));\n",
    "    textFontSize = 24;\n",
    "    textX = xy[0]+width/2;\n",
    "    textY = xy[1]+height+textFontSize;\n",
    "    ax.text(textX,textY, scaleBarText,horizontalalignment='center',color=color,fontsize=textFontSize);\n",
    "\n",
    "def plotTimeStamp(ax,xy,frame,fps,color='w'):\n",
    "    textX = xy[0];\n",
    "    textY = xy[1];\n",
    "    \n",
    "    timeStampText =  time.strftime('%M:%S',time.gmtime(frame/fps));\n",
    "    textFontSize = 32;\n",
    "    ax.text(textX,textY, timeStampText,horizontalalignment='center',color=color,fontsize=textFontSize);\n",
    "    "
   ]
  },
  {
   "cell_type": "code",
   "execution_count": 8,
   "metadata": {},
   "outputs": [],
   "source": [
    "def animateTracesOnImage(frm):\n",
    "    \n",
    "    ax.cla()\n",
    "    \n",
    "    traceColors = ['#ff7f0e', '#2ca02c','#1f77b4']#['r','g','b'];\n",
    "    ax.imshow(frames[frm],vmin=0, vmax=255,cmap='gray')\n",
    "    prtcls = tVideo.particle.unique();\n",
    "\n",
    "    trackingFrame = frm*5 #when framerate  is different than video framerate\n",
    "    cond = (np.max(trackingFrame-trailLength,0)<tVideo.frame) &(tVideo.frame<=trackingFrame)\n",
    "    tVideoC = tVideo[cond];\n",
    "    \n",
    "    if(len(tVideoC)>0):\n",
    "        #tp.plot_traj(tVideoC,ax = ax,plot_style={'linewidth':4,'color':'cyan','alpha':0.6})\n",
    "        tp.plot_traj(tVideoC,ax = ax,plot_style={'linewidth':6,'alpha':0.4,'color':'pink','solid_capstyle':'round'})\n",
    "\n",
    "    #if the printed frame is within the tracking draw a circle\n",
    "    if len(tVideoC[tVideoC.frame==frm])>0:\n",
    "        xF,yF,rF = tVideoC.x.values[-1],tVideoC.y.values[-1],tVideoC.r.values[-1]\n",
    "        circleF = plt.Circle((xF, yF), rF, facecolor='none',edgecolor='pink',linewidth=4)\n",
    "        ax.add_patch(circleF)\n",
    "        \n",
    "    plotScaleBar(ax,scaleBarXY,scaleBarWidth,mpp=mpp,color='k');\n",
    "    plotTimeStamp(ax,timeStampXY,frm-minFrame,fps=originalVideoFPS,color='k');\n",
    "    ax.axis('off')\n",
    "\n"
   ]
  },
  {
   "cell_type": "code",
   "execution_count": 9,
   "metadata": {},
   "outputs": [],
   "source": [
    "#define scale bar\n",
    "scaleBarWidth = 20;#[um]\n",
    "\n",
    "frameWidth = frames[0].shape[0];\n",
    "frameHeight = frames[0].shape[1];\n",
    "\n",
    "scaleBarXY = (frameWidth-20-scaleBarWidth/mpp,frameHeight-40-scaleBarWidth/mpp/10);\n",
    "\n",
    "timeStampXY = (50,50);"
   ]
  },
  {
   "cell_type": "code",
   "execution_count": 10,
   "metadata": {},
   "outputs": [],
   "source": [
    "animationFileName = 'fronters_.mp4'\n",
    "tVideo = t1.copy();\n",
    "#tVideo.particle=0\n",
    "#np.max([frameNum-history,0])\n",
    "\n",
    "\n",
    "fps = 30\n",
    "bitrate = 1800\n",
    "figsize = 10\n",
    "trailLength = 2000;\n",
    "shiftStart = 380;\n",
    "\n",
    "\n",
    "minFrame = 0#int(np.max([tVideo.frame.min()-trailLength,0]) + shiftStart)\n",
    "maxFrame = int(np.min([tVideo.frame.max()+trailLength*2,len(frames)-45]))\n",
    "frameStep = 5;\n",
    "\n",
    "framesToShow = range(minFrame,maxFrame,frameStep);"
   ]
  },
  {
   "cell_type": "code",
   "execution_count": 1,
   "metadata": {},
   "outputs": [
    {
     "ename": "NameError",
     "evalue": "name 'animation' is not defined",
     "output_type": "error",
     "traceback": [
      "\u001b[1;31m---------------------------------------------------------------------------\u001b[0m",
      "\u001b[1;31mNameError\u001b[0m                                 Traceback (most recent call last)",
      "Cell \u001b[1;32mIn [1], line 1\u001b[0m\n\u001b[1;32m----> 1\u001b[0m Writer \u001b[38;5;241m=\u001b[39m \u001b[43manimation\u001b[49m\u001b[38;5;241m.\u001b[39mwriters[\u001b[38;5;124m'\u001b[39m\u001b[38;5;124mffmpeg\u001b[39m\u001b[38;5;124m'\u001b[39m];\n\u001b[0;32m      2\u001b[0m writer \u001b[38;5;241m=\u001b[39m Writer(fps\u001b[38;5;241m=\u001b[39mfps, metadata\u001b[38;5;241m=\u001b[39m\u001b[38;5;28mdict\u001b[39m(artist\u001b[38;5;241m=\u001b[39m\u001b[38;5;124m'\u001b[39m\u001b[38;5;124mMYBZ\u001b[39m\u001b[38;5;124m'\u001b[39m), bitrate\u001b[38;5;241m=\u001b[39mbitrate)\n",
      "\u001b[1;31mNameError\u001b[0m: name 'animation' is not defined"
     ]
    }
   ],
   "source": [
    "Writer = animation.writers['ffmpeg'];\n",
    "writer = Writer(fps=fps, metadata=dict(artist='MYBZ'), bitrate=bitrate)\n",
    "\n",
    "fig,ax  = plt.subplots(figsize=(figsize,figsize),frameon=False)\n",
    "fig.subplots_adjust(left=0, bottom=0, right=1, top=1, wspace=None, hspace=None)\n",
    "#makePolarColorMap(fig,cmap='hsv')\n",
    "\n",
    "\n",
    "ani = mpl.animation.FuncAnimation(fig, animateTracesOnImage,frames=framesToShow);#, frames=datesToPlot, repeat=True)\n",
    "ani.save(animationFileName, writer=writer)#,savefig_kwargs={'pad_inches':0,'bbox_inches':'tight'});\n",
    "#,bbox_inches='tight', transparent=\"True\", pad_inches=0)"
   ]
  },
  {
   "cell_type": "code",
   "execution_count": 14,
   "metadata": {},
   "outputs": [
    {
     "data": {
      "text/plain": [
       "2038"
      ]
     },
     "execution_count": 14,
     "metadata": {},
     "output_type": "execute_result"
    }
   ],
   "source": [
    "t1.frame.max()"
   ]
  },
  {
   "cell_type": "code",
   "execution_count": 27,
   "metadata": {},
   "outputs": [],
   "source": [
    "imsd = tp.imsd(t1[t1.frame>500],mpp,25,max_lagtime=1300)"
   ]
  },
  {
   "cell_type": "code",
   "execution_count": 29,
   "metadata": {},
   "outputs": [
    {
     "data": {
      "text/plain": [
       "(1.0, 1000.0, 0.1, 10000.0)"
      ]
     },
     "execution_count": 29,
     "metadata": {},
     "output_type": "execute_result"
    },
    {
     "data": {
      "image/png": "[encoded data removed]",
      "text/plain": [
       "<Figure size 500x500 with 1 Axes>"
      ]
     },
     "metadata": {},
     "output_type": "display_data"
    }
   ],
   "source": [
    "fig,ax = plt.subplots(figsize=(5,5))\n",
    "ax.loglog(imsd[imsd.index>1.1],'o')\n",
    "ax.grid()\n",
    "ax.axis([1,1E3,1E-1,1E4])"
   ]
  },
  {
   "cell_type": "code",
   "execution_count": 30,
   "metadata": {},
   "outputs": [],
   "source": [
    "imsd.to_csv(linkedFileName+'_imsd_.csv')"
   ]
  },
  {
   "cell_type": "code",
   "execution_count": null,
   "metadata": {},
   "outputs": [],
   "source": []
  }
 ],
 "metadata": {
  "kernelspec": {
   "display_name": "Python 3 (ipykernel)",
   "language": "python",
   "name": "python3"
  },
  "language_info": {
   "codemirror_mode": {
    "name": "ipython",
    "version": 3
   },
   "file_extension": ".py",
   "mimetype": "text/x-python",
   "name": "python",
   "nbconvert_exporter": "python",
   "pygments_lexer": "ipython3",
   "version": "3.8.1"
  }
 },
 "nbformat": 4,
 "nbformat_minor": 4
}
