{
 "cells": [
  {
   "cell_type": "code",
   "execution_count": 1,
   "id": "bb0ba9b5-2ff9-4104-b935-f377b4214bde",
   "metadata": {},
   "outputs": [],
   "source": [
    "%matplotlib inline\n",
    "#%matplotlib widget"
   ]
  },
  {
   "cell_type": "code",
   "execution_count": 2,
   "id": "1a4047d1-fbe5-4843-95af-21733734f36b",
   "metadata": {},
   "outputs": [],
   "source": [
    "#############imports######################################################################\n",
    "import cv2 as cv2\n",
    "from matplotlib import pyplot as plt\n",
    "import pandas as pd\n",
    "import numpy as np\n",
    "import trackpy as tp\n",
    "import scipy as sc\n",
    "import matplotlib.colors as colors\n",
    "import os\n",
    "from ipywidgets import HBox, Textarea, interact"
   ]
  },
  {
   "cell_type": "code",
   "execution_count": 3,
   "id": "2166472c-be10-453e-ac1f-98b0e821a569",
   "metadata": {},
   "outputs": [],
   "source": [
    "def read_time(time_value):\n",
    "    fps=25\n",
    "    sign_index=time_value.index(':')\n",
    "    minutes=int(time_value[0:sign_index])\n",
    "    sec=int(time_value[sign_index+1:len(time_value)])\n",
    "    frames=(minutes*60+sec)*25\n",
    "    return frames\n",
    "#def expShift(t,A,tau,k):\n",
    "#    return A*np.exp(-t/tau)+k\n",
    "def expShift(t,A,tau,k):\n",
    "    return A*np.exp(-(t**2)/((tau**2)))+k\n",
    "#def CovToCorr(cov_data):\n",
    "#    shape=cov_data.shape\n",
    "#    result=[]\n",
    "#    for i in range(0,shape):\n",
    "def powerlaw(x,A,n):\n",
    "    return A*x**n\n",
    "def linear_fit_log(x,n,A):\n",
    "    return n*x+A"
   ]
  },
  {
   "cell_type": "code",
   "execution_count": 4,
   "id": "f81a2b92-6133-4f4a-867e-3d10f926f1eb",
   "metadata": {},
   "outputs": [
    {
     "name": "stdout",
     "output_type": "stream",
     "text": [
      "['fronter_N001_D028_C0556.MP4_link.csv'\n",
      " 'fronter_N001_D028_C0555.MP4_link.csv'\n",
      " 'updated_test_fronter_N001_D028_C0554.MP4_link.csv'\n",
      " 'updated_test_fronter_N001_D028_C0553.MP4_link.csv']\n",
      "['aligner_N001_D028_C0575.MP4_link.csv'\n",
      " 'aligner_N001_D028_C0574.MP4_link.csv'\n",
      " 'aligner_N001_D028_C0573.MP4_link.csv'\n",
      " 'aligner_N001_D028_C0572.MP4_link.csv']\n",
      "['fronter_N004_D028_C0560.MP4_link.csv'\n",
      " 'fronter_N004_D028_C0559.MP4_link.csv'\n",
      " 'fronter_N004_D028_C0558.MP4_link.csv'\n",
      " 'fronter_N004_D028_C0557.MP4_link.csv']\n",
      "['aligner_N004_D028_C0580.MP4_link.csv'\n",
      " 'aligner_N004_D028_C0579.MP4_link.csv'\n",
      " 'aligner_N004_D028_C0578.MP4_link.csv'\n",
      " 'aligner_N004_D028_C0577.MP4_link.csv'\n",
      " 'aligner_N004_D028_C0576.MP4_link.csv']\n",
      "['fronter_N008_D028_C0567.MP4_link.csv'\n",
      " 'fronter_N008_D028_C0566.MP4_link.csv'\n",
      " 'fronter_N008_D028_C0565.MP4_link.csv'\n",
      " 'fronter_N008_D028_C0563.MP4_link.csv'\n",
      " 'fronter_N008_D028_C0562.MP4_link.csv']\n",
      "['aligner_N008_D028_C0587.MP4_link.csv'\n",
      " 'aligner_N008_D028_C0586.MP4_link.csv'\n",
      " 'aligner_N008_D028_C0585.MP4_link.csv'\n",
      " 'aligner_N008_D028_C0584.MP4_link.csv'\n",
      " 'aligner_N008_D028_C0583.MP4_link.csv'\n",
      " 'updated_test_aligner_N008_D028_C0581.MP4_link.csv']\n",
      "['fronter_N016_D028_C0571.MP4_link.csv'\n",
      " 'fronter_N016_D028_C0570.MP4_link.csv'\n",
      " 'fronter_N016_D028_C0569.MP4_link.csv'\n",
      " 'fronter_N016_D028_C0568.MP4_link.csv']\n",
      "['aligner_N016_D028_C0591.MP4_link.csv'\n",
      " 'aligner_N016_D028_C0590.MP4_link.csv'\n",
      " 'aligner_N016_D028_C0589.MP4_link.csv'\n",
      " 'aligner_N016_D028_C0588.MP4_link.csv']\n",
      "['fronter_N021_D028_C0490.MP4_link.csv'\n",
      " 'fronter_N021_D028_C0491.MP4_link.csv'\n",
      " 'updated_test_fronter_N021_D028_C0492.MP4_link.csv'\n",
      " 'fronter_N021_D028_C0493.MP4_link.csv']\n",
      "['updated_test_aligner_N021_D028_C0494.MP4_link.csv'\n",
      " 'aligner_N021_D028_C0495.MP4_link.csv'\n",
      " 'aligner_N021_D028_C0497.MP4_link.csv'\n",
      " 'aligner_N021_D028_C0498.MP4_link.csv']\n",
      "['fronter_N053_D028_C0505.MP4_link.csv'\n",
      " 'fronter_N053_D028_C0506.MP4_link.csv'\n",
      " 'fronter_N053_D028_C0507.MP4_link.csv'\n",
      " 'fronter_N053_D028_C0509.MP4_link.csv']\n",
      "['aligner_N053_D028_C0510.MP4_link.csv'\n",
      " 'aligner_N053_D028_C0511.MP4_link.csv'\n",
      " 'aligner_N053_D028_C0512.MP4_link.csv'\n",
      " 'aligner_N053_D028_C0513.MP4_link.csv']\n",
      "         frame  frame.1      x      y  particle  BotNum  BotType\n",
      "0          501      501  658.5  547.5         0       1  fronter\n",
      "1          502      502  658.5  547.5         0       1  fronter\n",
      "2          503      503  658.5  547.5         0       1  fronter\n",
      "3          504      504  658.5  547.5         0       1  fronter\n",
      "4          505      505  657.5  548.5         0       1  fronter\n",
      "...        ...      ...    ...    ...       ...     ...      ...\n",
      "1404065  30371    30371  606.5  251.5         3      53  aligner\n",
      "1404066  30372    30372  606.5  251.5         3      53  aligner\n",
      "1404067  30373    30373  606.5  250.5         3      53  aligner\n",
      "1404068  30374    30374  606.5  250.5         3      53  aligner\n",
      "1404069  30375    30375  606.5  250.5         3      53  aligner\n",
      "\n",
      "[1404070 rows x 7 columns]\n"
     ]
    }
   ],
   "source": [
    "passive_path='C:\\\\Users\\\\User\\\\Documents\\\\Eden\\\\locate_git_code\\\\packaged\\\\all_linking_passive_data_28cm.csv'\n",
    "passive_path_packaged='C:\\\\Users\\\\User\\\\Documents\\\\Eden\\\\locate_git_code\\\\packaged'\n",
    "Passive_path_table=pd.read_csv(passive_path,index_col=0)\n",
    "emsd_data=pd.DataFrame()\n",
    "bottypes=['fronter','aligner']\n",
    "botnums=[1,4,8,16,21,53]\n",
    "#rerelevant_data=Passive_path_table.loc[bottype,diameter]\n",
    "for botnum in botnums:\n",
    "    for bottype in bottypes:\n",
    "        relevant_data=Passive_path_table[(Passive_path_table['BotNum']==botnum)&(Passive_path_table['BotType']==bottype)]\n",
    "        filenames=pd.unique(relevant_data['Filename'])\n",
    "        print(filenames)\n",
    "        particle=0\n",
    "        for filename in filenames:\n",
    "            emsd_file_data=relevant_data[(relevant_data['Filename']==filename)]\n",
    "            emsd_file_data=emsd_file_data.iloc[:,0:4]\n",
    "            emsd_file_data['particle']=[particle]*len(emsd_file_data)\n",
    "            emsd_file_data['BotNum']=[botnum]*len(emsd_file_data)\n",
    "            emsd_file_data['BotType']=[bottype]*len(emsd_file_data)\n",
    "            emsd_data=pd.concat([emsd_data,emsd_file_data],axis=0,ignore_index=True)\n",
    "            particle=particle+1\n",
    "print(emsd_data)"
   ]
  },
  {
   "cell_type": "code",
   "execution_count": 14,
   "id": "c299e7a5-530e-410e-9ba9-fd358a78c475",
   "metadata": {},
   "outputs": [
    {
     "name": "stdout",
     "output_type": "stream",
     "text": [
      "[ 1.7946323  -3.52159432]\n",
      "[0.00108918 0.00341448]\n"
     ]
    },
    {
     "name": "stderr",
     "output_type": "stream",
     "text": [
      "C:\\Users\\User\\AppData\\Local\\Programs\\Python\\Python38\\lib\\site-packages\\trackpy\\motion.py:235: FutureWarning: Using the level keyword in DataFrame and Series aggregations is deprecated and will be removed in a future version. Use groupby instead. df.median(level=1) should use df.groupby(level=1).median().\n",
      "  results = msds.mul(msds['N'], axis=0).mean(level=1)  # weighted average\n",
      "C:\\Users\\User\\AppData\\Local\\Programs\\Python\\Python38\\lib\\site-packages\\trackpy\\motion.py:236: FutureWarning: Using the level keyword in DataFrame and Series aggregations is deprecated and will be removed in a future version. Use groupby instead. df.median(level=1) should use df.groupby(level=1).median().\n",
      "  results = results.div(msds['N'].mean(level=1), axis=0)  # weights normalized\n"
     ]
    },
    {
     "data": {
      "text/plain": [
       "[<matplotlib.lines.Line2D at 0x1fe6a1dedc0>]"
      ]
     },
     "execution_count": 14,
     "metadata": {},
     "output_type": "execute_result"
    },
    {
     "data": {
      "image/png": "[encoded data removed]",
      "text/plain": [
       "<Figure size 640x480 with 1 Axes>"
      ]
     },
     "metadata": {},
     "output_type": "display_data"
    }
   ],
   "source": [
    "arenaSizePixels = 1090 # [pixels]\n",
    "arenaSizeCm = 150 # [cm]\n",
    "fps =25\n",
    "mpp = arenaSizeCm/arenaSizePixels/2 #[cm/pixel]\n",
    "bottype='fronter'\n",
    "botnum=16\n",
    "relevant_emsd=emsd_data[(emsd_data['BotNum']==botnum)&(emsd_data['BotType']==bottype)]\n",
    "#print(relevant_emsd)\n",
    "emsd_data_filtered = tp.filter_stubs(relevant_emsd,threshold=100)\n",
    "max_lagtime=int(len(emsd_data_filtered)/3)\n",
    "emsd=tp.emsd(emsd_data_filtered,fps=fps,mpp=mpp,max_lagtime=max_lagtime)\n",
    "emsd_small_range=emsd.loc[2:50]\n",
    "#emsd_small_range=emsd.loc[4:20]\n",
    "p0=np.array([2,0.5])\n",
    "popt,pcov = sc.optimize.curve_fit(linear_fit_log,np.log(emsd_small_range.index),np.log(emsd_small_range),p0=p0)\n",
    "perr = np.sqrt(np.diag(pcov))\n",
    "corr=np.corrcoef(pcov,rowvar=True)\n",
    "print(popt)\n",
    "print(perr)\n",
    "fig, ax = plt.subplots()\n",
    "ax.plot(emsd.index, emsd)\n",
    "ax.set_xscale('log')\n",
    "ax.set_yscale('log')\n",
    "fit_x=np.log(emsd_small_range.index)\n",
    "fit_y=fit_x*popt[0]+popt[1]\n",
    "ax.loglog(np.exp(fit_x),np.exp(fit_y),'--')"
   ]
  },
  {
   "cell_type": "code",
   "execution_count": 8,
   "id": "b9f44a4b-df8f-4216-87c8-b7e323357f9b",
   "metadata": {},
   "outputs": [
    {
     "name": "stdout",
     "output_type": "stream",
     "text": [
      "BotNum 1,BotType fronter\n"
     ]
    },
    {
     "name": "stderr",
     "output_type": "stream",
     "text": [
      "C:\\Users\\User\\AppData\\Local\\Programs\\Python\\Python38\\lib\\site-packages\\trackpy\\motion.py:235: FutureWarning: Using the level keyword in DataFrame and Series aggregations is deprecated and will be removed in a future version. Use groupby instead. df.median(level=1) should use df.groupby(level=1).median().\n",
      "  results = msds.mul(msds['N'], axis=0).mean(level=1)  # weighted average\n",
      "C:\\Users\\User\\AppData\\Local\\Programs\\Python\\Python38\\lib\\site-packages\\trackpy\\motion.py:236: FutureWarning: Using the level keyword in DataFrame and Series aggregations is deprecated and will be removed in a future version. Use groupby instead. df.median(level=1) should use df.groupby(level=1).median().\n",
      "  results = results.div(msds['N'].mean(level=1), axis=0)  # weights normalized\n"
     ]
    },
    {
     "name": "stdout",
     "output_type": "stream",
     "text": [
      "BotNum 1,BotType aligner\n"
     ]
    },
    {
     "name": "stderr",
     "output_type": "stream",
     "text": [
      "C:\\Users\\User\\AppData\\Local\\Programs\\Python\\Python38\\lib\\site-packages\\trackpy\\motion.py:235: FutureWarning: Using the level keyword in DataFrame and Series aggregations is deprecated and will be removed in a future version. Use groupby instead. df.median(level=1) should use df.groupby(level=1).median().\n",
      "  results = msds.mul(msds['N'], axis=0).mean(level=1)  # weighted average\n",
      "C:\\Users\\User\\AppData\\Local\\Programs\\Python\\Python38\\lib\\site-packages\\trackpy\\motion.py:236: FutureWarning: Using the level keyword in DataFrame and Series aggregations is deprecated and will be removed in a future version. Use groupby instead. df.median(level=1) should use df.groupby(level=1).median().\n",
      "  results = results.div(msds['N'].mean(level=1), axis=0)  # weights normalized\n"
     ]
    },
    {
     "name": "stdout",
     "output_type": "stream",
     "text": [
      "BotNum 4,BotType fronter\n"
     ]
    },
    {
     "name": "stderr",
     "output_type": "stream",
     "text": [
      "C:\\Users\\User\\AppData\\Local\\Programs\\Python\\Python38\\lib\\site-packages\\trackpy\\motion.py:235: FutureWarning: Using the level keyword in DataFrame and Series aggregations is deprecated and will be removed in a future version. Use groupby instead. df.median(level=1) should use df.groupby(level=1).median().\n",
      "  results = msds.mul(msds['N'], axis=0).mean(level=1)  # weighted average\n",
      "C:\\Users\\User\\AppData\\Local\\Programs\\Python\\Python38\\lib\\site-packages\\trackpy\\motion.py:236: FutureWarning: Using the level keyword in DataFrame and Series aggregations is deprecated and will be removed in a future version. Use groupby instead. df.median(level=1) should use df.groupby(level=1).median().\n",
      "  results = results.div(msds['N'].mean(level=1), axis=0)  # weights normalized\n"
     ]
    },
    {
     "name": "stdout",
     "output_type": "stream",
     "text": [
      "BotNum 4,BotType aligner\n"
     ]
    },
    {
     "name": "stderr",
     "output_type": "stream",
     "text": [
      "C:\\Users\\User\\AppData\\Local\\Programs\\Python\\Python38\\lib\\site-packages\\trackpy\\motion.py:235: FutureWarning: Using the level keyword in DataFrame and Series aggregations is deprecated and will be removed in a future version. Use groupby instead. df.median(level=1) should use df.groupby(level=1).median().\n",
      "  results = msds.mul(msds['N'], axis=0).mean(level=1)  # weighted average\n",
      "C:\\Users\\User\\AppData\\Local\\Programs\\Python\\Python38\\lib\\site-packages\\trackpy\\motion.py:236: FutureWarning: Using the level keyword in DataFrame and Series aggregations is deprecated and will be removed in a future version. Use groupby instead. df.median(level=1) should use df.groupby(level=1).median().\n",
      "  results = results.div(msds['N'].mean(level=1), axis=0)  # weights normalized\n"
     ]
    },
    {
     "name": "stdout",
     "output_type": "stream",
     "text": [
      "BotNum 8,BotType fronter\n"
     ]
    },
    {
     "name": "stderr",
     "output_type": "stream",
     "text": [
      "C:\\Users\\User\\AppData\\Local\\Programs\\Python\\Python38\\lib\\site-packages\\trackpy\\motion.py:235: FutureWarning: Using the level keyword in DataFrame and Series aggregations is deprecated and will be removed in a future version. Use groupby instead. df.median(level=1) should use df.groupby(level=1).median().\n",
      "  results = msds.mul(msds['N'], axis=0).mean(level=1)  # weighted average\n",
      "C:\\Users\\User\\AppData\\Local\\Programs\\Python\\Python38\\lib\\site-packages\\trackpy\\motion.py:236: FutureWarning: Using the level keyword in DataFrame and Series aggregations is deprecated and will be removed in a future version. Use groupby instead. df.median(level=1) should use df.groupby(level=1).median().\n",
      "  results = results.div(msds['N'].mean(level=1), axis=0)  # weights normalized\n"
     ]
    },
    {
     "name": "stdout",
     "output_type": "stream",
     "text": [
      "BotNum 8,BotType aligner\n"
     ]
    },
    {
     "name": "stderr",
     "output_type": "stream",
     "text": [
      "C:\\Users\\User\\AppData\\Local\\Programs\\Python\\Python38\\lib\\site-packages\\trackpy\\motion.py:235: FutureWarning: Using the level keyword in DataFrame and Series aggregations is deprecated and will be removed in a future version. Use groupby instead. df.median(level=1) should use df.groupby(level=1).median().\n",
      "  results = msds.mul(msds['N'], axis=0).mean(level=1)  # weighted average\n",
      "C:\\Users\\User\\AppData\\Local\\Programs\\Python\\Python38\\lib\\site-packages\\trackpy\\motion.py:236: FutureWarning: Using the level keyword in DataFrame and Series aggregations is deprecated and will be removed in a future version. Use groupby instead. df.median(level=1) should use df.groupby(level=1).median().\n",
      "  results = results.div(msds['N'].mean(level=1), axis=0)  # weights normalized\n"
     ]
    },
    {
     "name": "stdout",
     "output_type": "stream",
     "text": [
      "BotNum 16,BotType fronter\n"
     ]
    },
    {
     "name": "stderr",
     "output_type": "stream",
     "text": [
      "C:\\Users\\User\\AppData\\Local\\Programs\\Python\\Python38\\lib\\site-packages\\trackpy\\motion.py:235: FutureWarning: Using the level keyword in DataFrame and Series aggregations is deprecated and will be removed in a future version. Use groupby instead. df.median(level=1) should use df.groupby(level=1).median().\n",
      "  results = msds.mul(msds['N'], axis=0).mean(level=1)  # weighted average\n",
      "C:\\Users\\User\\AppData\\Local\\Programs\\Python\\Python38\\lib\\site-packages\\trackpy\\motion.py:236: FutureWarning: Using the level keyword in DataFrame and Series aggregations is deprecated and will be removed in a future version. Use groupby instead. df.median(level=1) should use df.groupby(level=1).median().\n",
      "  results = results.div(msds['N'].mean(level=1), axis=0)  # weights normalized\n"
     ]
    },
    {
     "name": "stdout",
     "output_type": "stream",
     "text": [
      "BotNum 16,BotType aligner\n"
     ]
    },
    {
     "name": "stderr",
     "output_type": "stream",
     "text": [
      "C:\\Users\\User\\AppData\\Local\\Programs\\Python\\Python38\\lib\\site-packages\\trackpy\\motion.py:235: FutureWarning: Using the level keyword in DataFrame and Series aggregations is deprecated and will be removed in a future version. Use groupby instead. df.median(level=1) should use df.groupby(level=1).median().\n",
      "  results = msds.mul(msds['N'], axis=0).mean(level=1)  # weighted average\n",
      "C:\\Users\\User\\AppData\\Local\\Programs\\Python\\Python38\\lib\\site-packages\\trackpy\\motion.py:236: FutureWarning: Using the level keyword in DataFrame and Series aggregations is deprecated and will be removed in a future version. Use groupby instead. df.median(level=1) should use df.groupby(level=1).median().\n",
      "  results = results.div(msds['N'].mean(level=1), axis=0)  # weights normalized\n"
     ]
    },
    {
     "name": "stdout",
     "output_type": "stream",
     "text": [
      "BotNum 21,BotType fronter\n"
     ]
    },
    {
     "name": "stderr",
     "output_type": "stream",
     "text": [
      "C:\\Users\\User\\AppData\\Local\\Programs\\Python\\Python38\\lib\\site-packages\\trackpy\\motion.py:235: FutureWarning: Using the level keyword in DataFrame and Series aggregations is deprecated and will be removed in a future version. Use groupby instead. df.median(level=1) should use df.groupby(level=1).median().\n",
      "  results = msds.mul(msds['N'], axis=0).mean(level=1)  # weighted average\n",
      "C:\\Users\\User\\AppData\\Local\\Programs\\Python\\Python38\\lib\\site-packages\\trackpy\\motion.py:236: FutureWarning: Using the level keyword in DataFrame and Series aggregations is deprecated and will be removed in a future version. Use groupby instead. df.median(level=1) should use df.groupby(level=1).median().\n",
      "  results = results.div(msds['N'].mean(level=1), axis=0)  # weights normalized\n"
     ]
    },
    {
     "name": "stdout",
     "output_type": "stream",
     "text": [
      "BotNum 21,BotType aligner\n"
     ]
    },
    {
     "name": "stderr",
     "output_type": "stream",
     "text": [
      "C:\\Users\\User\\AppData\\Local\\Programs\\Python\\Python38\\lib\\site-packages\\trackpy\\motion.py:235: FutureWarning: Using the level keyword in DataFrame and Series aggregations is deprecated and will be removed in a future version. Use groupby instead. df.median(level=1) should use df.groupby(level=1).median().\n",
      "  results = msds.mul(msds['N'], axis=0).mean(level=1)  # weighted average\n",
      "C:\\Users\\User\\AppData\\Local\\Programs\\Python\\Python38\\lib\\site-packages\\trackpy\\motion.py:236: FutureWarning: Using the level keyword in DataFrame and Series aggregations is deprecated and will be removed in a future version. Use groupby instead. df.median(level=1) should use df.groupby(level=1).median().\n",
      "  results = results.div(msds['N'].mean(level=1), axis=0)  # weights normalized\n",
      "C:\\Users\\User\\AppData\\Local\\Programs\\Python\\Python38\\lib\\site-packages\\trackpy\\motion.py:235: FutureWarning: Using the level keyword in DataFrame and Series aggregations is deprecated and will be removed in a future version. Use groupby instead. df.median(level=1) should use df.groupby(level=1).median().\n",
      "  results = msds.mul(msds['N'], axis=0).mean(level=1)  # weighted average\n",
      "C:\\Users\\User\\AppData\\Local\\Programs\\Python\\Python38\\lib\\site-packages\\trackpy\\motion.py:236: FutureWarning: Using the level keyword in DataFrame and Series aggregations is deprecated and will be removed in a future version. Use groupby instead. df.median(level=1) should use df.groupby(level=1).median().\n",
      "  results = results.div(msds['N'].mean(level=1), axis=0)  # weights normalized\n"
     ]
    },
    {
     "name": "stdout",
     "output_type": "stream",
     "text": [
      "BotNum 53,BotType fronter\n",
      "BotNum 53,BotType aligner\n"
     ]
    },
    {
     "name": "stderr",
     "output_type": "stream",
     "text": [
      "C:\\Users\\User\\AppData\\Local\\Programs\\Python\\Python38\\lib\\site-packages\\trackpy\\motion.py:235: FutureWarning: Using the level keyword in DataFrame and Series aggregations is deprecated and will be removed in a future version. Use groupby instead. df.median(level=1) should use df.groupby(level=1).median().\n",
      "  results = msds.mul(msds['N'], axis=0).mean(level=1)  # weighted average\n",
      "C:\\Users\\User\\AppData\\Local\\Programs\\Python\\Python38\\lib\\site-packages\\trackpy\\motion.py:236: FutureWarning: Using the level keyword in DataFrame and Series aggregations is deprecated and will be removed in a future version. Use groupby instead. df.median(level=1) should use df.groupby(level=1).median().\n",
      "  results = results.div(msds['N'].mean(level=1), axis=0)  # weights normalized\n"
     ]
    }
   ],
   "source": [
    "arenaSizePixels = 1090 # [pixels]\n",
    "arenaSizeCm = 150 # [cm]\n",
    "fps =25\n",
    "mpp = arenaSizeCm/arenaSizePixels/2 #[cm/pixel]\n",
    "emsd_results=pd.DataFrame()\n",
    "bottypes=['fronter','aligner']\n",
    "botnums=[1,4,8,16,21,53]\n",
    "for botnum in botnums:\n",
    "    for bottype in bottypes:\n",
    "        print(\"BotNum {},BotType {}\".format(botnum,bottype))\n",
    "        data_row=pd.DataFrame()\n",
    "        relevant_emsd=emsd_data[(emsd_data['BotNum']==botnum)&(emsd_data['BotType']==bottype)]\n",
    "        #print(relevant_emsd)\n",
    "        emsd_data_filtered = tp.filter_stubs(relevant_emsd,threshold=100)\n",
    "        max_lagtime=int(len(emsd_data_filtered)/3)\n",
    "        emsd=tp.emsd(emsd_data_filtered,fps=fps,mpp=mpp,max_lagtime=max_lagtime)\n",
    "        emsd_large_range=emsd.loc[2:50]\n",
    "        emsd_small_range=emsd.loc[4:20]\n",
    "        p0=np.array([2,0.5])\n",
    "        popt_min,pcov_min = sc.optimize.curve_fit(linear_fit_log,np.log(emsd_small_range.index),np.log(emsd_small_range),p0=p0)\n",
    "        perr_min = np.sqrt(np.diag(pcov_min))\n",
    "        corr_min=np.corrcoef(pcov_min,rowvar=True)\n",
    "        popt_max,pcov_max = sc.optimize.curve_fit(linear_fit_log,np.log(emsd_large_range.index),np.log(emsd_large_range),p0=p0)\n",
    "        perr_max = np.sqrt(np.diag(pcov_max))\n",
    "        corr_max=np.corrcoef(pcov_max,rowvar=True)\n",
    "        data_row['BotNum']=[botnum]\n",
    "        data_row['BotType']=[bottype]\n",
    "        data_row['n_max']=[popt_max[0]]\n",
    "        data_row['n_max_err']=[perr_max[0]]\n",
    "        data_row['A_max']=[np.exp(popt_max[1])]\n",
    "        data_row['A_max_err']=[perr_max[1]]\n",
    "        data_row['n_min']=[popt_min[0]]\n",
    "        data_row['n_min_err']=[perr_min[0]]\n",
    "        data_row['A_min']=[np.exp(popt_min[1])]\n",
    "        data_row['A_min_err']=[perr_min[1]]\n",
    "        emsd_results=pd.concat([emsd_results,data_row],axis=0)\n",
    "emsd_results.to_csv(passive_path_packaged+'\\\\power_law_28cm_diameter_emsd.csv')"
   ]
  },
  {
   "cell_type": "code",
   "execution_count": 9,
   "id": "aa341694-8dfb-4279-afa5-c923235cbe3f",
   "metadata": {},
   "outputs": [
    {
     "name": "stdout",
     "output_type": "stream",
     "text": [
      "BotNum\n",
      "1     1.787727\n",
      "4     1.836116\n",
      "8     1.793718\n",
      "16    1.847236\n",
      "21    1.764592\n",
      "53    1.738613\n",
      "Name: n_min, dtype: float64\n"
     ]
    }
   ],
   "source": [
    "mean_data=emsd_results.groupby(by=[\"BotType\",\"BotNum\"]).mean()\n",
    "print(mean_data.loc[(\"fronter\",\"n_min\")])\n",
    "std_data=emsd_results.groupby(by=[\"BotType\",\"BotNum\"]).std()\n",
    "#print(std_data)"
   ]
  },
  {
   "cell_type": "code",
   "execution_count": 15,
   "id": "3d84523d-7a36-4624-b899-12f0e9b942a1",
   "metadata": {},
   "outputs": [
    {
     "data": {
      "image/png": "[encoded data removed]",
      "text/plain": [
       "<Figure size 640x480 with 1 Axes>"
      ]
     },
     "metadata": {},
     "output_type": "display_data"
    }
   ],
   "source": [
    "fronter_data=mean_data.loc[(\"fronter\",\"n_min\")]\n",
    "fronter_data_max= mean_data.loc[(\"fronter\",\"n_max\")]\n",
    "fronter_diff=fronter_data-fronter_data_max\n",
    "aligner_data=mean_data.loc[(\"aligner\",\"n_min\")]\n",
    "aligner_data_max=mean_data.loc[(\"aligner\",\"n_max\")]\n",
    "aligner_diff=aligner_data-aligner_data_max\n",
    "fig,ax = plt.subplots()\n",
    "ax.errorbar(x=fronter_data.index,y=fronter_data,label='fronter_n_min',yerr=np.abs(fronter_diff.to_numpy())/2,marker='o',capsize=5,color='green'\n",
    "             ,markeredgewidth=2,elinewidth=3,linewidth=3)\n",
    "#ax.plot(fronter_data_max.index,fronter_data_max,'-o',label='fronter_n_max')\n",
    "ax.errorbar(x=aligner_data.index,y=aligner_data,label='aligners_n_min',yerr=np.abs(aligner_diff.to_numpy())/2,marker='s',capsize=5,color='blue'\n",
    "             ,markeredgewidth=2,elinewidth=3,linewidth=3)\n",
    "#ax.plot(aligner_data_max.index,aligner_data_max,'-o',label='aligners_n_max')\n",
    "ax.set_xlabel('Bot Number')\n",
    "ax.set_ylabel('Power law')\n",
    "ax.grid()\n",
    "ax.legend()\n",
    "saved_data=pd.DataFrame(data={'fronter_data': fronter_data\n",
    "                              ,'fronter_data_max': fronter_data_max,'fronter_diff':fronter_diff,'aligner_data':aligner_data\n",
    "                              ,'aligner_data_max':aligner_data_max,'aligner_diff':aligner_diff})\n",
    "saved_data.to_csv('C:\\\\Users\\\\User\\\\Documents\\\\Eden\\\\locate_git_code\\\\production\\\\emsd_powerlaw_vs_Botnum_28cm.csv')\n",
    "fig.savefig('C:\\\\Users\\\\User\\\\Documents\\\\Eden\\\\locate_git_code\\\\production\\\\emsd_powerlaw_vs_Botnum_28cm.png',bbox_inches='tight')"
   ]
  },
  {
   "cell_type": "code",
   "execution_count": null,
   "id": "c9a64c03-d35c-479b-831d-e7fa100aa892",
   "metadata": {},
   "outputs": [],
   "source": []
  }
 ],
 "metadata": {
  "kernelspec": {
   "display_name": "Python 3 (ipykernel)",
   "language": "python",
   "name": "python3"
  },
  "language_info": {
   "codemirror_mode": {
    "name": "ipython",
    "version": 3
   },
   "file_extension": ".py",
   "mimetype": "text/x-python",
   "name": "python",
   "nbconvert_exporter": "python",
   "pygments_lexer": "ipython3",
   "version": "3.8.1"
  }
 },
 "nbformat": 4,
 "nbformat_minor": 5
}
