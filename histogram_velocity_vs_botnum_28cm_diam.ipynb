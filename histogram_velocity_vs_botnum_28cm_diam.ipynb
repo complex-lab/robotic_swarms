{
 "cells": [
  {
   "cell_type": "code",
   "execution_count": 1,
   "id": "430c128f-7758-4c9c-a2bc-9e8c897049e2",
   "metadata": {},
   "outputs": [],
   "source": [
    "%matplotlib inline\n",
    "#%matplotlib widget"
   ]
  },
  {
   "cell_type": "code",
   "execution_count": 2,
   "id": "efc092fd-d31e-4625-b174-85e5a98efc3e",
   "metadata": {},
   "outputs": [],
   "source": [
    "#############imports######################################################################\n",
    "import cv2 as cv2\n",
    "from matplotlib import pyplot as plt\n",
    "import pandas as pd\n",
    "import numpy as np\n",
    "import trackpy as tp\n",
    "import scipy as sc\n",
    "import matplotlib.colors as colors\n",
    "import os\n",
    "from ipywidgets import HBox, Textarea, interact"
   ]
  },
  {
   "cell_type": "code",
   "execution_count": 3,
   "id": "e63f1817-b813-4ebc-ad97-0d36170f4ff6",
   "metadata": {},
   "outputs": [],
   "source": [
    "def read_time(time_value):\n",
    "    fps=25\n",
    "    sign_index=time_value.index(':')\n",
    "    minutes=int(time_value[0:sign_index])\n",
    "    sec=int(time_value[sign_index+1:len(time_value)])\n",
    "    frames=(minutes*60+sec)*25\n",
    "    return frames\n",
    "#def expShift(t,A,tau,k):\n",
    "#    return A*np.exp(-t/tau)+k\n",
    "def expShift(t,A,tau,k):\n",
    "    return A*np.exp(-(t**2)/((tau**2)))+k\n",
    "#def CovToCorr(cov_data):\n",
    "#    shape=cov_data.shape\n",
    "#    result=[]\n",
    "#    for i in range(0,shape):\n",
    "def powerlaw(x,A,n):\n",
    "    return A*x**n\n",
    "def linear_fit_log(x,n,A):\n",
    "    return n*x+A"
   ]
  },
  {
   "cell_type": "code",
   "execution_count": 14,
   "id": "786c3a63-eab0-4e06-b367-bf82c6dae898",
   "metadata": {},
   "outputs": [
    {
     "name": "stdout",
     "output_type": "stream",
     "text": [
      "fronter_N001_D028_C0556.MP4_link.csv\n",
      "fronter_N001_D028_C0555.MP4_link.csv\n",
      "updated_test_fronter_N001_D028_C0554.MP4_link.csv\n",
      "updated_test_fronter_N001_D028_C0553.MP4_link.csv\n",
      "aligner_N001_D028_C0575.MP4_link.csv\n",
      "aligner_N001_D028_C0574.MP4_link.csv\n",
      "aligner_N001_D028_C0573.MP4_link.csv\n",
      "aligner_N001_D028_C0572.MP4_link.csv\n",
      "fronter_N004_D028_C0560.MP4_link.csv\n",
      "fronter_N004_D028_C0559.MP4_link.csv\n",
      "fronter_N004_D028_C0558.MP4_link.csv\n",
      "fronter_N004_D028_C0557.MP4_link.csv\n",
      "aligner_N004_D028_C0580.MP4_link.csv\n",
      "aligner_N004_D028_C0579.MP4_link.csv\n",
      "aligner_N004_D028_C0578.MP4_link.csv\n",
      "aligner_N004_D028_C0577.MP4_link.csv\n",
      "aligner_N004_D028_C0576.MP4_link.csv\n",
      "fronter_N008_D028_C0567.MP4_link.csv\n",
      "fronter_N008_D028_C0566.MP4_link.csv\n",
      "fronter_N008_D028_C0565.MP4_link.csv\n",
      "fronter_N008_D028_C0563.MP4_link.csv\n",
      "fronter_N008_D028_C0562.MP4_link.csv\n",
      "aligner_N008_D028_C0587.MP4_link.csv\n",
      "aligner_N008_D028_C0586.MP4_link.csv\n",
      "aligner_N008_D028_C0585.MP4_link.csv\n",
      "aligner_N008_D028_C0584.MP4_link.csv\n",
      "aligner_N008_D028_C0583.MP4_link.csv\n",
      "updated_test_aligner_N008_D028_C0581.MP4_link.csv\n",
      "fronter_N016_D028_C0571.MP4_link.csv\n",
      "fronter_N016_D028_C0570.MP4_link.csv\n",
      "fronter_N016_D028_C0569.MP4_link.csv\n",
      "fronter_N016_D028_C0568.MP4_link.csv\n",
      "aligner_N016_D028_C0591.MP4_link.csv\n",
      "aligner_N016_D028_C0590.MP4_link.csv\n",
      "aligner_N016_D028_C0589.MP4_link.csv\n",
      "aligner_N016_D028_C0588.MP4_link.csv\n",
      "aligner_N053_D028_C0510.MP4_link.csv\n",
      "aligner_N053_D028_C0511.MP4_link.csv\n",
      "aligner_N053_D028_C0512.MP4_link.csv\n",
      "aligner_N053_D028_C0513.MP4_link.csv\n",
      "fronter_N053_D028_C0505.MP4_link.csv\n",
      "fronter_N053_D028_C0506.MP4_link.csv\n",
      "fronter_N053_D028_C0507.MP4_link.csv\n",
      "fronter_N053_D028_C0509.MP4_link.csv\n",
      "fronter_N021_D028_C0490.MP4_link.csv\n",
      "fronter_N021_D028_C0491.MP4_link.csv\n",
      "updated_test_fronter_N021_D028_C0492.MP4_link.csv\n",
      "fronter_N021_D028_C0493.MP4_link.csv\n",
      "updated_test_aligner_N021_D028_C0494.MP4_link.csv\n",
      "aligner_N021_D028_C0495.MP4_link.csv\n",
      "aligner_N021_D028_C0497.MP4_link.csv\n",
      "aligner_N021_D028_C0498.MP4_link.csv\n",
      "                                   FileName Bot_Type  Bot_Number  \\\n",
      "0      fronter_N001_D028_C0556.MP4_link.csv  fronter           1   \n",
      "1      fronter_N001_D028_C0556.MP4_link.csv  fronter           1   \n",
      "2      fronter_N001_D028_C0556.MP4_link.csv  fronter           1   \n",
      "3      fronter_N001_D028_C0556.MP4_link.csv  fronter           1   \n",
      "4      fronter_N001_D028_C0556.MP4_link.csv  fronter           1   \n",
      "...                                     ...      ...         ...   \n",
      "77995  aligner_N021_D028_C0498.MP4_link.csv  aligner          21   \n",
      "77996  aligner_N021_D028_C0498.MP4_link.csv  aligner          21   \n",
      "77997  aligner_N021_D028_C0498.MP4_link.csv  aligner          21   \n",
      "77998  aligner_N021_D028_C0498.MP4_link.csv  aligner          21   \n",
      "77999  aligner_N021_D028_C0498.MP4_link.csv  aligner          21   \n",
      "\n",
      "       delta_Vx(per_1sec)  delta_Vy(per_1sec)  \n",
      "0                     NaN                 NaN  \n",
      "1                     NaN                 NaN  \n",
      "2                     NaN                 NaN  \n",
      "3                     NaN                 NaN  \n",
      "4                     NaN                 NaN  \n",
      "...                   ...                 ...  \n",
      "77995                -1.0                -1.0  \n",
      "77996                 0.0                -1.0  \n",
      "77997                -1.0                 1.0  \n",
      "77998                 2.0                -1.0  \n",
      "77999                 1.0                 1.0  \n",
      "\n",
      "[78000 rows x 5 columns]\n"
     ]
    }
   ],
   "source": [
    "expSumFileNamePassive='C:\\\\Users\\\\User\\\\Documents\\\\Eden\\\\locate_git_code\\\\packaged\\\\expSumPack_botnum_28cm_updated.csv'\n",
    "expSumPassive=pd.read_csv(expSumFileNamePassive,index_col=0)\n",
    "all_linked_data_filename='C:\\\\Users\\\\User\\\\Documents\\\\Eden\\\\locate_git_code\\\\packaged\\\\all_linking_passive_data_28cm.csv'\n",
    "all_linked_data=pd.read_csv(all_linked_data_filename,index_col=0)\n",
    "passive_path='C:\\\\Users\\\\User\\\\Documents\\\\Eden\\\\locate_git_code\\\\packaged'\n",
    "delta_t=1 #seconds\n",
    "starting_time=100#seconds\n",
    "ending_time=160#sec\n",
    "velocity_data=pd.DataFrame()\n",
    "for index,row in expSumPassive.iterrows():\n",
    "    FileName=row.linkingFileNamePack\n",
    "    print(FileName)\n",
    "    data=all_linked_data[(all_linked_data['Filename']==FileName)]\n",
    "    data=data.iloc[(starting_time*25):(ending_time*25),0:4]\n",
    "    #first_line=data.iloc[0,:]\n",
    "    #raw_diff=data-first_line\n",
    "    #time=raw_diff.frame/25\n",
    "    raw_diff=data.diff(periods=25*delta_t)\n",
    "    #delta_r=np.sqrt(np.power(raw_diff.x,2)+np.power(raw_diff.y,2))\n",
    "    row_data=pd.DataFrame()\n",
    "    row_data['FileName']=[FileName]*len(raw_diff)\n",
    "    row_data['Bot_Type']=[row.bottype]*len(raw_diff)\n",
    "    row_data['Bot_Number']=[row.bots]*len(raw_diff)\n",
    "    delta_time=[delta_t]*len(raw_diff)\n",
    "    #delta_time=delta_t\n",
    "    row_data['delta_Vx(per_1sec)']=np.array(raw_diff.x/delta_time)\n",
    "    row_data['delta_Vy(per_1sec)']=np.array(raw_diff.y/delta_time)\n",
    "    velocity_data=pd.concat([velocity_data,row_data],axis=0,ignore_index=True)\n",
    "print(velocity_data)\n",
    "velocity_data.to_csv(passive_path+'\\\\data_velocity(per_1sec)_histogram_diameter_28cm.csv')"
   ]
  },
  {
   "cell_type": "code",
   "execution_count": 13,
   "id": "b12b9316-bdff-4d4b-abf9-c2cd95ecd92a",
   "metadata": {},
   "outputs": [
    {
     "name": "stderr",
     "output_type": "stream",
     "text": [
      "C:\\Users\\User\\AppData\\Local\\Programs\\Python\\Python38\\lib\\site-packages\\matplotlib\\axes\\_axes.py:6679: RuntimeWarning: All-NaN slice encountered\n",
      "  xmin = min(xmin, np.nanmin(xi))\n",
      "C:\\Users\\User\\AppData\\Local\\Programs\\Python\\Python38\\lib\\site-packages\\matplotlib\\axes\\_axes.py:6680: RuntimeWarning: All-NaN slice encountered\n",
      "  xmax = max(xmax, np.nanmax(xi))\n"
     ]
    },
    {
     "ename": "ValueError",
     "evalue": "autodetected range of [nan, nan] is not finite",
     "output_type": "error",
     "traceback": [
      "\u001b[1;31m---------------------------------------------------------------------------\u001b[0m",
      "\u001b[1;31mValueError\u001b[0m                                Traceback (most recent call last)",
      "Cell \u001b[1;32mIn [13], line 16\u001b[0m\n\u001b[0;32m     14\u001b[0m         ax\u001b[38;5;241m.\u001b[39mhist(relevant_data,bins\u001b[38;5;241m=\u001b[39m\u001b[38;5;241m50\u001b[39m,label\u001b[38;5;241m=\u001b[39mbottype,alpha\u001b[38;5;241m=\u001b[39m\u001b[38;5;241m0.5\u001b[39m)\n\u001b[0;32m     15\u001b[0m     \u001b[38;5;28;01melse\u001b[39;00m:\n\u001b[1;32m---> 16\u001b[0m          \u001b[43max\u001b[49m\u001b[38;5;241;43m.\u001b[39;49m\u001b[43mhist\u001b[49m\u001b[43m(\u001b[49m\u001b[43mrelevant_data\u001b[49m\u001b[43m,\u001b[49m\u001b[43mbins\u001b[49m\u001b[38;5;241;43m=\u001b[39;49m\u001b[38;5;241;43m50\u001b[39;49m\u001b[43m,\u001b[49m\u001b[43mlabel\u001b[49m\u001b[38;5;241;43m=\u001b[39;49m\u001b[43mbottype\u001b[49m\u001b[43m)\u001b[49m\n\u001b[0;32m     17\u001b[0m ax\u001b[38;5;241m.\u001b[39mset_title(\u001b[38;5;124m\"\u001b[39m\u001b[38;5;124mHistogram \u001b[39m\u001b[38;5;132;01m{}\u001b[39;00m\u001b[38;5;124m bots in the arena \u001b[39m\u001b[38;5;132;01m{}\u001b[39;00m\u001b[38;5;124m\"\u001b[39m\u001b[38;5;241m.\u001b[39mformat(botnum,column))\n\u001b[0;32m     18\u001b[0m ax\u001b[38;5;241m.\u001b[39mlegend()\n",
      "File \u001b[1;32m~\\AppData\\Local\\Programs\\Python\\Python38\\lib\\site-packages\\matplotlib\\__init__.py:1423\u001b[0m, in \u001b[0;36m_preprocess_data.<locals>.inner\u001b[1;34m(ax, data, *args, **kwargs)\u001b[0m\n\u001b[0;32m   1420\u001b[0m \u001b[38;5;129m@functools\u001b[39m\u001b[38;5;241m.\u001b[39mwraps(func)\n\u001b[0;32m   1421\u001b[0m \u001b[38;5;28;01mdef\u001b[39;00m \u001b[38;5;21minner\u001b[39m(ax, \u001b[38;5;241m*\u001b[39margs, data\u001b[38;5;241m=\u001b[39m\u001b[38;5;28;01mNone\u001b[39;00m, \u001b[38;5;241m*\u001b[39m\u001b[38;5;241m*\u001b[39mkwargs):\n\u001b[0;32m   1422\u001b[0m     \u001b[38;5;28;01mif\u001b[39;00m data \u001b[38;5;129;01mis\u001b[39;00m \u001b[38;5;28;01mNone\u001b[39;00m:\n\u001b[1;32m-> 1423\u001b[0m         \u001b[38;5;28;01mreturn\u001b[39;00m \u001b[43mfunc\u001b[49m\u001b[43m(\u001b[49m\u001b[43max\u001b[49m\u001b[43m,\u001b[49m\u001b[43m \u001b[49m\u001b[38;5;241;43m*\u001b[39;49m\u001b[38;5;28;43mmap\u001b[39;49m\u001b[43m(\u001b[49m\u001b[43msanitize_sequence\u001b[49m\u001b[43m,\u001b[49m\u001b[43m \u001b[49m\u001b[43margs\u001b[49m\u001b[43m)\u001b[49m\u001b[43m,\u001b[49m\u001b[43m \u001b[49m\u001b[38;5;241;43m*\u001b[39;49m\u001b[38;5;241;43m*\u001b[39;49m\u001b[43mkwargs\u001b[49m\u001b[43m)\u001b[49m\n\u001b[0;32m   1425\u001b[0m     bound \u001b[38;5;241m=\u001b[39m new_sig\u001b[38;5;241m.\u001b[39mbind(ax, \u001b[38;5;241m*\u001b[39margs, \u001b[38;5;241m*\u001b[39m\u001b[38;5;241m*\u001b[39mkwargs)\n\u001b[0;32m   1426\u001b[0m     auto_label \u001b[38;5;241m=\u001b[39m (bound\u001b[38;5;241m.\u001b[39marguments\u001b[38;5;241m.\u001b[39mget(label_namer)\n\u001b[0;32m   1427\u001b[0m                   \u001b[38;5;129;01mor\u001b[39;00m bound\u001b[38;5;241m.\u001b[39mkwargs\u001b[38;5;241m.\u001b[39mget(label_namer))\n",
      "File \u001b[1;32m~\\AppData\\Local\\Programs\\Python\\Python38\\lib\\site-packages\\matplotlib\\axes\\_axes.py:6707\u001b[0m, in \u001b[0;36mAxes.hist\u001b[1;34m(self, x, bins, range, density, weights, cumulative, bottom, histtype, align, orientation, rwidth, log, color, label, stacked, **kwargs)\u001b[0m\n\u001b[0;32m   6703\u001b[0m \u001b[38;5;66;03m# Loop through datasets\u001b[39;00m\n\u001b[0;32m   6704\u001b[0m \u001b[38;5;28;01mfor\u001b[39;00m i \u001b[38;5;129;01min\u001b[39;00m \u001b[38;5;28mrange\u001b[39m(nx):\n\u001b[0;32m   6705\u001b[0m     \u001b[38;5;66;03m# this will automatically overwrite bins,\u001b[39;00m\n\u001b[0;32m   6706\u001b[0m     \u001b[38;5;66;03m# so that each histogram uses the same bins\u001b[39;00m\n\u001b[1;32m-> 6707\u001b[0m     m, bins \u001b[38;5;241m=\u001b[39m \u001b[43mnp\u001b[49m\u001b[38;5;241;43m.\u001b[39;49m\u001b[43mhistogram\u001b[49m\u001b[43m(\u001b[49m\u001b[43mx\u001b[49m\u001b[43m[\u001b[49m\u001b[43mi\u001b[49m\u001b[43m]\u001b[49m\u001b[43m,\u001b[49m\u001b[43m \u001b[49m\u001b[43mbins\u001b[49m\u001b[43m,\u001b[49m\u001b[43m \u001b[49m\u001b[43mweights\u001b[49m\u001b[38;5;241;43m=\u001b[39;49m\u001b[43mw\u001b[49m\u001b[43m[\u001b[49m\u001b[43mi\u001b[49m\u001b[43m]\u001b[49m\u001b[43m,\u001b[49m\u001b[43m \u001b[49m\u001b[38;5;241;43m*\u001b[39;49m\u001b[38;5;241;43m*\u001b[39;49m\u001b[43mhist_kwargs\u001b[49m\u001b[43m)\u001b[49m\n\u001b[0;32m   6708\u001b[0m     tops\u001b[38;5;241m.\u001b[39mappend(m)\n\u001b[0;32m   6709\u001b[0m tops \u001b[38;5;241m=\u001b[39m np\u001b[38;5;241m.\u001b[39marray(tops, \u001b[38;5;28mfloat\u001b[39m)  \u001b[38;5;66;03m# causes problems later if it's an int\u001b[39;00m\n",
      "File \u001b[1;32m<__array_function__ internals>:180\u001b[0m, in \u001b[0;36mhistogram\u001b[1;34m(*args, **kwargs)\u001b[0m\n",
      "File \u001b[1;32m~\\AppData\\Local\\Programs\\Python\\Python38\\lib\\site-packages\\numpy\\lib\\histograms.py:793\u001b[0m, in \u001b[0;36mhistogram\u001b[1;34m(a, bins, range, normed, weights, density)\u001b[0m\n\u001b[0;32m    681\u001b[0m \u001b[38;5;124mr\u001b[39m\u001b[38;5;124;03m\"\"\"\u001b[39;00m\n\u001b[0;32m    682\u001b[0m \u001b[38;5;124;03mCompute the histogram of a dataset.\u001b[39;00m\n\u001b[0;32m    683\u001b[0m \n\u001b[1;32m   (...)\u001b[0m\n\u001b[0;32m    789\u001b[0m \n\u001b[0;32m    790\u001b[0m \u001b[38;5;124;03m\"\"\"\u001b[39;00m\n\u001b[0;32m    791\u001b[0m a, weights \u001b[38;5;241m=\u001b[39m _ravel_and_check_weights(a, weights)\n\u001b[1;32m--> 793\u001b[0m bin_edges, uniform_bins \u001b[38;5;241m=\u001b[39m \u001b[43m_get_bin_edges\u001b[49m\u001b[43m(\u001b[49m\u001b[43ma\u001b[49m\u001b[43m,\u001b[49m\u001b[43m \u001b[49m\u001b[43mbins\u001b[49m\u001b[43m,\u001b[49m\u001b[43m \u001b[49m\u001b[38;5;28;43mrange\u001b[39;49m\u001b[43m,\u001b[49m\u001b[43m \u001b[49m\u001b[43mweights\u001b[49m\u001b[43m)\u001b[49m\n\u001b[0;32m    795\u001b[0m \u001b[38;5;66;03m# Histogram is an integer or a float array depending on the weights.\u001b[39;00m\n\u001b[0;32m    796\u001b[0m \u001b[38;5;28;01mif\u001b[39;00m weights \u001b[38;5;129;01mis\u001b[39;00m \u001b[38;5;28;01mNone\u001b[39;00m:\n",
      "File \u001b[1;32m~\\AppData\\Local\\Programs\\Python\\Python38\\lib\\site-packages\\numpy\\lib\\histograms.py:426\u001b[0m, in \u001b[0;36m_get_bin_edges\u001b[1;34m(a, bins, range, weights)\u001b[0m\n\u001b[0;32m    423\u001b[0m     \u001b[38;5;28;01mif\u001b[39;00m n_equal_bins \u001b[38;5;241m<\u001b[39m \u001b[38;5;241m1\u001b[39m:\n\u001b[0;32m    424\u001b[0m         \u001b[38;5;28;01mraise\u001b[39;00m \u001b[38;5;167;01mValueError\u001b[39;00m(\u001b[38;5;124m'\u001b[39m\u001b[38;5;124m`bins` must be positive, when an integer\u001b[39m\u001b[38;5;124m'\u001b[39m)\n\u001b[1;32m--> 426\u001b[0m     first_edge, last_edge \u001b[38;5;241m=\u001b[39m \u001b[43m_get_outer_edges\u001b[49m\u001b[43m(\u001b[49m\u001b[43ma\u001b[49m\u001b[43m,\u001b[49m\u001b[43m \u001b[49m\u001b[38;5;28;43mrange\u001b[39;49m\u001b[43m)\u001b[49m\n\u001b[0;32m    428\u001b[0m \u001b[38;5;28;01melif\u001b[39;00m np\u001b[38;5;241m.\u001b[39mndim(bins) \u001b[38;5;241m==\u001b[39m \u001b[38;5;241m1\u001b[39m:\n\u001b[0;32m    429\u001b[0m     bin_edges \u001b[38;5;241m=\u001b[39m np\u001b[38;5;241m.\u001b[39masarray(bins)\n",
      "File \u001b[1;32m~\\AppData\\Local\\Programs\\Python\\Python38\\lib\\site-packages\\numpy\\lib\\histograms.py:323\u001b[0m, in \u001b[0;36m_get_outer_edges\u001b[1;34m(a, range)\u001b[0m\n\u001b[0;32m    321\u001b[0m     first_edge, last_edge \u001b[38;5;241m=\u001b[39m a\u001b[38;5;241m.\u001b[39mmin(), a\u001b[38;5;241m.\u001b[39mmax()\n\u001b[0;32m    322\u001b[0m     \u001b[38;5;28;01mif\u001b[39;00m \u001b[38;5;129;01mnot\u001b[39;00m (np\u001b[38;5;241m.\u001b[39misfinite(first_edge) \u001b[38;5;129;01mand\u001b[39;00m np\u001b[38;5;241m.\u001b[39misfinite(last_edge)):\n\u001b[1;32m--> 323\u001b[0m         \u001b[38;5;28;01mraise\u001b[39;00m \u001b[38;5;167;01mValueError\u001b[39;00m(\n\u001b[0;32m    324\u001b[0m             \u001b[38;5;124m\"\u001b[39m\u001b[38;5;124mautodetected range of [\u001b[39m\u001b[38;5;132;01m{}\u001b[39;00m\u001b[38;5;124m, \u001b[39m\u001b[38;5;132;01m{}\u001b[39;00m\u001b[38;5;124m] is not finite\u001b[39m\u001b[38;5;124m\"\u001b[39m\u001b[38;5;241m.\u001b[39mformat(first_edge, last_edge))\n\u001b[0;32m    326\u001b[0m \u001b[38;5;66;03m# expand empty range to avoid divide by zero\u001b[39;00m\n\u001b[0;32m    327\u001b[0m \u001b[38;5;28;01mif\u001b[39;00m first_edge \u001b[38;5;241m==\u001b[39m last_edge:\n",
      "\u001b[1;31mValueError\u001b[0m: autodetected range of [nan, nan] is not finite"
     ]
    },
    {
     "data": {
      "image/png": "[encoded data removed]",
      "text/plain": [
       "<Figure size 500x300 with 1 Axes>"
      ]
     },
     "metadata": {},
     "output_type": "display_data"
    }
   ],
   "source": [
    "bottypes=['fronter','aligner']\n",
    "botnums=[1,4,8,16,21,53]\n",
    "columns=['delta_Vx(per_1sec)','delta_Vy(per_1sec)']\n",
    "#fig, ax = plt.subplots(nrows=5, ncols=2, figsize=(15, 15))\n",
    "#plt.subplots_adjust(hspace=0.5)\n",
    "#fig.suptitle(\"velocity histograms\", fontsize=18, y=0.95)\n",
    "for column in columns:\n",
    "    for botnum in botnums:\n",
    "        fig, ax = plt.subplots(1,1, figsize=(5, 3))\n",
    "        for bottype in bottypes:\n",
    "            relevant_data=velocity_data[((velocity_data['Bot_Type']==bottype)&(velocity_data['Bot_Number']==botnum))] \n",
    "            relevant_data=relevant_data[column]\n",
    "            if bottype=='aligner':\n",
    "                ax.hist(relevant_data,bins=50,label=bottype,alpha=0.5)\n",
    "            else:\n",
    "                 ax.hist(relevant_data,bins=50,label=bottype)\n",
    "        ax.set_title(\"Histogram {} bots in the arena {}\".format(botnum,column))\n",
    "        ax.legend()\n",
    "        #ax.axis([0,5,0,5000])\n",
    "        ax.set_xlabel(\"velocity [pix/sec]\")"
   ]
  },
  {
   "cell_type": "code",
   "execution_count": null,
   "id": "8ad4ee5a-c369-4d81-8c73-3f8db3f80f31",
   "metadata": {},
   "outputs": [],
   "source": []
  }
 ],
 "metadata": {
  "kernelspec": {
   "display_name": "Python 3 (ipykernel)",
   "language": "python",
   "name": "python3"
  },
  "language_info": {
   "codemirror_mode": {
    "name": "ipython",
    "version": 3
   },
   "file_extension": ".py",
   "mimetype": "text/x-python",
   "name": "python",
   "nbconvert_exporter": "python",
   "pygments_lexer": "ipython3",
   "version": "3.8.1"
  }
 },
 "nbformat": 4,
 "nbformat_minor": 5
}
