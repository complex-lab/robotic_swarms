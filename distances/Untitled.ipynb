{
 "cells": [
  {
   "cell_type": "code",
   "execution_count": 1,
   "id": "5140cdc2-8ca9-4203-b281-58784fe38c04",
   "metadata": {},
   "outputs": [],
   "source": [
    "#############imports######################################################################\n",
    "import cv2 as cv2\n",
    "from matplotlib import pyplot as plt\n",
    "import pandas as pd\n",
    "import numpy as np\n",
    "import trackpy as tp\n",
    "import matplotlib.colors as colors\n",
    "from ipywidgets import HBox, Textarea, interact"
   ]
  },
  {
   "cell_type": "code",
   "execution_count": 8,
   "id": "42a99dee-ea19-441e-bd5e-0d1c97efe36d",
   "metadata": {},
   "outputs": [],
   "source": [
    "exp21_File='C:\\\\Users\\\\User\\\\Documents\\\\Eden\\\\locate_git_code\\\\packaged\\\\expSumPack21.csv'\n",
    "expless_File='C:\\\\Users\\\\User\\\\Documents\\\\Eden\\\\locate_git_code\\\\packaged\\\\expSumPack.csv'\n",
    "exp21=pd.read_csv(exp21_File,index_col=0)\n",
    "expless=pd.read_csv(expless_File,index_col=0)\n",
    "exp21_28=exp21[(exp21['passiveDiameter[cm]']==28)]\n",
    "expless_result=pd.concat([expless,exp21_28],axis=0)\n",
    "expless_result.to_csv('C:\\\\Users\\\\User\\\\Documents\\\\Eden\\\\locate_git_code\\\\packaged\\\\expSumPack_botnum_28cm.csv')"
   ]
  },
  {
   "cell_type": "code",
   "execution_count": null,
   "id": "63f31db3-abf3-4c07-9bae-420c53147e09",
   "metadata": {},
   "outputs": [],
   "source": []
  }
 ],
 "metadata": {
  "kernelspec": {
   "display_name": "Python 3 (ipykernel)",
   "language": "python",
   "name": "python3"
  },
  "language_info": {
   "codemirror_mode": {
    "name": "ipython",
    "version": 3
   },
   "file_extension": ".py",
   "mimetype": "text/x-python",
   "name": "python",
   "nbconvert_exporter": "python",
   "pygments_lexer": "ipython3",
   "version": "3.8.1"
  }
 },
 "nbformat": 4,
 "nbformat_minor": 5
}
