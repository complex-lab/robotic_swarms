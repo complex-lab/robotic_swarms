{
 "cells": [
  {
   "cell_type": "code",
   "execution_count": null,
   "id": "5ab88983-b307-45ae-9157-891c0ac56a2d",
   "metadata": {},
   "outputs": [],
   "source": [
    "#%matplotlib inline\n",
    "%matplotlib widget"
   ]
  },
  {
   "cell_type": "code",
   "execution_count": null,
   "id": "0d8e6675-552a-45ed-b9ca-3528c6aa39cf",
   "metadata": {},
   "outputs": [],
   "source": [
    "#############imports######################################################################\n",
    "import cv2 as cv2\n",
    "from matplotlib import pyplot as plt\n",
    "import pandas as pd\n",
    "import numpy as np\n",
    "import trackpy as tp\n",
    "from ipywidgets import HBox, Textarea, interact"
   ]
  },
  {
   "cell_type": "markdown",
   "id": "1ecb7148-345f-4768-8558-a98c33d3d217",
   "metadata": {},
   "source": [
    "## functions"
   ]
  },
  {
   "cell_type": "code",
   "execution_count": null,
   "id": "e3c69fad-b7ac-468e-bd32-bfe1a506d6f0",
   "metadata": {},
   "outputs": [],
   "source": [
    "################functions1##################################################################\n",
    "def l2n(x):\n",
    "    return np.array(x)\n",
    "def parseCircles(circles):\n",
    "    x = []\n",
    "    y = []\n",
    "    r = []\n",
    "    for i in range(len(circles)):\n",
    "        x.append(circles[i,0,0])\n",
    "        y.append(circles[i,0,1])\n",
    "        r.append(circles[i,0,2])\n",
    "        \n",
    "    x,y,r = l2n(x), l2n(y),l2n(r)\n",
    "    return x,y,r"
   ]
  },
  {
   "cell_type": "code",
   "execution_count": null,
   "id": "723a1829-a403-403f-9155-88b7edba7620",
   "metadata": {},
   "outputs": [],
   "source": [
    "#########################functions2#########################################################\n",
    "def preProcessFrame(frame):\n",
    "    #blur and grayout a frame\n",
    "    \n",
    "    # Convert to grayscale.\n",
    "    gray = cv2.cvtColor(frame, cv2.COLOR_BGR2GRAY)\n",
    "      \n",
    "    # Convert to HSV and extract the saturation channel\n",
    "    #sat = cv2.cvtColor(frame, cv2.COLOR_BGR2HSV)[:,:,0]\n",
    "\n",
    "    # median filter\n",
    "    #median = cv2.medianBlur(gray, 3)\n",
    "    #gray_blurred = median\n",
    "    # Blur using 3 * 3 kernel.\n",
    "    blurSize = 10#5\n",
    "    gray_blurred = cv2.blur(gray, (blurSize, blurSize))\n",
    "    \n",
    "    return gray_blurred\n",
    "\n",
    "def detectCircles(frame,minRadius,maxRadius,param1=30,param2=25):\n",
    "    \n",
    "    minDist = minRadius-1\n",
    "    dp = 0.5\n",
    "    # Apply Hough transform on the blurred image.\n",
    "    circles = cv2.HoughCircles(frame, \n",
    "                cv2.HOUGH_GRADIENT,dp, minDist, param1 = param1,\n",
    "                param2 = param2, minRadius = minRadius, maxRadius = maxRadius)\n",
    "\n",
    "    return circles\n",
    "    \n",
    "def captureFrame(video,frame_id):\n",
    "    video.set(cv2.CAP_PROP_POS_FRAMES, frame_id)\n",
    "    ret, frame = video.read()\n",
    "    if ret:\n",
    "        return frame\n",
    "    else:\n",
    "        return ret\n",
    "\n",
    "def drawCircles(circles,ax ):\n",
    "    if circles is not None:  \n",
    "    # Convert the circle parameters a, b and r to integers.\n",
    "    #detected_circles = np.uint16(np.around(detected_circles))\n",
    "    #fig, ax = plt.subplots() \n",
    "        for pt in circles[0, :]:\n",
    "            a, b, r = pt[0], pt[1], pt[2]\n",
    "            circle = plt.Circle((a, b), r, color='r',fill=False)\n",
    "            ax.add_patch(circle)\n",
    "            #ax.imshow(frame, cmap = 'gray')\n",
    "\n",
    "def drawCirclesDf(df,ax ):\n",
    "    \n",
    "    \n",
    "    for index, row in df.iterrows():\n",
    "        x,y,r = row.x,row.y,row.r\n",
    "        circle = plt.Circle((x, y), r, color='r',fill=False)\n",
    "        ax.add_patch(circle)\n",
    "\n",
    "def circlesToDataFrame(circles,frameNum):    \n",
    "    x,y,r = parseCircles(circles)\n",
    "    data = {'frame':[int(frameNum)]*len(circles),'x':x,'y':y,'r':r}\n",
    "    dft = pd.DataFrame(data = data)\n",
    "    \n",
    "    return dft\n",
    "\n",
    "\n",
    "def cropImage(img,x0,y0,width,height):\n",
    "    return img[y0:y0+height,x0:x0+width,:]\n",
    "'''def cropImage(img,x0,y0,width,height):\n",
    "    d = len(img.shape)\n",
    "    if d==2: #grayscale\n",
    "        return img[y0:y0+height,x0:x0+width]\n",
    "    elif d==3: #rgb\n",
    "        return img[y0:y0+height,x0:x0+width,:]\n",
    "'''\n",
    "def drawPassiveParticleOnFrame(frameNum):\n",
    "    \n",
    "    dff =df[df.frame==frameNum]\n",
    "    \n",
    "    x,y,r = dff.x.values,dff.y.values,dff.r.values\n",
    "    \n",
    "    circles = [[x,y,r]]\n",
    "    frame  = captureFrame(video,frameNum)\n",
    "    img = frame#cropImage(frame,x0,y0,width0,height0)\n",
    "    ax1.cla()\n",
    "    ax1.imshow(img)\n",
    "    drawCirclesDf(dff,ax1)\n",
    "    \n",
    "    #ax.imshow(img, cmap='Greys')"
   ]
  },
  {
   "cell_type": "markdown",
   "id": "75521b62-6552-4098-b617-c9a166a5a9c1",
   "metadata": {},
   "source": [
    "## video filenames"
   ]
  },
  {
   "cell_type": "code",
   "execution_count": null,
   "id": "a002194b-d191-4732-820b-b9ba8766ceaf",
   "metadata": {},
   "outputs": [],
   "source": [
    "#fileName = \"D:\\Eden\\20221208\\fronters22\\C0486shortLabeled.MP4\"\n",
    "\n",
    "#VERY GOOD\n",
    "#fileName = 'D:\\\\Eden\\\\20221213\\\\fronters21\\\\C0492.MP4'\n",
    "locateFileNameSuffix = '_locatedFull20230107a.csv'#suffix of the \n",
    "#fileNameVideo = 'D:\\\\Matan\\\\20221217\\\\fronters53passive28cm\\\\C0505.MP4'#'D:\\\\Eden\\\\29_12_22\\\\frontes_21_7cm\\\\C0538.MP4'#'D:\\\\Eden\\\\29_12_22\\\\aligners_21_7cm\\\\C0547.MP4'#'D:\\\\Eden\\\\3_1_23\\\\aligners_21_32cm\\\\C0552.MP4' #'D:\\\\Eden\\\\20221213\\\\fronters21\\\\C0492.MP4'#'D:\\\\Matan\\\\20221218\\\\aligners53passive28cm\\\\C0510.MP4'#'D:\\\\Eden\\\\20221213\\\\aligners21\\\\C0494.MP4'#'D:\\\\Eden\\\\5_1_23\\\\fronters8passive28cm\\\\C0562.MP4' #'D:\\\\Eden\\\\5_1_23\\\\fronters8passive28cm\\\\C0562.MP4'\n",
    "fileNameVideo = 'D:\\\\Eden\\\\27_12_22\\\\fronters-12cm\\\\C0535.MP4'#'test.mp4'#'./C0511coppedTrimmedGray.MP4'\n",
    "fileNameLocated = fileNameVideo+locateFileNameSuffix\n",
    "arenaSizePixels = 1090 # [pixels]\n",
    "arenaSizeCm = 150 # [cm]\n",
    "\n"
   ]
  },
  {
   "cell_type": "markdown",
   "id": "c4610868-a6c9-4dd1-bb97-96bccd433417",
   "metadata": {},
   "source": [
    "## video parameters"
   ]
  },
  {
   "cell_type": "code",
   "execution_count": null,
   "id": "cc441ce2-8004-4f99-9617-e8e45e6c8ae4",
   "metadata": {},
   "outputs": [],
   "source": [
    "# Load video file\n",
    "video = cv2.VideoCapture(fileNameVideo)\n",
    "# Load locating file\n",
    "df = pd.read_csv(fileNameLocated)\n",
    "\n",
    "#get videos properties\n",
    "width  = video.get(cv2.CAP_PROP_FRAME_WIDTH )\n",
    "height = video.get(cv2.CAP_PROP_FRAME_HEIGHT )\n",
    "fps = video.get(cv2.CAP_PROP_FPS)      # OpenCV v2.x used \"CV_CAP_PROP_FPS\"\n",
    "frameCount = int(video.get(cv2.CAP_PROP_FRAME_COUNT))\n",
    "pixelSize = arenaSizeCm/arenaSizePixels"
   ]
  },
  {
   "cell_type": "markdown",
   "id": "096b1315-1815-44eb-93f6-fd1fee65ae4c",
   "metadata": {},
   "source": [
    "## Locating params"
   ]
  },
  {
   "cell_type": "code",
   "execution_count": null,
   "id": "8905a24a-a2ef-4e54-a7e8-eaf189dc9271",
   "metadata": {},
   "outputs": [],
   "source": [
    "x0,y0 = 310,0\n",
    "width0,height0 = 1160,1080\n",
    "\n",
    "#frameNum = 1500\n",
    "threshMin = 10\n",
    "threshMax = 300\n",
    "\n",
    "radiusMin = 22\n",
    "radiusMax = 24\n",
    "\n",
    "param1 = 35#100#25#35#30#25#25\n",
    "param2 = 10#35\n",
    "\n",
    "\n",
    "\n",
    "frameRange = df.frame.unique()#range(frameMin,frameMax,frameSkip)"
   ]
  },
  {
   "cell_type": "code",
   "execution_count": null,
   "id": "db6ee092-bddd-4011-8a9d-e6a422c2e8d4",
   "metadata": {},
   "outputs": [],
   "source": [
    "frameMin=0\n",
    "frameNum = frameMin\n",
    "\n",
    "frameNum = 1000\n",
    "\n",
    "boxSize = int(2*(2*radiusMax))\n",
    "boxSize = 300\n",
    "wc,hc = boxSize,boxSize\n",
    "#xc,yc = int(958-boxSize/2),int(548-boxSize/2)\n",
    "xc,yc = boxSize/2,boxSize/2\n",
    "\n",
    "fig,ax= plt.subplots()\n",
    "img = captureFrame(video,frameNum)\n",
    "#imgRed = img[:,:,0]\n",
    "#imgCropped = cropImage(imgRed,x0,y0,width0,height0)\n",
    "imgCropped = img#cropImage(img,xc,yc,wc,hc)\n",
    "\n",
    "imgE = cv2.Canny(imgCropped,threshMin,threshMax)\n",
    "\n",
    "ax.imshow(imgCropped)\n",
    "#drawCircles(circles,plt.gca())"
   ]
  },
  {
   "cell_type": "code",
   "execution_count": null,
   "id": "a8a2b1a7-8358-497c-91b5-29e792a1a5ea",
   "metadata": {},
   "outputs": [],
   "source": [
    "plt.ioff()\n",
    "fig1 = plt.figure()\n",
    "ax1 = fig1.gca()\n",
    "#ax.imshow(frame,cmap='Greys')\n",
    "plt.ion()\n",
    "#fig1.canvas"
   ]
  },
  {
   "cell_type": "markdown",
   "id": "3060237c-8431-4947-b6a6-d7d369fcc3c1",
   "metadata": {},
   "source": [
    "## widget cell"
   ]
  },
  {
   "cell_type": "code",
   "execution_count": null,
   "id": "7af1645c-61ba-414d-8f12-f101603ea85b",
   "metadata": {},
   "outputs": [],
   "source": [
    "########################################widget_cell#####################################################################################\n",
    "#fig,ax = plt.subplots()\n",
    "starting_point=2100\n",
    "frame_step=1\n",
    "frameRange= range(starting_point,frameCount,frame_step)\n",
    "@interact(frameNum=frameRange)#df.frame.values)    \n",
    "HBox([fig1.canvas])"
   ]
  }
 ],
 "metadata": {
  "kernelspec": {
   "display_name": "Python 3 (ipykernel)",
   "language": "python",
   "name": "python3"
  },
  "language_info": {
   "codemirror_mode": {
    "name": "ipython",
    "version": 3
   },
   "file_extension": ".py",
   "mimetype": "text/x-python",
   "name": "python",
   "nbconvert_exporter": "python",
   "pygments_lexer": "ipython3",
   "version": "3.8.1"
  }
 },
 "nbformat": 4,
 "nbformat_minor": 5
}
